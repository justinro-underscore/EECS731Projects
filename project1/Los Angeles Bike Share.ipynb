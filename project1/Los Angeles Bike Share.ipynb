{
 "cells": [
  {
   "cell_type": "markdown",
   "metadata": {},
   "source": [
    "# Jimmy Wrangler Project"
   ]
  },
  {
   "cell_type": "markdown",
   "metadata": {},
   "source": [
    "In the face of climate change and global warming, society today is more obsessed than ever about taking care of the environment. One way that people have begun to take steps in their everyday lives to cut down on their CO2 emissions is by switching their vehicle of commute from automobiles to bicycles.\n",
    "\n",
    "According to a Statista statistic ([Click here](https://www.statista.com/statistics/740346/global-bicycle-market-size/)), the global bicycle market is expected to grow by a factor of __1.35__ by 2024. The bicycle market is booming, and there is great money to be made in this industry."
   ]
  },
  {
   "cell_type": "markdown",
   "metadata": {},
   "source": [
    "One way that companies have taken advantage of this growth is through the development of bike share programs, such as the [Metro Bike Share Program](https://bikeshare.metro.net/about/) in Los Angeles. Metro Bike Share's goal is to provide bikes for people all around the Los Angeles area to cut down on carbon emissions and get more fit. They also release all the data they collect for people to use.\n",
    "\n",
    "**Today, we will analyze the most recent bike share data in order to determine where to expand the program and where the program needs a heavier focus on maintenance**"
   ]
  },
  {
   "cell_type": "markdown",
   "metadata": {},
   "source": [
    "## Retrieve the Data\n",
    "The data can be pulled from the [Metro Bike Share Program's Website](https://bikeshare.metro.net/about/data/), where we will pull the most recent data (2019 - Q3)."
   ]
  },
  {
   "cell_type": "code",
   "execution_count": 1,
   "metadata": {},
   "outputs": [],
   "source": [
    "import numpy as np\n",
    "import pandas as pd"
   ]
  },
  {
   "cell_type": "markdown",
   "metadata": {},
   "source": [
    "### Bike Share Trip Data\n",
    "First, we will pull the trip data:"
   ]
  },
  {
   "cell_type": "code",
   "execution_count": 2,
   "metadata": {},
   "outputs": [
    {
     "name": "stderr",
     "output_type": "stream",
     "text": [
      "/usr/local/lib/python3.5/dist-packages/IPython/core/interactiveshell.py:3058: DtypeWarning: Columns (10) have mixed types. Specify dtype option on import or set low_memory=False.\n",
      "  interactivity=interactivity, compiler=compiler, result=result)\n"
     ]
    }
   ],
   "source": [
    "bs_trips = pd.read_csv('../data/raw/metro-bike-share-trips-2019-q3.csv')"
   ]
  },
  {
   "cell_type": "markdown",
   "metadata": {},
   "source": [
    "There seems to be some problems with the 10th column in this file. It seems that there are multiple types in this column. We'll go ahead and import it with a generic type, and then come back to it later to figure out a more permanent solution."
   ]
  },
  {
   "cell_type": "code",
   "execution_count": 3,
   "metadata": {
    "scrolled": false
   },
   "outputs": [
    {
     "data": {
      "text/html": [
       "<div>\n",
       "<style scoped>\n",
       "    .dataframe tbody tr th:only-of-type {\n",
       "        vertical-align: middle;\n",
       "    }\n",
       "\n",
       "    .dataframe tbody tr th {\n",
       "        vertical-align: top;\n",
       "    }\n",
       "\n",
       "    .dataframe thead th {\n",
       "        text-align: right;\n",
       "    }\n",
       "</style>\n",
       "<table border=\"1\" class=\"dataframe\">\n",
       "  <thead>\n",
       "    <tr style=\"text-align: right;\">\n",
       "      <th></th>\n",
       "      <th>trip_id</th>\n",
       "      <th>duration</th>\n",
       "      <th>start_time</th>\n",
       "      <th>end_time</th>\n",
       "      <th>start_station</th>\n",
       "      <th>start_lat</th>\n",
       "      <th>start_lon</th>\n",
       "      <th>end_station</th>\n",
       "      <th>end_lat</th>\n",
       "      <th>end_lon</th>\n",
       "      <th>bike_id</th>\n",
       "      <th>plan_duration</th>\n",
       "      <th>trip_route_category</th>\n",
       "      <th>passholder_type</th>\n",
       "      <th>bike_type</th>\n",
       "    </tr>\n",
       "  </thead>\n",
       "  <tbody>\n",
       "    <tr>\n",
       "      <th>0</th>\n",
       "      <td>124657107</td>\n",
       "      <td>5</td>\n",
       "      <td>7/1/2019 0:04</td>\n",
       "      <td>7/1/2019 0:09</td>\n",
       "      <td>4312</td>\n",
       "      <td>34.066990</td>\n",
       "      <td>-118.290878</td>\n",
       "      <td>4410</td>\n",
       "      <td>34.063351</td>\n",
       "      <td>-118.296799</td>\n",
       "      <td>6168</td>\n",
       "      <td>30</td>\n",
       "      <td>One Way</td>\n",
       "      <td>Monthly Pass</td>\n",
       "      <td>standard</td>\n",
       "    </tr>\n",
       "    <tr>\n",
       "      <th>1</th>\n",
       "      <td>124657587</td>\n",
       "      <td>9</td>\n",
       "      <td>7/1/2019 0:07</td>\n",
       "      <td>7/1/2019 0:16</td>\n",
       "      <td>3066</td>\n",
       "      <td>34.063389</td>\n",
       "      <td>-118.236160</td>\n",
       "      <td>3066</td>\n",
       "      <td>34.063389</td>\n",
       "      <td>-118.236160</td>\n",
       "      <td>17584</td>\n",
       "      <td>30</td>\n",
       "      <td>Round Trip</td>\n",
       "      <td>Monthly Pass</td>\n",
       "      <td>electric</td>\n",
       "    </tr>\n",
       "    <tr>\n",
       "      <th>2</th>\n",
       "      <td>124658068</td>\n",
       "      <td>5</td>\n",
       "      <td>7/1/2019 0:20</td>\n",
       "      <td>7/1/2019 0:25</td>\n",
       "      <td>4410</td>\n",
       "      <td>34.063351</td>\n",
       "      <td>-118.296799</td>\n",
       "      <td>4312</td>\n",
       "      <td>34.066990</td>\n",
       "      <td>-118.290878</td>\n",
       "      <td>18920</td>\n",
       "      <td>30</td>\n",
       "      <td>One Way</td>\n",
       "      <td>Monthly Pass</td>\n",
       "      <td>electric</td>\n",
       "    </tr>\n",
       "    <tr>\n",
       "      <th>3</th>\n",
       "      <td>124659747</td>\n",
       "      <td>20</td>\n",
       "      <td>7/1/2019 0:44</td>\n",
       "      <td>7/1/2019 1:04</td>\n",
       "      <td>3045</td>\n",
       "      <td>34.028511</td>\n",
       "      <td>-118.256668</td>\n",
       "      <td>4275</td>\n",
       "      <td>34.012520</td>\n",
       "      <td>-118.285896</td>\n",
       "      <td>6016</td>\n",
       "      <td>1</td>\n",
       "      <td>One Way</td>\n",
       "      <td>Walk-up</td>\n",
       "      <td>standard</td>\n",
       "    </tr>\n",
       "    <tr>\n",
       "      <th>4</th>\n",
       "      <td>124660227</td>\n",
       "      <td>27</td>\n",
       "      <td>7/1/2019 0:44</td>\n",
       "      <td>7/1/2019 1:11</td>\n",
       "      <td>3035</td>\n",
       "      <td>34.048401</td>\n",
       "      <td>-118.260948</td>\n",
       "      <td>3049</td>\n",
       "      <td>34.056969</td>\n",
       "      <td>-118.253593</td>\n",
       "      <td>5867</td>\n",
       "      <td>30</td>\n",
       "      <td>One Way</td>\n",
       "      <td>Monthly Pass</td>\n",
       "      <td>standard</td>\n",
       "    </tr>\n",
       "  </tbody>\n",
       "</table>\n",
       "</div>"
      ],
      "text/plain": [
       "     trip_id  duration     start_time       end_time  start_station  \\\n",
       "0  124657107         5  7/1/2019 0:04  7/1/2019 0:09           4312   \n",
       "1  124657587         9  7/1/2019 0:07  7/1/2019 0:16           3066   \n",
       "2  124658068         5  7/1/2019 0:20  7/1/2019 0:25           4410   \n",
       "3  124659747        20  7/1/2019 0:44  7/1/2019 1:04           3045   \n",
       "4  124660227        27  7/1/2019 0:44  7/1/2019 1:11           3035   \n",
       "\n",
       "   start_lat   start_lon  end_station    end_lat     end_lon bike_id  \\\n",
       "0  34.066990 -118.290878         4410  34.063351 -118.296799    6168   \n",
       "1  34.063389 -118.236160         3066  34.063389 -118.236160   17584   \n",
       "2  34.063351 -118.296799         4312  34.066990 -118.290878   18920   \n",
       "3  34.028511 -118.256668         4275  34.012520 -118.285896    6016   \n",
       "4  34.048401 -118.260948         3049  34.056969 -118.253593    5867   \n",
       "\n",
       "   plan_duration trip_route_category passholder_type bike_type  \n",
       "0             30             One Way    Monthly Pass  standard  \n",
       "1             30          Round Trip    Monthly Pass  electric  \n",
       "2             30             One Way    Monthly Pass  electric  \n",
       "3              1             One Way         Walk-up  standard  \n",
       "4             30             One Way    Monthly Pass  standard  "
      ]
     },
     "execution_count": 3,
     "metadata": {},
     "output_type": "execute_result"
    }
   ],
   "source": [
    "bs_trips = pd.read_csv('../data/raw/metro-bike-share-trips-2019-q3.csv', dtype={10: np.object})\n",
    "bs_trips.head()"
   ]
  },
  {
   "cell_type": "markdown",
   "metadata": {},
   "source": [
    "Let's analyze the columns in this dataset"
   ]
  },
  {
   "cell_type": "code",
   "execution_count": 4,
   "metadata": {},
   "outputs": [
    {
     "data": {
      "text/plain": [
       "Index(['trip_id', 'duration', 'start_time', 'end_time', 'start_station',\n",
       "       'start_lat', 'start_lon', 'end_station', 'end_lat', 'end_lon',\n",
       "       'bike_id', 'plan_duration', 'trip_route_category', 'passholder_type',\n",
       "       'bike_type'],\n",
       "      dtype='object')"
      ]
     },
     "execution_count": 4,
     "metadata": {},
     "output_type": "execute_result"
    }
   ],
   "source": [
    "bs_trips.keys()"
   ]
  },
  {
   "cell_type": "markdown",
   "metadata": {},
   "source": [
    "|Key                |Description|\n",
    "|:------------------|:----------|\n",
    "|trip_id            |Identifier for the trip|\n",
    "|duration           |How long the trip takes (in minutes)|\n",
    "|start_time         |The start time of the trip|\n",
    "|end_time           |The end time of the trip|\n",
    "|start_station      |Identifier for the station where the user starts their trip|\n",
    "|start_lat          |Latitude of the start station|\n",
    "|start_lon          |Longitude of the start station|\n",
    "|end_station        |Identifier for the station where the user ends their trip|\n",
    "|end_lat            |Latitude of the end station|\n",
    "|end_lon            |Longitude of the end station|\n",
    "|bike_id            |Identifier for the bike (keep in mind, this was our problem column from earlier|\n",
    "|plan_duration      |The number of days that the plan the user is using|\n",
    "|trip_route_category|\"Round Trip\" if the user ends in the same place they started. \"One Way\" otherwise|\n",
    "|passholder_type    |The name of the user's plan|\n",
    "|bike_type          |The type of bike that is being used|"
   ]
  },
  {
   "cell_type": "markdown",
   "metadata": {},
   "source": [
    "And finally, a little extra information:"
   ]
  },
  {
   "cell_type": "code",
   "execution_count": 5,
   "metadata": {},
   "outputs": [
    {
     "name": "stdout",
     "output_type": "stream",
     "text": [
      "<class 'pandas.core.frame.DataFrame'>\n",
      "RangeIndex: 92124 entries, 0 to 92123\n",
      "Data columns (total 15 columns):\n",
      "trip_id                92124 non-null int64\n",
      "duration               92124 non-null int64\n",
      "start_time             92124 non-null object\n",
      "end_time               92124 non-null object\n",
      "start_station          92124 non-null int64\n",
      "start_lat              89985 non-null float64\n",
      "start_lon              89985 non-null float64\n",
      "end_station            92124 non-null int64\n",
      "end_lat                88052 non-null float64\n",
      "end_lon                88052 non-null float64\n",
      "bike_id                92124 non-null object\n",
      "plan_duration          92124 non-null int64\n",
      "trip_route_category    92124 non-null object\n",
      "passholder_type        92124 non-null object\n",
      "bike_type              92124 non-null object\n",
      "dtypes: float64(4), int64(5), object(6)\n",
      "memory usage: 10.5+ MB\n"
     ]
    }
   ],
   "source": [
    "bs_trips.info()"
   ]
  },
  {
   "cell_type": "markdown",
   "metadata": {},
   "source": [
    "### Station Data\n",
    "Next, we'll pull the station data:"
   ]
  },
  {
   "cell_type": "code",
   "execution_count": 6,
   "metadata": {},
   "outputs": [
    {
     "data": {
      "text/html": [
       "<div>\n",
       "<style scoped>\n",
       "    .dataframe tbody tr th:only-of-type {\n",
       "        vertical-align: middle;\n",
       "    }\n",
       "\n",
       "    .dataframe tbody tr th {\n",
       "        vertical-align: top;\n",
       "    }\n",
       "\n",
       "    .dataframe thead th {\n",
       "        text-align: right;\n",
       "    }\n",
       "</style>\n",
       "<table border=\"1\" class=\"dataframe\">\n",
       "  <thead>\n",
       "    <tr style=\"text-align: right;\">\n",
       "      <th></th>\n",
       "      <th>Station_ID</th>\n",
       "      <th>Station_Name</th>\n",
       "      <th>Go_live_date</th>\n",
       "      <th>Region</th>\n",
       "      <th>Status</th>\n",
       "    </tr>\n",
       "  </thead>\n",
       "  <tbody>\n",
       "    <tr>\n",
       "      <th>0</th>\n",
       "      <td>3000</td>\n",
       "      <td>Virtual Station</td>\n",
       "      <td>7/7/2016</td>\n",
       "      <td>NaN</td>\n",
       "      <td>Active</td>\n",
       "    </tr>\n",
       "    <tr>\n",
       "      <th>1</th>\n",
       "      <td>3005</td>\n",
       "      <td>7th &amp; Flower</td>\n",
       "      <td>7/7/2016</td>\n",
       "      <td>DTLA</td>\n",
       "      <td>Active</td>\n",
       "    </tr>\n",
       "    <tr>\n",
       "      <th>2</th>\n",
       "      <td>3006</td>\n",
       "      <td>Olive &amp; 8th</td>\n",
       "      <td>7/7/2016</td>\n",
       "      <td>DTLA</td>\n",
       "      <td>Active</td>\n",
       "    </tr>\n",
       "    <tr>\n",
       "      <th>3</th>\n",
       "      <td>3007</td>\n",
       "      <td>5th &amp; Grand</td>\n",
       "      <td>7/7/2016</td>\n",
       "      <td>DTLA</td>\n",
       "      <td>Active</td>\n",
       "    </tr>\n",
       "    <tr>\n",
       "      <th>4</th>\n",
       "      <td>3008</td>\n",
       "      <td>Figueroa &amp; 9th</td>\n",
       "      <td>7/7/2016</td>\n",
       "      <td>DTLA</td>\n",
       "      <td>Active</td>\n",
       "    </tr>\n",
       "  </tbody>\n",
       "</table>\n",
       "</div>"
      ],
      "text/plain": [
       "   Station_ID     Station_Name Go_live_date Region   Status\n",
       "0        3000  Virtual Station     7/7/2016     NaN  Active\n",
       "1        3005     7th & Flower     7/7/2016    DTLA  Active\n",
       "2        3006      Olive & 8th     7/7/2016    DTLA  Active\n",
       "3        3007      5th & Grand     7/7/2016    DTLA  Active\n",
       "4        3008   Figueroa & 9th     7/7/2016    DTLA  Active"
      ]
     },
     "execution_count": 6,
     "metadata": {},
     "output_type": "execute_result"
    }
   ],
   "source": [
    "bs_stations = pd.read_csv('../data/raw/metro-bike-share-stations-2019-10-1.csv')\n",
    "bs_stations.head()"
   ]
  },
  {
   "cell_type": "markdown",
   "metadata": {},
   "source": [
    "That import went much more smoothly. Let's analyze the columns:"
   ]
  },
  {
   "cell_type": "code",
   "execution_count": 7,
   "metadata": {},
   "outputs": [
    {
     "data": {
      "text/plain": [
       "Index(['Station_ID', 'Station_Name', 'Go_live_date', 'Region ', 'Status'], dtype='object')"
      ]
     },
     "execution_count": 7,
     "metadata": {},
     "output_type": "execute_result"
    }
   ],
   "source": [
    "bs_stations.keys()"
   ]
  },
  {
   "cell_type": "markdown",
   "metadata": {},
   "source": [
    "|Key         |Description|\n",
    "|:-----------|:----------|\n",
    "|Station_ID  |Identifier for the station|\n",
    "|Station_Name|Intersection where the station is located|\n",
    "|Go_live_date|When the station was first made active|\n",
    "|Region      |The municipality or area where a station is located|\n",
    "|Status      |\"Active\" if the station is still operable, \"Inactive\" if the station has been shut down|"
   ]
  },
  {
   "cell_type": "markdown",
   "metadata": {},
   "source": [
    "And finally, a little extra information:"
   ]
  },
  {
   "cell_type": "code",
   "execution_count": 8,
   "metadata": {},
   "outputs": [
    {
     "name": "stdout",
     "output_type": "stream",
     "text": [
      "<class 'pandas.core.frame.DataFrame'>\n",
      "RangeIndex: 245 entries, 0 to 244\n",
      "Data columns (total 5 columns):\n",
      "Station_ID      245 non-null int64\n",
      "Station_Name    245 non-null object\n",
      "Go_live_date    245 non-null object\n",
      "Region          244 non-null object\n",
      "Status          245 non-null object\n",
      "dtypes: int64(1), object(4)\n",
      "memory usage: 9.6+ KB\n"
     ]
    }
   ],
   "source": [
    "bs_stations.info()"
   ]
  },
  {
   "cell_type": "markdown",
   "metadata": {},
   "source": [
    "## Cleaning Up the Data"
   ]
  },
  {
   "cell_type": "markdown",
   "metadata": {},
   "source": [
    "### Trip Cleanup\n",
    "Let's start by going back to our import issue with the trip data. Let's analyze column 10 (`bike_id`) in the trip dataframe:"
   ]
  },
  {
   "cell_type": "code",
   "execution_count": 9,
   "metadata": {},
   "outputs": [
    {
     "data": {
      "text/plain": [
       "count     92124\n",
       "unique     2042\n",
       "top       17584\n",
       "freq        397\n",
       "Name: bike_id, dtype: object"
      ]
     },
     "execution_count": 9,
     "metadata": {},
     "output_type": "execute_result"
    }
   ],
   "source": [
    "bs_trips[\"bike_id\"].describe()"
   ]
  },
  {
   "cell_type": "code",
   "execution_count": 10,
   "metadata": {},
   "outputs": [
    {
     "data": {
      "text/plain": [
       "0     6168\n",
       "1    17584\n",
       "2    18920\n",
       "3     6016\n",
       "4     5867\n",
       "Name: bike_id, dtype: object"
      ]
     },
     "execution_count": 10,
     "metadata": {},
     "output_type": "execute_result"
    }
   ],
   "source": [
    "bs_trips[\"bike_id\"].head()"
   ]
  },
  {
   "cell_type": "markdown",
   "metadata": {},
   "source": [
    "It looks like the values should be numerics, but there must be an invalid value to give us the error we got during import. Let's check and see if all of our values are indeed numerics."
   ]
  },
  {
   "cell_type": "code",
   "execution_count": 11,
   "metadata": {},
   "outputs": [
    {
     "data": {
      "text/html": [
       "<div>\n",
       "<style scoped>\n",
       "    .dataframe tbody tr th:only-of-type {\n",
       "        vertical-align: middle;\n",
       "    }\n",
       "\n",
       "    .dataframe tbody tr th {\n",
       "        vertical-align: top;\n",
       "    }\n",
       "\n",
       "    .dataframe thead th {\n",
       "        text-align: right;\n",
       "    }\n",
       "</style>\n",
       "<table border=\"1\" class=\"dataframe\">\n",
       "  <thead>\n",
       "    <tr style=\"text-align: right;\">\n",
       "      <th></th>\n",
       "      <th>trip_id</th>\n",
       "      <th>duration</th>\n",
       "      <th>start_time</th>\n",
       "      <th>end_time</th>\n",
       "      <th>start_station</th>\n",
       "      <th>start_lat</th>\n",
       "      <th>start_lon</th>\n",
       "      <th>end_station</th>\n",
       "      <th>end_lat</th>\n",
       "      <th>end_lon</th>\n",
       "      <th>bike_id</th>\n",
       "      <th>plan_duration</th>\n",
       "      <th>trip_route_category</th>\n",
       "      <th>passholder_type</th>\n",
       "      <th>bike_type</th>\n",
       "    </tr>\n",
       "  </thead>\n",
       "  <tbody>\n",
       "    <tr>\n",
       "      <th>32309</th>\n",
       "      <td>126711706</td>\n",
       "      <td>10</td>\n",
       "      <td>8/5/2019 5:32</td>\n",
       "      <td>8/5/2019 5:42</td>\n",
       "      <td>3000</td>\n",
       "      <td>NaN</td>\n",
       "      <td>NaN</td>\n",
       "      <td>3000</td>\n",
       "      <td>NaN</td>\n",
       "      <td>NaN</td>\n",
       "      <td>Rblock</td>\n",
       "      <td>365</td>\n",
       "      <td>Round Trip</td>\n",
       "      <td>Walk-up</td>\n",
       "      <td>standard</td>\n",
       "    </tr>\n",
       "    <tr>\n",
       "      <th>32313</th>\n",
       "      <td>126712182</td>\n",
       "      <td>7</td>\n",
       "      <td>8/5/2019 5:43</td>\n",
       "      <td>8/5/2019 5:50</td>\n",
       "      <td>3000</td>\n",
       "      <td>NaN</td>\n",
       "      <td>NaN</td>\n",
       "      <td>3000</td>\n",
       "      <td>NaN</td>\n",
       "      <td>NaN</td>\n",
       "      <td>Rblock</td>\n",
       "      <td>365</td>\n",
       "      <td>Round Trip</td>\n",
       "      <td>Walk-up</td>\n",
       "      <td>standard</td>\n",
       "    </tr>\n",
       "  </tbody>\n",
       "</table>\n",
       "</div>"
      ],
      "text/plain": [
       "         trip_id  duration     start_time       end_time  start_station  \\\n",
       "32309  126711706        10  8/5/2019 5:32  8/5/2019 5:42           3000   \n",
       "32313  126712182         7  8/5/2019 5:43  8/5/2019 5:50           3000   \n",
       "\n",
       "       start_lat  start_lon  end_station  end_lat  end_lon bike_id  \\\n",
       "32309        NaN        NaN         3000      NaN      NaN  Rblock   \n",
       "32313        NaN        NaN         3000      NaN      NaN  Rblock   \n",
       "\n",
       "       plan_duration trip_route_category passholder_type bike_type  \n",
       "32309            365          Round Trip         Walk-up  standard  \n",
       "32313            365          Round Trip         Walk-up  standard  "
      ]
     },
     "execution_count": 11,
     "metadata": {},
     "output_type": "execute_result"
    }
   ],
   "source": [
    "bs_trips[~bs_trips[\"bike_id\"].str.isnumeric()]"
   ]
  },
  {
   "cell_type": "markdown",
   "metadata": {},
   "source": [
    "Aha! It looks like we have 2 values that we were not expecting. The `bike_id` value for these two entries above is `\"Rblock\"`, a string, not a numeric. This would make sense why we had trouble importing before. Looking at the information, it looks like we can just ignore these two entries because they do not provide any particularly useful information. We will keep in mind that we got rid of these later in case it comes up again."
   ]
  },
  {
   "cell_type": "code",
   "execution_count": 12,
   "metadata": {},
   "outputs": [],
   "source": [
    "indecesToDrop = bs_trips[~bs_trips[\"bike_id\"].str.isnumeric()].index\n",
    "bs_trips.drop(indecesToDrop, inplace=True)\n",
    "bs_trips[\"bike_id\"] = pd.to_numeric(bs_trips[\"bike_id\"])"
   ]
  },
  {
   "cell_type": "markdown",
   "metadata": {},
   "source": [
    "Next, let's make sure we don't have any duplicate trips. We can do this by checking the trip IDs:"
   ]
  },
  {
   "cell_type": "code",
   "execution_count": 13,
   "metadata": {},
   "outputs": [
    {
     "data": {
      "text/plain": [
       "True"
      ]
     },
     "execution_count": 13,
     "metadata": {},
     "output_type": "execute_result"
    }
   ],
   "source": [
    "bs_trips_value_counts = bs_trips[\"trip_id\"].value_counts()\n",
    "bs_trips_value_counts[bs_trips_value_counts > 1].empty"
   ]
  },
  {
   "cell_type": "markdown",
   "metadata": {},
   "source": [
    "Awesome! We have no duplicate trips. Finally, let's run through the rest of our data and make sure it all looks up to code. Let's start by checking for null:"
   ]
  },
  {
   "cell_type": "code",
   "execution_count": 14,
   "metadata": {},
   "outputs": [
    {
     "data": {
      "text/plain": [
       "trip_id                   0\n",
       "duration                  0\n",
       "start_time                0\n",
       "end_time                  0\n",
       "start_station             0\n",
       "start_lat              2137\n",
       "start_lon              2137\n",
       "end_station               0\n",
       "end_lat                4070\n",
       "end_lon                4070\n",
       "bike_id                   0\n",
       "plan_duration             0\n",
       "trip_route_category       0\n",
       "passholder_type           0\n",
       "bike_type                 0\n",
       "dtype: int64"
      ]
     },
     "execution_count": 14,
     "metadata": {},
     "output_type": "execute_result"
    }
   ],
   "source": [
    "bs_trips.isnull().sum()"
   ]
  },
  {
   "cell_type": "markdown",
   "metadata": {},
   "source": [
    "Strange, we seem to be having some null values for some latitude and longitude. Let's look more closely:"
   ]
  },
  {
   "cell_type": "code",
   "execution_count": 15,
   "metadata": {},
   "outputs": [
    {
     "data": {
      "text/html": [
       "<div>\n",
       "<style scoped>\n",
       "    .dataframe tbody tr th:only-of-type {\n",
       "        vertical-align: middle;\n",
       "    }\n",
       "\n",
       "    .dataframe tbody tr th {\n",
       "        vertical-align: top;\n",
       "    }\n",
       "\n",
       "    .dataframe thead th {\n",
       "        text-align: right;\n",
       "    }\n",
       "</style>\n",
       "<table border=\"1\" class=\"dataframe\">\n",
       "  <thead>\n",
       "    <tr style=\"text-align: right;\">\n",
       "      <th></th>\n",
       "      <th>trip_id</th>\n",
       "      <th>duration</th>\n",
       "      <th>start_time</th>\n",
       "      <th>end_time</th>\n",
       "      <th>start_station</th>\n",
       "      <th>start_lat</th>\n",
       "      <th>start_lon</th>\n",
       "      <th>end_station</th>\n",
       "      <th>end_lat</th>\n",
       "      <th>end_lon</th>\n",
       "      <th>bike_id</th>\n",
       "      <th>plan_duration</th>\n",
       "      <th>trip_route_category</th>\n",
       "      <th>passholder_type</th>\n",
       "      <th>bike_type</th>\n",
       "    </tr>\n",
       "  </thead>\n",
       "  <tbody>\n",
       "    <tr>\n",
       "      <th>287</th>\n",
       "      <td>124691541</td>\n",
       "      <td>18</td>\n",
       "      <td>7/1/2019 11:44</td>\n",
       "      <td>7/1/2019 12:02</td>\n",
       "      <td>3000</td>\n",
       "      <td>NaN</td>\n",
       "      <td>NaN</td>\n",
       "      <td>4345</td>\n",
       "      <td>33.995560</td>\n",
       "      <td>-118.481552</td>\n",
       "      <td>15969</td>\n",
       "      <td>1</td>\n",
       "      <td>One Way</td>\n",
       "      <td>Walk-up</td>\n",
       "      <td>smart</td>\n",
       "    </tr>\n",
       "    <tr>\n",
       "      <th>322</th>\n",
       "      <td>124692870</td>\n",
       "      <td>4</td>\n",
       "      <td>7/1/2019 12:26</td>\n",
       "      <td>7/1/2019 12:30</td>\n",
       "      <td>4285</td>\n",
       "      <td>NaN</td>\n",
       "      <td>NaN</td>\n",
       "      <td>4325</td>\n",
       "      <td>34.022518</td>\n",
       "      <td>-118.400589</td>\n",
       "      <td>15439</td>\n",
       "      <td>30</td>\n",
       "      <td>One Way</td>\n",
       "      <td>Monthly Pass</td>\n",
       "      <td>smart</td>\n",
       "    </tr>\n",
       "    <tr>\n",
       "      <th>382</th>\n",
       "      <td>124696875</td>\n",
       "      <td>31</td>\n",
       "      <td>7/1/2019 13:25</td>\n",
       "      <td>7/1/2019 13:56</td>\n",
       "      <td>4286</td>\n",
       "      <td>NaN</td>\n",
       "      <td>NaN</td>\n",
       "      <td>4345</td>\n",
       "      <td>33.995560</td>\n",
       "      <td>-118.481552</td>\n",
       "      <td>15696</td>\n",
       "      <td>365</td>\n",
       "      <td>One Way</td>\n",
       "      <td>Walk-up</td>\n",
       "      <td>smart</td>\n",
       "    </tr>\n",
       "    <tr>\n",
       "      <th>387</th>\n",
       "      <td>124696867</td>\n",
       "      <td>22</td>\n",
       "      <td>7/1/2019 13:33</td>\n",
       "      <td>7/1/2019 13:55</td>\n",
       "      <td>4286</td>\n",
       "      <td>NaN</td>\n",
       "      <td>NaN</td>\n",
       "      <td>4345</td>\n",
       "      <td>33.995560</td>\n",
       "      <td>-118.481552</td>\n",
       "      <td>15929</td>\n",
       "      <td>365</td>\n",
       "      <td>One Way</td>\n",
       "      <td>Walk-up</td>\n",
       "      <td>smart</td>\n",
       "    </tr>\n",
       "    <tr>\n",
       "      <th>390</th>\n",
       "      <td>124696635</td>\n",
       "      <td>14</td>\n",
       "      <td>7/1/2019 13:38</td>\n",
       "      <td>7/1/2019 13:52</td>\n",
       "      <td>4286</td>\n",
       "      <td>NaN</td>\n",
       "      <td>NaN</td>\n",
       "      <td>4345</td>\n",
       "      <td>33.995560</td>\n",
       "      <td>-118.481552</td>\n",
       "      <td>16261</td>\n",
       "      <td>365</td>\n",
       "      <td>One Way</td>\n",
       "      <td>Walk-up</td>\n",
       "      <td>smart</td>\n",
       "    </tr>\n",
       "  </tbody>\n",
       "</table>\n",
       "</div>"
      ],
      "text/plain": [
       "       trip_id  duration      start_time        end_time  start_station  \\\n",
       "287  124691541        18  7/1/2019 11:44  7/1/2019 12:02           3000   \n",
       "322  124692870         4  7/1/2019 12:26  7/1/2019 12:30           4285   \n",
       "382  124696875        31  7/1/2019 13:25  7/1/2019 13:56           4286   \n",
       "387  124696867        22  7/1/2019 13:33  7/1/2019 13:55           4286   \n",
       "390  124696635        14  7/1/2019 13:38  7/1/2019 13:52           4286   \n",
       "\n",
       "     start_lat  start_lon  end_station    end_lat     end_lon  bike_id  \\\n",
       "287        NaN        NaN         4345  33.995560 -118.481552    15969   \n",
       "322        NaN        NaN         4325  34.022518 -118.400589    15439   \n",
       "382        NaN        NaN         4345  33.995560 -118.481552    15696   \n",
       "387        NaN        NaN         4345  33.995560 -118.481552    15929   \n",
       "390        NaN        NaN         4345  33.995560 -118.481552    16261   \n",
       "\n",
       "     plan_duration trip_route_category passholder_type bike_type  \n",
       "287              1             One Way         Walk-up     smart  \n",
       "322             30             One Way    Monthly Pass     smart  \n",
       "382            365             One Way         Walk-up     smart  \n",
       "387            365             One Way         Walk-up     smart  \n",
       "390            365             One Way         Walk-up     smart  "
      ]
     },
     "execution_count": 15,
     "metadata": {},
     "output_type": "execute_result"
    }
   ],
   "source": [
    "bs_trips[bs_trips[\"start_lat\"].isnull()].head()"
   ]
  },
  {
   "cell_type": "code",
   "execution_count": 16,
   "metadata": {},
   "outputs": [
    {
     "data": {
      "text/html": [
       "<div>\n",
       "<style scoped>\n",
       "    .dataframe tbody tr th:only-of-type {\n",
       "        vertical-align: middle;\n",
       "    }\n",
       "\n",
       "    .dataframe tbody tr th {\n",
       "        vertical-align: top;\n",
       "    }\n",
       "\n",
       "    .dataframe thead th {\n",
       "        text-align: right;\n",
       "    }\n",
       "</style>\n",
       "<table border=\"1\" class=\"dataframe\">\n",
       "  <thead>\n",
       "    <tr style=\"text-align: right;\">\n",
       "      <th></th>\n",
       "      <th>trip_id</th>\n",
       "      <th>duration</th>\n",
       "      <th>start_time</th>\n",
       "      <th>end_time</th>\n",
       "      <th>start_station</th>\n",
       "      <th>start_lat</th>\n",
       "      <th>start_lon</th>\n",
       "      <th>end_station</th>\n",
       "      <th>end_lat</th>\n",
       "      <th>end_lon</th>\n",
       "      <th>bike_id</th>\n",
       "      <th>plan_duration</th>\n",
       "      <th>trip_route_category</th>\n",
       "      <th>passholder_type</th>\n",
       "      <th>bike_type</th>\n",
       "    </tr>\n",
       "  </thead>\n",
       "  <tbody>\n",
       "    <tr>\n",
       "      <th>11</th>\n",
       "      <td>124673048</td>\n",
       "      <td>72</td>\n",
       "      <td>7/1/2019 4:23</td>\n",
       "      <td>7/1/2019 5:35</td>\n",
       "      <td>4344</td>\n",
       "      <td>34.014309</td>\n",
       "      <td>-118.491341</td>\n",
       "      <td>4286</td>\n",
       "      <td>NaN</td>\n",
       "      <td>NaN</td>\n",
       "      <td>15936</td>\n",
       "      <td>1</td>\n",
       "      <td>One Way</td>\n",
       "      <td>Walk-up</td>\n",
       "      <td>smart</td>\n",
       "    </tr>\n",
       "    <tr>\n",
       "      <th>40</th>\n",
       "      <td>124676879</td>\n",
       "      <td>12</td>\n",
       "      <td>7/1/2019 6:43</td>\n",
       "      <td>7/1/2019 6:55</td>\n",
       "      <td>3019</td>\n",
       "      <td>34.038609</td>\n",
       "      <td>-118.260857</td>\n",
       "      <td>3000</td>\n",
       "      <td>NaN</td>\n",
       "      <td>NaN</td>\n",
       "      <td>16303</td>\n",
       "      <td>365</td>\n",
       "      <td>One Way</td>\n",
       "      <td>Annual Pass</td>\n",
       "      <td>electric</td>\n",
       "    </tr>\n",
       "    <tr>\n",
       "      <th>52</th>\n",
       "      <td>124678746</td>\n",
       "      <td>34</td>\n",
       "      <td>7/1/2019 7:01</td>\n",
       "      <td>7/1/2019 7:35</td>\n",
       "      <td>4372</td>\n",
       "      <td>34.027882</td>\n",
       "      <td>-118.388901</td>\n",
       "      <td>4285</td>\n",
       "      <td>NaN</td>\n",
       "      <td>NaN</td>\n",
       "      <td>15948</td>\n",
       "      <td>365</td>\n",
       "      <td>One Way</td>\n",
       "      <td>Walk-up</td>\n",
       "      <td>smart</td>\n",
       "    </tr>\n",
       "    <tr>\n",
       "      <th>126</th>\n",
       "      <td>125015488</td>\n",
       "      <td>1440</td>\n",
       "      <td>7/1/2019 8:24</td>\n",
       "      <td>7/6/2019 11:13</td>\n",
       "      <td>4344</td>\n",
       "      <td>34.014309</td>\n",
       "      <td>-118.491341</td>\n",
       "      <td>3000</td>\n",
       "      <td>NaN</td>\n",
       "      <td>NaN</td>\n",
       "      <td>15883</td>\n",
       "      <td>1</td>\n",
       "      <td>One Way</td>\n",
       "      <td>Walk-up</td>\n",
       "      <td>smart</td>\n",
       "    </tr>\n",
       "    <tr>\n",
       "      <th>165</th>\n",
       "      <td>124682922</td>\n",
       "      <td>4</td>\n",
       "      <td>7/1/2019 9:03</td>\n",
       "      <td>7/1/2019 9:07</td>\n",
       "      <td>3058</td>\n",
       "      <td>34.035801</td>\n",
       "      <td>-118.233170</td>\n",
       "      <td>3000</td>\n",
       "      <td>NaN</td>\n",
       "      <td>NaN</td>\n",
       "      <td>12205</td>\n",
       "      <td>30</td>\n",
       "      <td>One Way</td>\n",
       "      <td>Monthly Pass</td>\n",
       "      <td>standard</td>\n",
       "    </tr>\n",
       "  </tbody>\n",
       "</table>\n",
       "</div>"
      ],
      "text/plain": [
       "       trip_id  duration     start_time        end_time  start_station  \\\n",
       "11   124673048        72  7/1/2019 4:23   7/1/2019 5:35           4344   \n",
       "40   124676879        12  7/1/2019 6:43   7/1/2019 6:55           3019   \n",
       "52   124678746        34  7/1/2019 7:01   7/1/2019 7:35           4372   \n",
       "126  125015488      1440  7/1/2019 8:24  7/6/2019 11:13           4344   \n",
       "165  124682922         4  7/1/2019 9:03   7/1/2019 9:07           3058   \n",
       "\n",
       "     start_lat   start_lon  end_station  end_lat  end_lon  bike_id  \\\n",
       "11   34.014309 -118.491341         4286      NaN      NaN    15936   \n",
       "40   34.038609 -118.260857         3000      NaN      NaN    16303   \n",
       "52   34.027882 -118.388901         4285      NaN      NaN    15948   \n",
       "126  34.014309 -118.491341         3000      NaN      NaN    15883   \n",
       "165  34.035801 -118.233170         3000      NaN      NaN    12205   \n",
       "\n",
       "     plan_duration trip_route_category passholder_type bike_type  \n",
       "11               1             One Way         Walk-up     smart  \n",
       "40             365             One Way     Annual Pass  electric  \n",
       "52             365             One Way         Walk-up     smart  \n",
       "126              1             One Way         Walk-up     smart  \n",
       "165             30             One Way    Monthly Pass  standard  "
      ]
     },
     "execution_count": 16,
     "metadata": {},
     "output_type": "execute_result"
    }
   ],
   "source": [
    "bs_trips[bs_trips[\"end_lat\"].isnull()].head()"
   ]
  },
  {
   "cell_type": "markdown",
   "metadata": {},
   "source": [
    "Well, due to these missing latitude and longitude coordinates, we can't rely on them to locate our bike stations. Thankfully, we still have the station identifiers, which we can use in conjunction with our stations dataframe to locate the stations. We will go ahead and drop the latitude and longitude columns so as to remove any confusion:"
   ]
  },
  {
   "cell_type": "code",
   "execution_count": 17,
   "metadata": {
    "scrolled": true
   },
   "outputs": [
    {
     "data": {
      "text/html": [
       "<div>\n",
       "<style scoped>\n",
       "    .dataframe tbody tr th:only-of-type {\n",
       "        vertical-align: middle;\n",
       "    }\n",
       "\n",
       "    .dataframe tbody tr th {\n",
       "        vertical-align: top;\n",
       "    }\n",
       "\n",
       "    .dataframe thead th {\n",
       "        text-align: right;\n",
       "    }\n",
       "</style>\n",
       "<table border=\"1\" class=\"dataframe\">\n",
       "  <thead>\n",
       "    <tr style=\"text-align: right;\">\n",
       "      <th></th>\n",
       "      <th>trip_id</th>\n",
       "      <th>duration</th>\n",
       "      <th>start_time</th>\n",
       "      <th>end_time</th>\n",
       "      <th>start_station</th>\n",
       "      <th>end_station</th>\n",
       "      <th>bike_id</th>\n",
       "      <th>plan_duration</th>\n",
       "      <th>trip_route_category</th>\n",
       "      <th>passholder_type</th>\n",
       "      <th>bike_type</th>\n",
       "    </tr>\n",
       "  </thead>\n",
       "  <tbody>\n",
       "    <tr>\n",
       "      <th>0</th>\n",
       "      <td>124657107</td>\n",
       "      <td>5</td>\n",
       "      <td>7/1/2019 0:04</td>\n",
       "      <td>7/1/2019 0:09</td>\n",
       "      <td>4312</td>\n",
       "      <td>4410</td>\n",
       "      <td>6168</td>\n",
       "      <td>30</td>\n",
       "      <td>One Way</td>\n",
       "      <td>Monthly Pass</td>\n",
       "      <td>standard</td>\n",
       "    </tr>\n",
       "    <tr>\n",
       "      <th>1</th>\n",
       "      <td>124657587</td>\n",
       "      <td>9</td>\n",
       "      <td>7/1/2019 0:07</td>\n",
       "      <td>7/1/2019 0:16</td>\n",
       "      <td>3066</td>\n",
       "      <td>3066</td>\n",
       "      <td>17584</td>\n",
       "      <td>30</td>\n",
       "      <td>Round Trip</td>\n",
       "      <td>Monthly Pass</td>\n",
       "      <td>electric</td>\n",
       "    </tr>\n",
       "    <tr>\n",
       "      <th>2</th>\n",
       "      <td>124658068</td>\n",
       "      <td>5</td>\n",
       "      <td>7/1/2019 0:20</td>\n",
       "      <td>7/1/2019 0:25</td>\n",
       "      <td>4410</td>\n",
       "      <td>4312</td>\n",
       "      <td>18920</td>\n",
       "      <td>30</td>\n",
       "      <td>One Way</td>\n",
       "      <td>Monthly Pass</td>\n",
       "      <td>electric</td>\n",
       "    </tr>\n",
       "    <tr>\n",
       "      <th>3</th>\n",
       "      <td>124659747</td>\n",
       "      <td>20</td>\n",
       "      <td>7/1/2019 0:44</td>\n",
       "      <td>7/1/2019 1:04</td>\n",
       "      <td>3045</td>\n",
       "      <td>4275</td>\n",
       "      <td>6016</td>\n",
       "      <td>1</td>\n",
       "      <td>One Way</td>\n",
       "      <td>Walk-up</td>\n",
       "      <td>standard</td>\n",
       "    </tr>\n",
       "    <tr>\n",
       "      <th>4</th>\n",
       "      <td>124660227</td>\n",
       "      <td>27</td>\n",
       "      <td>7/1/2019 0:44</td>\n",
       "      <td>7/1/2019 1:11</td>\n",
       "      <td>3035</td>\n",
       "      <td>3049</td>\n",
       "      <td>5867</td>\n",
       "      <td>30</td>\n",
       "      <td>One Way</td>\n",
       "      <td>Monthly Pass</td>\n",
       "      <td>standard</td>\n",
       "    </tr>\n",
       "  </tbody>\n",
       "</table>\n",
       "</div>"
      ],
      "text/plain": [
       "     trip_id  duration     start_time       end_time  start_station  \\\n",
       "0  124657107         5  7/1/2019 0:04  7/1/2019 0:09           4312   \n",
       "1  124657587         9  7/1/2019 0:07  7/1/2019 0:16           3066   \n",
       "2  124658068         5  7/1/2019 0:20  7/1/2019 0:25           4410   \n",
       "3  124659747        20  7/1/2019 0:44  7/1/2019 1:04           3045   \n",
       "4  124660227        27  7/1/2019 0:44  7/1/2019 1:11           3035   \n",
       "\n",
       "   end_station  bike_id  plan_duration trip_route_category passholder_type  \\\n",
       "0         4410     6168             30             One Way    Monthly Pass   \n",
       "1         3066    17584             30          Round Trip    Monthly Pass   \n",
       "2         4312    18920             30             One Way    Monthly Pass   \n",
       "3         4275     6016              1             One Way         Walk-up   \n",
       "4         3049     5867             30             One Way    Monthly Pass   \n",
       "\n",
       "  bike_type  \n",
       "0  standard  \n",
       "1  electric  \n",
       "2  electric  \n",
       "3  standard  \n",
       "4  standard  "
      ]
     },
     "execution_count": 17,
     "metadata": {},
     "output_type": "execute_result"
    }
   ],
   "source": [
    "bs_trips = bs_trips.drop(columns=[\"start_lat\", \"start_lon\", \"end_lat\", \"end_lon\"])\n",
    "bs_trips.head()"
   ]
  },
  {
   "cell_type": "markdown",
   "metadata": {},
   "source": [
    "Finally, we will convert the start and end times to date objects as their dtype is currently just an object. We first need to know the format that they are saved in:"
   ]
  },
  {
   "cell_type": "code",
   "execution_count": 18,
   "metadata": {},
   "outputs": [
    {
     "data": {
      "text/plain": [
       "92114    9/30/2019 23:03\n",
       "92115    9/30/2019 23:04\n",
       "92116    9/30/2019 23:08\n",
       "92117    9/30/2019 23:15\n",
       "92118    9/30/2019 23:20\n",
       "92119    9/30/2019 23:32\n",
       "92120    9/30/2019 23:38\n",
       "92121    9/30/2019 23:40\n",
       "92122    9/30/2019 23:41\n",
       "92123    9/30/2019 23:58\n",
       "Name: start_time, dtype: object"
      ]
     },
     "execution_count": 18,
     "metadata": {},
     "output_type": "execute_result"
    }
   ],
   "source": [
    "bs_trips[\"start_time\"].tail(10)"
   ]
  },
  {
   "cell_type": "markdown",
   "metadata": {},
   "source": [
    "Using `9/30/2019 23:58` as a guide, we can see that the format is \"*month/day/year hour(24):minute*\". Now we can convert the data:"
   ]
  },
  {
   "cell_type": "code",
   "execution_count": 21,
   "metadata": {},
   "outputs": [
    {
     "data": {
      "text/plain": [
       "count                   92122\n",
       "unique                  57272\n",
       "top       2019-08-24 18:50:00\n",
       "freq                        9\n",
       "first     2019-07-01 00:04:00\n",
       "last      2019-09-30 23:58:00\n",
       "Name: start_time, dtype: object"
      ]
     },
     "execution_count": 21,
     "metadata": {},
     "output_type": "execute_result"
    }
   ],
   "source": [
    "bs_trips[\"start_time\"] = pd.to_datetime(bs_trips[\"start_time\"], format=\"%m/%d/%Y %H:%M\")\n",
    "bs_trips[\"start_time\"].describe()"
   ]
  },
  {
   "cell_type": "code",
   "execution_count": 22,
   "metadata": {},
   "outputs": [
    {
     "data": {
      "text/plain": [
       "count                   92122\n",
       "unique                  55656\n",
       "top       2019-09-27 08:28:00\n",
       "freq                       16\n",
       "first     2019-07-01 00:09:00\n",
       "last      2019-10-02 12:04:00\n",
       "Name: end_time, dtype: object"
      ]
     },
     "execution_count": 22,
     "metadata": {},
     "output_type": "execute_result"
    }
   ],
   "source": [
    "bs_trips[\"end_time\"] = pd.to_datetime(bs_trips[\"end_time\"], format=\"%m/%d/%Y %H:%M\")\n",
    "bs_trips[\"end_time\"].describe()"
   ]
  },
  {
   "cell_type": "markdown",
   "metadata": {},
   "source": [
    "### Stations Cleanup\n",
    "There's one quick issue with the stations dataframe that we should fix first. There is a typo in the key name of the `Region` column. Let's fix that real quick:"
   ]
  },
  {
   "cell_type": "code",
   "execution_count": 23,
   "metadata": {},
   "outputs": [],
   "source": [
    "bs_stations = bs_stations.rename(columns={\"Region \": \"Region\"})"
   ]
  },
  {
   "cell_type": "markdown",
   "metadata": {},
   "source": [
    "While we're here, let's go ahead and change all the key names to lowercase to remain consistent across dataframes:"
   ]
  },
  {
   "cell_type": "code",
   "execution_count": 24,
   "metadata": {},
   "outputs": [
    {
     "data": {
      "text/plain": [
       "Index(['station_id', 'station_name', 'go_live_date', 'region', 'status'], dtype='object')"
      ]
     },
     "execution_count": 24,
     "metadata": {},
     "output_type": "execute_result"
    }
   ],
   "source": [
    "bs_stations.columns = [col.lower() for col in bs_stations]\n",
    "bs_stations.keys()"
   ]
  },
  {
   "cell_type": "markdown",
   "metadata": {},
   "source": [
    "Next, let's check for any null values in this dataframe:"
   ]
  },
  {
   "cell_type": "code",
   "execution_count": 25,
   "metadata": {},
   "outputs": [
    {
     "data": {
      "text/plain": [
       "station_id      0\n",
       "station_name    0\n",
       "go_live_date    0\n",
       "region          1\n",
       "status          0\n",
       "dtype: int64"
      ]
     },
     "execution_count": 25,
     "metadata": {},
     "output_type": "execute_result"
    }
   ],
   "source": [
    "bs_stations.isnull().sum()"
   ]
  },
  {
   "cell_type": "markdown",
   "metadata": {},
   "source": [
    "We seem to have one null region. Let's investigate:"
   ]
  },
  {
   "cell_type": "code",
   "execution_count": 26,
   "metadata": {},
   "outputs": [
    {
     "data": {
      "text/html": [
       "<div>\n",
       "<style scoped>\n",
       "    .dataframe tbody tr th:only-of-type {\n",
       "        vertical-align: middle;\n",
       "    }\n",
       "\n",
       "    .dataframe tbody tr th {\n",
       "        vertical-align: top;\n",
       "    }\n",
       "\n",
       "    .dataframe thead th {\n",
       "        text-align: right;\n",
       "    }\n",
       "</style>\n",
       "<table border=\"1\" class=\"dataframe\">\n",
       "  <thead>\n",
       "    <tr style=\"text-align: right;\">\n",
       "      <th></th>\n",
       "      <th>station_id</th>\n",
       "      <th>station_name</th>\n",
       "      <th>go_live_date</th>\n",
       "      <th>region</th>\n",
       "      <th>status</th>\n",
       "    </tr>\n",
       "  </thead>\n",
       "  <tbody>\n",
       "    <tr>\n",
       "      <th>0</th>\n",
       "      <td>3000</td>\n",
       "      <td>Virtual Station</td>\n",
       "      <td>2016-07-07</td>\n",
       "      <td>NaN</td>\n",
       "      <td>Active</td>\n",
       "    </tr>\n",
       "  </tbody>\n",
       "</table>\n",
       "</div>"
      ],
      "text/plain": [
       "   station_id     station_name go_live_date region  status\n",
       "0        3000  Virtual Station   2016-07-07    NaN  Active"
      ]
     },
     "execution_count": 26,
     "metadata": {},
     "output_type": "execute_result"
    }
   ],
   "source": [
    "bs_stations[bs_stations[\"region\"].isnull()]"
   ]
  },
  {
   "cell_type": "markdown",
   "metadata": {},
   "source": [
    "According to the Metro Bike Share website...\n",
    "> \"Virtual Station\" is used by staff to check in or check out a bike remotely for a special event or in a situation in which a bike could not otherwise be checked in or out to a station.\n",
    "\n",
    "With this in mind, we're going to want to drop all trips with the station 3000, as we are only interested in the public use of the bike share, rather than staff use. We will wait until we combine the dataframes to do the drop."
   ]
  },
  {
   "cell_type": "markdown",
   "metadata": {},
   "source": [
    "Finally, we will do what we did earlier with `bs_trips[\"start_time\"]` and `bs_trips[\"end_time\"]` and convert the data in `go_live_date` to a date object. Let's find the format:"
   ]
  },
  {
   "cell_type": "code",
   "execution_count": 27,
   "metadata": {},
   "outputs": [
    {
     "data": {
      "text/plain": [
       "235   2019-09-11\n",
       "236   2019-09-11\n",
       "237   2019-09-12\n",
       "238   2019-09-12\n",
       "239   2019-09-26\n",
       "240   2019-09-18\n",
       "241   2019-10-02\n",
       "242   2019-10-02\n",
       "243   2019-09-25\n",
       "244   2019-09-25\n",
       "Name: go_live_date, dtype: datetime64[ns]"
      ]
     },
     "execution_count": 27,
     "metadata": {},
     "output_type": "execute_result"
    }
   ],
   "source": [
    "bs_stations[\"go_live_date\"].tail(10)"
   ]
  },
  {
   "cell_type": "markdown",
   "metadata": {},
   "source": [
    "Using `9/25/2019` as a guide, we can see that the format is \"*month/day/year*\". Now we can convert the data:"
   ]
  },
  {
   "cell_type": "code",
   "execution_count": 29,
   "metadata": {},
   "outputs": [
    {
     "data": {
      "text/plain": [
       "count                     245\n",
       "unique                     67\n",
       "top       2016-07-07 00:00:00\n",
       "freq                       55\n",
       "first     2016-07-07 00:00:00\n",
       "last      2019-10-02 00:00:00\n",
       "Name: go_live_date, dtype: object"
      ]
     },
     "execution_count": 29,
     "metadata": {},
     "output_type": "execute_result"
    }
   ],
   "source": [
    "bs_stations[\"go_live_date\"] = pd.to_datetime(bs_stations[\"go_live_date\"], format=\"%m/%d/%Y\")\n",
    "bs_stations[\"go_live_date\"].describe()"
   ]
  },
  {
   "cell_type": "markdown",
   "metadata": {},
   "source": [
    "## Filtering the Data"
   ]
  },
  {
   "cell_type": "markdown",
   "metadata": {},
   "source": [
    "For the trips dataframe, we can ignore `duration`, `bike_id`, `plan_duration`, `trip_route_category`, `passholder_type`, and `bike_type` columns for what we are attempting to accomplish. Let's keep the `trip_id`, `start_time`, and `end_time` in case we decide to check for when they are being used, as this can be very useful in figuring out what areas need growth. The `start_station` and `end_station` identifiers will be necessary for merging."
   ]
  },
  {
   "cell_type": "code",
   "execution_count": 45,
   "metadata": {},
   "outputs": [
    {
     "data": {
      "text/html": [
       "<div>\n",
       "<style scoped>\n",
       "    .dataframe tbody tr th:only-of-type {\n",
       "        vertical-align: middle;\n",
       "    }\n",
       "\n",
       "    .dataframe tbody tr th {\n",
       "        vertical-align: top;\n",
       "    }\n",
       "\n",
       "    .dataframe thead th {\n",
       "        text-align: right;\n",
       "    }\n",
       "</style>\n",
       "<table border=\"1\" class=\"dataframe\">\n",
       "  <thead>\n",
       "    <tr style=\"text-align: right;\">\n",
       "      <th></th>\n",
       "      <th>trip_id</th>\n",
       "      <th>start_time</th>\n",
       "      <th>end_time</th>\n",
       "      <th>start_station</th>\n",
       "      <th>end_station</th>\n",
       "    </tr>\n",
       "  </thead>\n",
       "  <tbody>\n",
       "    <tr>\n",
       "      <th>0</th>\n",
       "      <td>124657107</td>\n",
       "      <td>2019-07-01 00:04:00</td>\n",
       "      <td>2019-07-01 00:09:00</td>\n",
       "      <td>4312</td>\n",
       "      <td>4410</td>\n",
       "    </tr>\n",
       "    <tr>\n",
       "      <th>1</th>\n",
       "      <td>124657587</td>\n",
       "      <td>2019-07-01 00:07:00</td>\n",
       "      <td>2019-07-01 00:16:00</td>\n",
       "      <td>3066</td>\n",
       "      <td>3066</td>\n",
       "    </tr>\n",
       "    <tr>\n",
       "      <th>2</th>\n",
       "      <td>124658068</td>\n",
       "      <td>2019-07-01 00:20:00</td>\n",
       "      <td>2019-07-01 00:25:00</td>\n",
       "      <td>4410</td>\n",
       "      <td>4312</td>\n",
       "    </tr>\n",
       "    <tr>\n",
       "      <th>3</th>\n",
       "      <td>124659747</td>\n",
       "      <td>2019-07-01 00:44:00</td>\n",
       "      <td>2019-07-01 01:04:00</td>\n",
       "      <td>3045</td>\n",
       "      <td>4275</td>\n",
       "    </tr>\n",
       "    <tr>\n",
       "      <th>4</th>\n",
       "      <td>124660227</td>\n",
       "      <td>2019-07-01 00:44:00</td>\n",
       "      <td>2019-07-01 01:11:00</td>\n",
       "      <td>3035</td>\n",
       "      <td>3049</td>\n",
       "    </tr>\n",
       "  </tbody>\n",
       "</table>\n",
       "</div>"
      ],
      "text/plain": [
       "     trip_id          start_time            end_time  start_station  \\\n",
       "0  124657107 2019-07-01 00:04:00 2019-07-01 00:09:00           4312   \n",
       "1  124657587 2019-07-01 00:07:00 2019-07-01 00:16:00           3066   \n",
       "2  124658068 2019-07-01 00:20:00 2019-07-01 00:25:00           4410   \n",
       "3  124659747 2019-07-01 00:44:00 2019-07-01 01:04:00           3045   \n",
       "4  124660227 2019-07-01 00:44:00 2019-07-01 01:11:00           3035   \n",
       "\n",
       "   end_station  \n",
       "0         4410  \n",
       "1         3066  \n",
       "2         4312  \n",
       "3         4275  \n",
       "4         3049  "
      ]
     },
     "execution_count": 45,
     "metadata": {},
     "output_type": "execute_result"
    }
   ],
   "source": [
    "bs_trips = bs_trips.drop(columns=[\"duration\", \"bike_id\", \"plan_duration\", \"trip_route_category\", \"passholder_type\",\n",
    "                                  \"bike_type\"])\n",
    "bs_trips.head()"
   ]
  },
  {
   "cell_type": "markdown",
   "metadata": {},
   "source": [
    "We can keep most of the columns in the stations dataframe, as they can almost all be useful in our analysis. The only one that may not be as useful is the `go_live_date`. The only way this will be useful is if there are some stations that were built before we started tracking the trips in this quarter. Let's find this out:"
   ]
  },
  {
   "cell_type": "code",
   "execution_count": 46,
   "metadata": {},
   "outputs": [
    {
     "data": {
      "text/plain": [
       "count                   92122\n",
       "unique                  57272\n",
       "top       2019-08-24 18:50:00\n",
       "freq                        9\n",
       "first     2019-07-01 00:04:00\n",
       "last      2019-09-30 23:58:00\n",
       "Name: start_time, dtype: object"
      ]
     },
     "execution_count": 46,
     "metadata": {},
     "output_type": "execute_result"
    }
   ],
   "source": [
    "bs_trips[\"start_time\"].describe()"
   ]
  },
  {
   "cell_type": "markdown",
   "metadata": {},
   "source": [
    "The first date that we start tracking is **July 1st, 2019** (`2019-07-01`). Let's check the last value of `go_live_date`. If they overlap, we know we must keep `go_live_date` in mind when analyzing our data:"
   ]
  },
  {
   "cell_type": "code",
   "execution_count": 47,
   "metadata": {},
   "outputs": [
    {
     "data": {
      "text/plain": [
       "count                     245\n",
       "unique                     67\n",
       "top       2016-07-07 00:00:00\n",
       "freq                       55\n",
       "first     2016-07-07 00:00:00\n",
       "last      2019-10-02 00:00:00\n",
       "Name: go_live_date, dtype: object"
      ]
     },
     "execution_count": 47,
     "metadata": {},
     "output_type": "execute_result"
    }
   ],
   "source": [
    "bs_stations[\"go_live_date\"].describe()"
   ]
  },
  {
   "cell_type": "markdown",
   "metadata": {},
   "source": [
    "According to this, the last station to be entered in the stations dataframe went live on October 2nd, 2019 (`2019-10-02`). Because this is after the first trip logged in the trips dataframe, we must keep `go_live_date` in mind when analyzing our data."
   ]
  },
  {
   "cell_type": "markdown",
   "metadata": {},
   "source": [
    "The rest of the columns are useful as well. `station_id` will be determine how we merge the dataframes, `station_name` will be useful in finding where the stations are, `region` will be useful for analysis of stations, and `status` is important to know what work and what don't."
   ]
  },
  {
   "cell_type": "markdown",
   "metadata": {},
   "source": [
    "## Merging the Data"
   ]
  },
  {
   "cell_type": "markdown",
   "metadata": {},
   "source": [
    "Now it is time to merge our data! We will merge the stations data in for the start station *and* the end station."
   ]
  },
  {
   "cell_type": "code",
   "execution_count": 56,
   "metadata": {},
   "outputs": [
    {
     "data": {
      "text/html": [
       "<div>\n",
       "<style scoped>\n",
       "    .dataframe tbody tr th:only-of-type {\n",
       "        vertical-align: middle;\n",
       "    }\n",
       "\n",
       "    .dataframe tbody tr th {\n",
       "        vertical-align: top;\n",
       "    }\n",
       "\n",
       "    .dataframe thead th {\n",
       "        text-align: right;\n",
       "    }\n",
       "</style>\n",
       "<table border=\"1\" class=\"dataframe\">\n",
       "  <thead>\n",
       "    <tr style=\"text-align: right;\">\n",
       "      <th></th>\n",
       "      <th>trip_id</th>\n",
       "      <th>start_time</th>\n",
       "      <th>start_station</th>\n",
       "      <th>start_station_name</th>\n",
       "      <th>start_station_go_live_date</th>\n",
       "      <th>start_station_region</th>\n",
       "      <th>start_station_status</th>\n",
       "      <th>end_time</th>\n",
       "      <th>end_station</th>\n",
       "      <th>end_station_name</th>\n",
       "      <th>end_station_go_live_date</th>\n",
       "      <th>end_station_region</th>\n",
       "      <th>end_station_status</th>\n",
       "    </tr>\n",
       "  </thead>\n",
       "  <tbody>\n",
       "    <tr>\n",
       "      <th>0</th>\n",
       "      <td>124657107</td>\n",
       "      <td>2019-07-01 00:04:00</td>\n",
       "      <td>4312</td>\n",
       "      <td>4th &amp; Vermont</td>\n",
       "      <td>2019-02-07</td>\n",
       "      <td>DTLA</td>\n",
       "      <td>Active</td>\n",
       "      <td>2019-07-01 00:09:00</td>\n",
       "      <td>4410</td>\n",
       "      <td>Kenmore &amp; 6th</td>\n",
       "      <td>2019-06-04</td>\n",
       "      <td>DTLA</td>\n",
       "      <td>Active</td>\n",
       "    </tr>\n",
       "    <tr>\n",
       "      <th>1</th>\n",
       "      <td>124754118</td>\n",
       "      <td>2019-07-02 13:12:00</td>\n",
       "      <td>4312</td>\n",
       "      <td>4th &amp; Vermont</td>\n",
       "      <td>2019-02-07</td>\n",
       "      <td>DTLA</td>\n",
       "      <td>Active</td>\n",
       "      <td>2019-07-02 13:15:00</td>\n",
       "      <td>4410</td>\n",
       "      <td>Kenmore &amp; 6th</td>\n",
       "      <td>2019-06-04</td>\n",
       "      <td>DTLA</td>\n",
       "      <td>Active</td>\n",
       "    </tr>\n",
       "    <tr>\n",
       "      <th>2</th>\n",
       "      <td>124877230</td>\n",
       "      <td>2019-07-04 15:20:00</td>\n",
       "      <td>4312</td>\n",
       "      <td>4th &amp; Vermont</td>\n",
       "      <td>2019-02-07</td>\n",
       "      <td>DTLA</td>\n",
       "      <td>Active</td>\n",
       "      <td>2019-07-04 15:24:00</td>\n",
       "      <td>4410</td>\n",
       "      <td>Kenmore &amp; 6th</td>\n",
       "      <td>2019-06-04</td>\n",
       "      <td>DTLA</td>\n",
       "      <td>Active</td>\n",
       "    </tr>\n",
       "    <tr>\n",
       "      <th>3</th>\n",
       "      <td>124900108</td>\n",
       "      <td>2019-07-05 00:08:00</td>\n",
       "      <td>4312</td>\n",
       "      <td>4th &amp; Vermont</td>\n",
       "      <td>2019-02-07</td>\n",
       "      <td>DTLA</td>\n",
       "      <td>Active</td>\n",
       "      <td>2019-07-05 00:12:00</td>\n",
       "      <td>4410</td>\n",
       "      <td>Kenmore &amp; 6th</td>\n",
       "      <td>2019-06-04</td>\n",
       "      <td>DTLA</td>\n",
       "      <td>Active</td>\n",
       "    </tr>\n",
       "    <tr>\n",
       "      <th>4</th>\n",
       "      <td>125000409</td>\n",
       "      <td>2019-07-06 18:06:00</td>\n",
       "      <td>4312</td>\n",
       "      <td>4th &amp; Vermont</td>\n",
       "      <td>2019-02-07</td>\n",
       "      <td>DTLA</td>\n",
       "      <td>Active</td>\n",
       "      <td>2019-07-06 18:11:00</td>\n",
       "      <td>4410</td>\n",
       "      <td>Kenmore &amp; 6th</td>\n",
       "      <td>2019-06-04</td>\n",
       "      <td>DTLA</td>\n",
       "      <td>Active</td>\n",
       "    </tr>\n",
       "  </tbody>\n",
       "</table>\n",
       "</div>"
      ],
      "text/plain": [
       "     trip_id          start_time  start_station start_station_name  \\\n",
       "0  124657107 2019-07-01 00:04:00           4312      4th & Vermont   \n",
       "1  124754118 2019-07-02 13:12:00           4312      4th & Vermont   \n",
       "2  124877230 2019-07-04 15:20:00           4312      4th & Vermont   \n",
       "3  124900108 2019-07-05 00:08:00           4312      4th & Vermont   \n",
       "4  125000409 2019-07-06 18:06:00           4312      4th & Vermont   \n",
       "\n",
       "  start_station_go_live_date start_station_region start_station_status  \\\n",
       "0                 2019-02-07                 DTLA               Active   \n",
       "1                 2019-02-07                 DTLA               Active   \n",
       "2                 2019-02-07                 DTLA               Active   \n",
       "3                 2019-02-07                 DTLA               Active   \n",
       "4                 2019-02-07                 DTLA               Active   \n",
       "\n",
       "             end_time  end_station end_station_name end_station_go_live_date  \\\n",
       "0 2019-07-01 00:09:00         4410    Kenmore & 6th               2019-06-04   \n",
       "1 2019-07-02 13:15:00         4410    Kenmore & 6th               2019-06-04   \n",
       "2 2019-07-04 15:24:00         4410    Kenmore & 6th               2019-06-04   \n",
       "3 2019-07-05 00:12:00         4410    Kenmore & 6th               2019-06-04   \n",
       "4 2019-07-06 18:11:00         4410    Kenmore & 6th               2019-06-04   \n",
       "\n",
       "  end_station_region end_station_status  \n",
       "0               DTLA             Active  \n",
       "1               DTLA             Active  \n",
       "2               DTLA             Active  \n",
       "3               DTLA             Active  \n",
       "4               DTLA             Active  "
      ]
     },
     "execution_count": 56,
     "metadata": {},
     "output_type": "execute_result"
    }
   ],
   "source": [
    "# Merge the dataframes\n",
    "bs_combined = bs_trips.merge(bs_stations, left_on=\"start_station\", right_on=\"station_id\").drop(columns=[\"station_id\"])\\\n",
    "    .merge(bs_stations, left_on=\"end_station\", right_on=\"station_id\", suffixes=[\"_start\", \"_end\"])\\\n",
    "    .drop(columns=[\"station_id\"])\n",
    "# Rename the columns\n",
    "bs_combined = bs_combined.rename(columns={\n",
    "    \"station_name_start\": \"start_station_name\",\n",
    "    \"go_live_date_start\": \"start_station_go_live_date\",\n",
    "    \"region_start\": \"start_station_region\",\n",
    "    \"status_start\": \"start_station_status\",\n",
    "    \"station_name_end\": \"end_station_name\",\n",
    "    \"go_live_date_end\": \"end_station_go_live_date\",\n",
    "    \"region_end\": \"end_station_region\",\n",
    "    \"status_end\": \"end_station_status\",\n",
    "})\n",
    "# Move the columns\n",
    "cols = bs_combined.keys().tolist()\n",
    "cols.insert(cols.index('start_station_status'), cols.pop(cols.index('end_station')))\n",
    "cols.insert(cols.index('start_station_status'), cols.pop(cols.index('end_time')))\n",
    "bs_combined = bs_combined.reindex(columns=cols)\n",
    "\n",
    "bs_combined.head()"
   ]
  },
  {
   "cell_type": "markdown",
   "metadata": {},
   "source": [
    "## Analyzing the Data\n",
    "Time for the fun part! Let's analyze some data"
   ]
  },
  {
   "cell_type": "code",
   "execution_count": null,
   "metadata": {},
   "outputs": [],
   "source": []
  }
 ],
 "metadata": {
  "kernelspec": {
   "display_name": "Python 3",
   "language": "python",
   "name": "python3"
  },
  "language_info": {
   "codemirror_mode": {
    "name": "ipython",
    "version": 3
   },
   "file_extension": ".py",
   "mimetype": "text/x-python",
   "name": "python",
   "nbconvert_exporter": "python",
   "pygments_lexer": "ipython3",
   "version": "3.5.2"
  }
 },
 "nbformat": 4,
 "nbformat_minor": 2
}
