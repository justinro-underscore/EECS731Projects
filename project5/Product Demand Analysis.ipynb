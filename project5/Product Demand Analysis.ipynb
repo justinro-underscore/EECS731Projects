{
 "cells": [
  {
   "cell_type": "markdown",
   "metadata": {},
   "source": [
    "# World Wide Products Inc."
   ]
  },
  {
   "cell_type": "markdown",
   "metadata": {},
   "source": [
    "TODO Write intro"
   ]
  },
  {
   "cell_type": "markdown",
   "metadata": {},
   "source": [
    "## Retrieving the Data\n",
    "This data comes from the [Forecasts for Product Demand dataset on Kaggle](https://www.kaggle.com/felixzhao/productdemandforecasting). We will begin by loading the dataset into a dataframe:"
   ]
  },
  {
   "cell_type": "code",
   "execution_count": 1,
   "metadata": {
    "scrolled": true
   },
   "outputs": [
    {
     "data": {
      "text/html": [
       "<div>\n",
       "<style scoped>\n",
       "    .dataframe tbody tr th:only-of-type {\n",
       "        vertical-align: middle;\n",
       "    }\n",
       "\n",
       "    .dataframe tbody tr th {\n",
       "        vertical-align: top;\n",
       "    }\n",
       "\n",
       "    .dataframe thead th {\n",
       "        text-align: right;\n",
       "    }\n",
       "</style>\n",
       "<table border=\"1\" class=\"dataframe\">\n",
       "  <thead>\n",
       "    <tr style=\"text-align: right;\">\n",
       "      <th></th>\n",
       "      <th>Product_Code</th>\n",
       "      <th>Warehouse</th>\n",
       "      <th>Product_Category</th>\n",
       "      <th>Date</th>\n",
       "      <th>Order_Demand</th>\n",
       "    </tr>\n",
       "  </thead>\n",
       "  <tbody>\n",
       "    <tr>\n",
       "      <td>0</td>\n",
       "      <td>Product_0993</td>\n",
       "      <td>Whse_J</td>\n",
       "      <td>Category_028</td>\n",
       "      <td>2012/7/27</td>\n",
       "      <td>100</td>\n",
       "    </tr>\n",
       "    <tr>\n",
       "      <td>1</td>\n",
       "      <td>Product_0979</td>\n",
       "      <td>Whse_J</td>\n",
       "      <td>Category_028</td>\n",
       "      <td>2012/1/19</td>\n",
       "      <td>500</td>\n",
       "    </tr>\n",
       "    <tr>\n",
       "      <td>2</td>\n",
       "      <td>Product_0979</td>\n",
       "      <td>Whse_J</td>\n",
       "      <td>Category_028</td>\n",
       "      <td>2012/2/3</td>\n",
       "      <td>500</td>\n",
       "    </tr>\n",
       "    <tr>\n",
       "      <td>3</td>\n",
       "      <td>Product_0979</td>\n",
       "      <td>Whse_J</td>\n",
       "      <td>Category_028</td>\n",
       "      <td>2012/2/9</td>\n",
       "      <td>500</td>\n",
       "    </tr>\n",
       "    <tr>\n",
       "      <td>4</td>\n",
       "      <td>Product_0979</td>\n",
       "      <td>Whse_J</td>\n",
       "      <td>Category_028</td>\n",
       "      <td>2012/3/2</td>\n",
       "      <td>500</td>\n",
       "    </tr>\n",
       "  </tbody>\n",
       "</table>\n",
       "</div>"
      ],
      "text/plain": [
       "   Product_Code Warehouse Product_Category       Date Order_Demand\n",
       "0  Product_0993    Whse_J     Category_028  2012/7/27         100 \n",
       "1  Product_0979    Whse_J     Category_028  2012/1/19         500 \n",
       "2  Product_0979    Whse_J     Category_028   2012/2/3         500 \n",
       "3  Product_0979    Whse_J     Category_028   2012/2/9         500 \n",
       "4  Product_0979    Whse_J     Category_028   2012/3/2         500 "
      ]
     },
     "execution_count": 1,
     "metadata": {},
     "output_type": "execute_result"
    }
   ],
   "source": [
    "from os import path\n",
    "import numpy as np\n",
    "import pandas as pd\n",
    "\n",
    "product_demand_df = pd.read_csv(\"data/raw/Historical Product Demand.csv\")\n",
    "product_demand_df.head()"
   ]
  },
  {
   "cell_type": "markdown",
   "metadata": {},
   "source": [
    "Let's run through some quick information about this dataset:"
   ]
  },
  {
   "cell_type": "code",
   "execution_count": 2,
   "metadata": {},
   "outputs": [
    {
     "data": {
      "text/plain": [
       "(1048575, 5)"
      ]
     },
     "execution_count": 2,
     "metadata": {},
     "output_type": "execute_result"
    }
   ],
   "source": [
    "product_demand_df.shape"
   ]
  },
  {
   "cell_type": "code",
   "execution_count": 3,
   "metadata": {},
   "outputs": [
    {
     "data": {
      "text/plain": [
       "Index(['Product_Code', 'Warehouse', 'Product_Category', 'Date',\n",
       "       'Order_Demand'],\n",
       "      dtype='object')"
      ]
     },
     "execution_count": 3,
     "metadata": {},
     "output_type": "execute_result"
    }
   ],
   "source": [
    "product_demand_df.keys()"
   ]
  },
  {
   "cell_type": "markdown",
   "metadata": {},
   "source": [
    "In order to effectively use this dataset, let's analyze the columns:\n",
    "\n",
    "|Key              |Description|\n",
    "|:----------------|:----------|\n",
    "|Product_Code     |Product name, encoded|\n",
    "|Warehouse        |Warehouse name, encoded|\n",
    "|Product_Category |Category for each product, encoded|\n",
    "|Date             |Date customer needs the product|\n",
    "|Order_Demand     |Single order quantity|"
   ]
  },
  {
   "cell_type": "markdown",
   "metadata": {},
   "source": [
    "## Cleaning Up the Data\n",
    "There are some very simple things we can do to start cleaning the data. First, let's make the columns lowercase, just for consistency sake:"
   ]
  },
  {
   "cell_type": "code",
   "execution_count": 4,
   "metadata": {
    "scrolled": true
   },
   "outputs": [
    {
     "data": {
      "text/plain": [
       "Index(['product_code', 'warehouse', 'product_category', 'date',\n",
       "       'order_demand'],\n",
       "      dtype='object')"
      ]
     },
     "execution_count": 4,
     "metadata": {},
     "output_type": "execute_result"
    }
   ],
   "source": [
    "product_demand_df.columns = map(str.lower, product_demand_df.columns)\n",
    "product_demand_df.keys()"
   ]
  },
  {
   "cell_type": "markdown",
   "metadata": {},
   "source": [
    "Let's check for any missing values:"
   ]
  },
  {
   "cell_type": "code",
   "execution_count": 5,
   "metadata": {},
   "outputs": [
    {
     "data": {
      "text/html": [
       "<div>\n",
       "<style scoped>\n",
       "    .dataframe tbody tr th:only-of-type {\n",
       "        vertical-align: middle;\n",
       "    }\n",
       "\n",
       "    .dataframe tbody tr th {\n",
       "        vertical-align: top;\n",
       "    }\n",
       "\n",
       "    .dataframe thead th {\n",
       "        text-align: right;\n",
       "    }\n",
       "</style>\n",
       "<table border=\"1\" class=\"dataframe\">\n",
       "  <thead>\n",
       "    <tr style=\"text-align: right;\">\n",
       "      <th></th>\n",
       "      <th>product_code</th>\n",
       "      <th>warehouse</th>\n",
       "      <th>product_category</th>\n",
       "      <th>date</th>\n",
       "      <th>order_demand</th>\n",
       "    </tr>\n",
       "  </thead>\n",
       "  <tbody>\n",
       "    <tr>\n",
       "      <td>45460</td>\n",
       "      <td>Product_1461</td>\n",
       "      <td>Whse_A</td>\n",
       "      <td>Category_019</td>\n",
       "      <td>NaN</td>\n",
       "      <td>10000</td>\n",
       "    </tr>\n",
       "    <tr>\n",
       "      <td>456373</td>\n",
       "      <td>Product_1636</td>\n",
       "      <td>Whse_A</td>\n",
       "      <td>Category_019</td>\n",
       "      <td>NaN</td>\n",
       "      <td>100</td>\n",
       "    </tr>\n",
       "    <tr>\n",
       "      <td>456374</td>\n",
       "      <td>Product_1461</td>\n",
       "      <td>Whse_A</td>\n",
       "      <td>Category_019</td>\n",
       "      <td>NaN</td>\n",
       "      <td>300</td>\n",
       "    </tr>\n",
       "    <tr>\n",
       "      <td>456375</td>\n",
       "      <td>Product_1464</td>\n",
       "      <td>Whse_A</td>\n",
       "      <td>Category_019</td>\n",
       "      <td>NaN</td>\n",
       "      <td>300</td>\n",
       "    </tr>\n",
       "    <tr>\n",
       "      <td>456376</td>\n",
       "      <td>Product_1388</td>\n",
       "      <td>Whse_A</td>\n",
       "      <td>Category_019</td>\n",
       "      <td>NaN</td>\n",
       "      <td>200</td>\n",
       "    </tr>\n",
       "    <tr>\n",
       "      <td>...</td>\n",
       "      <td>...</td>\n",
       "      <td>...</td>\n",
       "      <td>...</td>\n",
       "      <td>...</td>\n",
       "      <td>...</td>\n",
       "    </tr>\n",
       "    <tr>\n",
       "      <td>995790</td>\n",
       "      <td>Product_1464</td>\n",
       "      <td>Whse_A</td>\n",
       "      <td>Category_019</td>\n",
       "      <td>NaN</td>\n",
       "      <td>(900)</td>\n",
       "    </tr>\n",
       "    <tr>\n",
       "      <td>995791</td>\n",
       "      <td>Product_1541</td>\n",
       "      <td>Whse_A</td>\n",
       "      <td>Category_019</td>\n",
       "      <td>NaN</td>\n",
       "      <td>(200)</td>\n",
       "    </tr>\n",
       "    <tr>\n",
       "      <td>995792</td>\n",
       "      <td>Product_1388</td>\n",
       "      <td>Whse_A</td>\n",
       "      <td>Category_019</td>\n",
       "      <td>NaN</td>\n",
       "      <td>(300)</td>\n",
       "    </tr>\n",
       "    <tr>\n",
       "      <td>995793</td>\n",
       "      <td>Product_1541</td>\n",
       "      <td>Whse_A</td>\n",
       "      <td>Category_019</td>\n",
       "      <td>NaN</td>\n",
       "      <td>(300)</td>\n",
       "    </tr>\n",
       "    <tr>\n",
       "      <td>995794</td>\n",
       "      <td>Product_1509</td>\n",
       "      <td>Whse_A</td>\n",
       "      <td>Category_019</td>\n",
       "      <td>NaN</td>\n",
       "      <td>(200)</td>\n",
       "    </tr>\n",
       "  </tbody>\n",
       "</table>\n",
       "<p>11239 rows × 5 columns</p>\n",
       "</div>"
      ],
      "text/plain": [
       "        product_code warehouse product_category date order_demand\n",
       "45460   Product_1461    Whse_A     Category_019  NaN       10000 \n",
       "456373  Product_1636    Whse_A     Category_019  NaN         100 \n",
       "456374  Product_1461    Whse_A     Category_019  NaN         300 \n",
       "456375  Product_1464    Whse_A     Category_019  NaN         300 \n",
       "456376  Product_1388    Whse_A     Category_019  NaN         200 \n",
       "...              ...       ...              ...  ...          ...\n",
       "995790  Product_1464    Whse_A     Category_019  NaN        (900)\n",
       "995791  Product_1541    Whse_A     Category_019  NaN        (200)\n",
       "995792  Product_1388    Whse_A     Category_019  NaN        (300)\n",
       "995793  Product_1541    Whse_A     Category_019  NaN        (300)\n",
       "995794  Product_1509    Whse_A     Category_019  NaN        (200)\n",
       "\n",
       "[11239 rows x 5 columns]"
      ]
     },
     "execution_count": 5,
     "metadata": {},
     "output_type": "execute_result"
    }
   ],
   "source": [
    "product_demand_df[product_demand_df.isna().any(axis=1)]"
   ]
  },
  {
   "cell_type": "markdown",
   "metadata": {},
   "source": [
    "It looks like we have a bunch of missing dates. Because we are doing time series forecasting, we require a date. Let's go ahead and drop all of these data points, as they are unusable to us."
   ]
  },
  {
   "cell_type": "code",
   "execution_count": 6,
   "metadata": {},
   "outputs": [],
   "source": [
    "indices_to_drop = product_demand_df[product_demand_df.isna().any(axis=1)].index\n",
    "product_demand_df.drop(indices_to_drop, inplace=True)"
   ]
  },
  {
   "cell_type": "markdown",
   "metadata": {},
   "source": [
    "Next, let's convert all of the information in `product_code`, `warehouse`, and `product_category` to integers:"
   ]
  },
  {
   "cell_type": "code",
   "execution_count": 7,
   "metadata": {
    "scrolled": true
   },
   "outputs": [
    {
     "data": {
      "text/html": [
       "<div>\n",
       "<style scoped>\n",
       "    .dataframe tbody tr th:only-of-type {\n",
       "        vertical-align: middle;\n",
       "    }\n",
       "\n",
       "    .dataframe tbody tr th {\n",
       "        vertical-align: top;\n",
       "    }\n",
       "\n",
       "    .dataframe thead th {\n",
       "        text-align: right;\n",
       "    }\n",
       "</style>\n",
       "<table border=\"1\" class=\"dataframe\">\n",
       "  <thead>\n",
       "    <tr style=\"text-align: right;\">\n",
       "      <th></th>\n",
       "      <th>product_code</th>\n",
       "      <th>warehouse</th>\n",
       "      <th>product_category</th>\n",
       "      <th>date</th>\n",
       "      <th>order_demand</th>\n",
       "      <th>product_code_ordinal</th>\n",
       "      <th>warehouse_ordinal</th>\n",
       "      <th>product_category_ordinal</th>\n",
       "    </tr>\n",
       "  </thead>\n",
       "  <tbody>\n",
       "    <tr>\n",
       "      <td>0</td>\n",
       "      <td>Product_0993</td>\n",
       "      <td>Whse_J</td>\n",
       "      <td>Category_028</td>\n",
       "      <td>2012/7/27</td>\n",
       "      <td>100</td>\n",
       "      <td>1</td>\n",
       "      <td>1</td>\n",
       "      <td>1</td>\n",
       "    </tr>\n",
       "    <tr>\n",
       "      <td>1</td>\n",
       "      <td>Product_0979</td>\n",
       "      <td>Whse_J</td>\n",
       "      <td>Category_028</td>\n",
       "      <td>2012/1/19</td>\n",
       "      <td>500</td>\n",
       "      <td>2</td>\n",
       "      <td>1</td>\n",
       "      <td>1</td>\n",
       "    </tr>\n",
       "    <tr>\n",
       "      <td>2</td>\n",
       "      <td>Product_0979</td>\n",
       "      <td>Whse_J</td>\n",
       "      <td>Category_028</td>\n",
       "      <td>2012/2/3</td>\n",
       "      <td>500</td>\n",
       "      <td>2</td>\n",
       "      <td>1</td>\n",
       "      <td>1</td>\n",
       "    </tr>\n",
       "    <tr>\n",
       "      <td>3</td>\n",
       "      <td>Product_0979</td>\n",
       "      <td>Whse_J</td>\n",
       "      <td>Category_028</td>\n",
       "      <td>2012/2/9</td>\n",
       "      <td>500</td>\n",
       "      <td>2</td>\n",
       "      <td>1</td>\n",
       "      <td>1</td>\n",
       "    </tr>\n",
       "    <tr>\n",
       "      <td>4</td>\n",
       "      <td>Product_0979</td>\n",
       "      <td>Whse_J</td>\n",
       "      <td>Category_028</td>\n",
       "      <td>2012/3/2</td>\n",
       "      <td>500</td>\n",
       "      <td>2</td>\n",
       "      <td>1</td>\n",
       "      <td>1</td>\n",
       "    </tr>\n",
       "  </tbody>\n",
       "</table>\n",
       "</div>"
      ],
      "text/plain": [
       "   product_code warehouse product_category       date order_demand  \\\n",
       "0  Product_0993    Whse_J     Category_028  2012/7/27         100    \n",
       "1  Product_0979    Whse_J     Category_028  2012/1/19         500    \n",
       "2  Product_0979    Whse_J     Category_028   2012/2/3         500    \n",
       "3  Product_0979    Whse_J     Category_028   2012/2/9         500    \n",
       "4  Product_0979    Whse_J     Category_028   2012/3/2         500    \n",
       "\n",
       "   product_code_ordinal  warehouse_ordinal  product_category_ordinal  \n",
       "0                     1                  1                         1  \n",
       "1                     2                  1                         1  \n",
       "2                     2                  1                         1  \n",
       "3                     2                  1                         1  \n",
       "4                     2                  1                         1  "
      ]
     },
     "execution_count": 7,
     "metadata": {},
     "output_type": "execute_result"
    }
   ],
   "source": [
    "unique_products = product_demand_df[\"product_code\"].unique()\n",
    "product_ordinal = {v: k for k, v in dict(enumerate(unique_products.flatten(), 1)).items()}\n",
    "product_demand_df[\"product_code_ordinal\"] = product_demand_df[\"product_code\"].apply(lambda p: product_ordinal[p])\n",
    "\n",
    "unique_warehouses = product_demand_df[\"warehouse\"].unique()\n",
    "warehouse_ordinal = {v: k for k, v in dict(enumerate(unique_warehouses.flatten(), 1)).items()}\n",
    "product_demand_df[\"warehouse_ordinal\"] = product_demand_df[\"warehouse\"].apply(lambda w: warehouse_ordinal[w])\n",
    "\n",
    "unique_categories = product_demand_df[\"product_category\"].unique()\n",
    "category_ordinal = {v: k for k, v in dict(enumerate(unique_categories.flatten(), 1)).items()}\n",
    "product_demand_df[\"product_category_ordinal\"] = product_demand_df[\"product_category\"].apply(lambda c: category_ordinal[c])\n",
    "\n",
    "product_demand_df.head()"
   ]
  },
  {
   "cell_type": "markdown",
   "metadata": {},
   "source": [
    "We also have an issue with our `order_demand` values. They are stored as strings, and almost all have something wrong with them:"
   ]
  },
  {
   "cell_type": "code",
   "execution_count": 8,
   "metadata": {
    "scrolled": true
   },
   "outputs": [
    {
     "data": {
      "text/plain": [
       "(1037336,)"
      ]
     },
     "execution_count": 8,
     "metadata": {},
     "output_type": "execute_result"
    }
   ],
   "source": [
    "# Prints all demands that are not numeric strings\n",
    "product_demand_df[\"order_demand\"][~product_demand_df[\"order_demand\"].str.isnumeric()].shape"
   ]
  },
  {
   "cell_type": "markdown",
   "metadata": {},
   "source": [
    "**1037336** of our order demand values are in string form, rather than integers! Let's change that:"
   ]
  },
  {
   "cell_type": "code",
   "execution_count": 9,
   "metadata": {},
   "outputs": [],
   "source": [
    "import re\n",
    "\n",
    "# Extract all integers and save them\n",
    "product_demand_df[\"order_demand\"] = product_demand_df[\"order_demand\"].apply(lambda x: int(re.findall(r\"\\d+\", x)[0]))"
   ]
  },
  {
   "cell_type": "markdown",
   "metadata": {},
   "source": [
    "Finally, let's convert all dates to `datetime` objects. From taking a look at the `date` values in a previous statement, it looks like the pattern is \"_year/month/day_\":"
   ]
  },
  {
   "cell_type": "code",
   "execution_count": 10,
   "metadata": {},
   "outputs": [
    {
     "data": {
      "text/plain": [
       "count                 1037336\n",
       "unique                   1729\n",
       "top       2013-09-27 00:00:00\n",
       "freq                     2075\n",
       "first     2011-01-08 00:00:00\n",
       "last      2017-01-09 00:00:00\n",
       "Name: date, dtype: object"
      ]
     },
     "execution_count": 10,
     "metadata": {},
     "output_type": "execute_result"
    }
   ],
   "source": [
    "product_demand_df[\"date\"] = pd.to_datetime(product_demand_df[\"date\"], format=\"%Y/%m/%d\")\n",
    "product_demand_df[\"date\"].describe()"
   ]
  },
  {
   "cell_type": "markdown",
   "metadata": {},
   "source": [
    "## Feature Engineering\n",
    "To predict the demad of a specific product, we should make some new features that make that job easier. To do this, let's organize things by `product`, and create a new feature that specifies the `demand_per_month`\n",
    "\n",
    "To start, let's split the date into a `months_since_start` integer to make `demand_per_month` calculations easier. We'll also do the `days_since_start` to test accuracy:"
   ]
  },
  {
   "cell_type": "code",
   "execution_count": 11,
   "metadata": {
    "scrolled": true
   },
   "outputs": [
    {
     "data": {
      "text/html": [
       "<div>\n",
       "<style scoped>\n",
       "    .dataframe tbody tr th:only-of-type {\n",
       "        vertical-align: middle;\n",
       "    }\n",
       "\n",
       "    .dataframe tbody tr th {\n",
       "        vertical-align: top;\n",
       "    }\n",
       "\n",
       "    .dataframe thead th {\n",
       "        text-align: right;\n",
       "    }\n",
       "</style>\n",
       "<table border=\"1\" class=\"dataframe\">\n",
       "  <thead>\n",
       "    <tr style=\"text-align: right;\">\n",
       "      <th></th>\n",
       "      <th>product_code</th>\n",
       "      <th>warehouse</th>\n",
       "      <th>product_category</th>\n",
       "      <th>order_demand</th>\n",
       "      <th>product_code_ordinal</th>\n",
       "      <th>warehouse_ordinal</th>\n",
       "      <th>product_category_ordinal</th>\n",
       "      <th>days_since_start</th>\n",
       "      <th>months_since_start</th>\n",
       "    </tr>\n",
       "  </thead>\n",
       "  <tbody>\n",
       "    <tr>\n",
       "      <td>0</td>\n",
       "      <td>Product_0993</td>\n",
       "      <td>Whse_J</td>\n",
       "      <td>Category_028</td>\n",
       "      <td>100</td>\n",
       "      <td>1</td>\n",
       "      <td>1</td>\n",
       "      <td>1</td>\n",
       "      <td>566</td>\n",
       "      <td>18</td>\n",
       "    </tr>\n",
       "    <tr>\n",
       "      <td>1</td>\n",
       "      <td>Product_0979</td>\n",
       "      <td>Whse_J</td>\n",
       "      <td>Category_028</td>\n",
       "      <td>500</td>\n",
       "      <td>2</td>\n",
       "      <td>1</td>\n",
       "      <td>1</td>\n",
       "      <td>376</td>\n",
       "      <td>12</td>\n",
       "    </tr>\n",
       "    <tr>\n",
       "      <td>2</td>\n",
       "      <td>Product_0979</td>\n",
       "      <td>Whse_J</td>\n",
       "      <td>Category_028</td>\n",
       "      <td>500</td>\n",
       "      <td>2</td>\n",
       "      <td>1</td>\n",
       "      <td>1</td>\n",
       "      <td>391</td>\n",
       "      <td>13</td>\n",
       "    </tr>\n",
       "    <tr>\n",
       "      <td>3</td>\n",
       "      <td>Product_0979</td>\n",
       "      <td>Whse_J</td>\n",
       "      <td>Category_028</td>\n",
       "      <td>500</td>\n",
       "      <td>2</td>\n",
       "      <td>1</td>\n",
       "      <td>1</td>\n",
       "      <td>397</td>\n",
       "      <td>13</td>\n",
       "    </tr>\n",
       "    <tr>\n",
       "      <td>4</td>\n",
       "      <td>Product_0979</td>\n",
       "      <td>Whse_J</td>\n",
       "      <td>Category_028</td>\n",
       "      <td>500</td>\n",
       "      <td>2</td>\n",
       "      <td>1</td>\n",
       "      <td>1</td>\n",
       "      <td>419</td>\n",
       "      <td>14</td>\n",
       "    </tr>\n",
       "  </tbody>\n",
       "</table>\n",
       "</div>"
      ],
      "text/plain": [
       "   product_code warehouse product_category  order_demand  \\\n",
       "0  Product_0993    Whse_J     Category_028           100   \n",
       "1  Product_0979    Whse_J     Category_028           500   \n",
       "2  Product_0979    Whse_J     Category_028           500   \n",
       "3  Product_0979    Whse_J     Category_028           500   \n",
       "4  Product_0979    Whse_J     Category_028           500   \n",
       "\n",
       "   product_code_ordinal  warehouse_ordinal  product_category_ordinal  \\\n",
       "0                     1                  1                         1   \n",
       "1                     2                  1                         1   \n",
       "2                     2                  1                         1   \n",
       "3                     2                  1                         1   \n",
       "4                     2                  1                         1   \n",
       "\n",
       "   days_since_start  months_since_start  \n",
       "0               566                  18  \n",
       "1               376                  12  \n",
       "2               391                  13  \n",
       "3               397                  13  \n",
       "4               419                  14  "
      ]
     },
     "execution_count": 11,
     "metadata": {},
     "output_type": "execute_result"
    }
   ],
   "source": [
    "# Check if we have already processed the data:\n",
    "if not path.exists(\"data/processed/product_demand_cleaned.csv\"):\n",
    "    \n",
    "    # Get start date\n",
    "    date_start = product_demand_df[\"date\"].min()\n",
    "\n",
    "    # Calculate days since start\n",
    "    product_demand_df[\"days_since_start\"] = product_demand_df[\"date\"].apply(lambda date: (date - date_start).days)\n",
    "\n",
    "    # Calculate months since start\n",
    "    product_demand_df[\"months_since_start\"] = product_demand_df[\"date\"]\\\n",
    "        .apply(lambda date: ((date.year - date_start.year) * 12) + (date.month - date_start.month))\n",
    "\n",
    "    # We don't need this date column anymore\n",
    "    product_demand_df.drop(columns=[\"date\"], inplace=True)\n",
    "\n",
    "    # Save the cleaned data to a csv file\n",
    "    product_demand_df.to_csv(\"data/processed/product_demand_cleaned.csv\")\n",
    "else:\n",
    "    product_demand_df = pd.read_csv(\"data/processed/product_demand_cleaned.csv\")\n",
    "    product_demand_df.drop(product_demand_df.columns[0], axis=1, inplace=True) # Get rid of index column\n",
    "\n",
    "product_demand_df.head()"
   ]
  },
  {
   "cell_type": "markdown",
   "metadata": {},
   "source": [
    "Before we do the per month calculations, let's check the standard deviation of each product. This will help us later on down the line:"
   ]
  },
  {
   "cell_type": "code",
   "execution_count": 12,
   "metadata": {
    "scrolled": false
   },
   "outputs": [
    {
     "data": {
      "text/html": [
       "<div>\n",
       "<style scoped>\n",
       "    .dataframe tbody tr th:only-of-type {\n",
       "        vertical-align: middle;\n",
       "    }\n",
       "\n",
       "    .dataframe tbody tr th {\n",
       "        vertical-align: top;\n",
       "    }\n",
       "\n",
       "    .dataframe thead th {\n",
       "        text-align: right;\n",
       "    }\n",
       "</style>\n",
       "<table border=\"1\" class=\"dataframe\">\n",
       "  <thead>\n",
       "    <tr style=\"text-align: right;\">\n",
       "      <th></th>\n",
       "      <th>product_code</th>\n",
       "      <th>warehouse</th>\n",
       "      <th>product_category</th>\n",
       "      <th>order_demand</th>\n",
       "      <th>product_code_ordinal</th>\n",
       "      <th>warehouse_ordinal</th>\n",
       "      <th>product_category_ordinal</th>\n",
       "      <th>days_since_start</th>\n",
       "      <th>months_since_start</th>\n",
       "      <th>product_standard_dev_day</th>\n",
       "    </tr>\n",
       "  </thead>\n",
       "  <tbody>\n",
       "    <tr>\n",
       "      <td>0</td>\n",
       "      <td>Product_0993</td>\n",
       "      <td>Whse_J</td>\n",
       "      <td>Category_028</td>\n",
       "      <td>100</td>\n",
       "      <td>1</td>\n",
       "      <td>1</td>\n",
       "      <td>1</td>\n",
       "      <td>566</td>\n",
       "      <td>18</td>\n",
       "      <td>497.474763</td>\n",
       "    </tr>\n",
       "    <tr>\n",
       "      <td>1</td>\n",
       "      <td>Product_0993</td>\n",
       "      <td>Whse_J</td>\n",
       "      <td>Category_028</td>\n",
       "      <td>300</td>\n",
       "      <td>1</td>\n",
       "      <td>1</td>\n",
       "      <td>1</td>\n",
       "      <td>614</td>\n",
       "      <td>20</td>\n",
       "      <td>497.474763</td>\n",
       "    </tr>\n",
       "    <tr>\n",
       "      <td>2</td>\n",
       "      <td>Product_0993</td>\n",
       "      <td>Whse_J</td>\n",
       "      <td>Category_028</td>\n",
       "      <td>500</td>\n",
       "      <td>1</td>\n",
       "      <td>1</td>\n",
       "      <td>1</td>\n",
       "      <td>620</td>\n",
       "      <td>20</td>\n",
       "      <td>497.474763</td>\n",
       "    </tr>\n",
       "    <tr>\n",
       "      <td>3</td>\n",
       "      <td>Product_0993</td>\n",
       "      <td>Whse_J</td>\n",
       "      <td>Category_028</td>\n",
       "      <td>300</td>\n",
       "      <td>1</td>\n",
       "      <td>1</td>\n",
       "      <td>1</td>\n",
       "      <td>640</td>\n",
       "      <td>21</td>\n",
       "      <td>497.474763</td>\n",
       "    </tr>\n",
       "    <tr>\n",
       "      <td>4</td>\n",
       "      <td>Product_0993</td>\n",
       "      <td>Whse_J</td>\n",
       "      <td>Category_028</td>\n",
       "      <td>200</td>\n",
       "      <td>1</td>\n",
       "      <td>1</td>\n",
       "      <td>1</td>\n",
       "      <td>670</td>\n",
       "      <td>22</td>\n",
       "      <td>497.474763</td>\n",
       "    </tr>\n",
       "  </tbody>\n",
       "</table>\n",
       "</div>"
      ],
      "text/plain": [
       "   product_code warehouse product_category  order_demand  \\\n",
       "0  Product_0993    Whse_J     Category_028           100   \n",
       "1  Product_0993    Whse_J     Category_028           300   \n",
       "2  Product_0993    Whse_J     Category_028           500   \n",
       "3  Product_0993    Whse_J     Category_028           300   \n",
       "4  Product_0993    Whse_J     Category_028           200   \n",
       "\n",
       "   product_code_ordinal  warehouse_ordinal  product_category_ordinal  \\\n",
       "0                     1                  1                         1   \n",
       "1                     1                  1                         1   \n",
       "2                     1                  1                         1   \n",
       "3                     1                  1                         1   \n",
       "4                     1                  1                         1   \n",
       "\n",
       "   days_since_start  months_since_start  product_standard_dev_day  \n",
       "0               566                  18                497.474763  \n",
       "1               614                  20                497.474763  \n",
       "2               620                  20                497.474763  \n",
       "3               640                  21                497.474763  \n",
       "4               670                  22                497.474763  "
      ]
     },
     "execution_count": 12,
     "metadata": {},
     "output_type": "execute_result"
    }
   ],
   "source": [
    "standard_deviations = product_demand_df.groupby(\"product_code\")[\"order_demand\"].std().reset_index()\\\n",
    "    .rename(columns={\"order_demand\": \"product_standard_dev_day\"})\n",
    "standard_deviations = standard_deviations.replace(np.NaN, 0) # Make sure we have no NaN values\n",
    "product_demand_df = pd.merge(product_demand_df , standard_deviations, on=[\"product_code\"])\n",
    "product_demand_df.head()"
   ]
  },
  {
   "cell_type": "markdown",
   "metadata": {},
   "source": [
    "Now let's do the per month calculations:"
   ]
  },
  {
   "cell_type": "code",
   "execution_count": 13,
   "metadata": {},
   "outputs": [
    {
     "data": {
      "text/html": [
       "<div>\n",
       "<style scoped>\n",
       "    .dataframe tbody tr th:only-of-type {\n",
       "        vertical-align: middle;\n",
       "    }\n",
       "\n",
       "    .dataframe tbody tr th {\n",
       "        vertical-align: top;\n",
       "    }\n",
       "\n",
       "    .dataframe thead th {\n",
       "        text-align: right;\n",
       "    }\n",
       "</style>\n",
       "<table border=\"1\" class=\"dataframe\">\n",
       "  <thead>\n",
       "    <tr style=\"text-align: right;\">\n",
       "      <th></th>\n",
       "      <th>months_since_start</th>\n",
       "      <th>product_code_ordinal</th>\n",
       "      <th>order_demand</th>\n",
       "      <th>product_standard_dev_month</th>\n",
       "    </tr>\n",
       "  </thead>\n",
       "  <tbody>\n",
       "    <tr>\n",
       "      <td>0</td>\n",
       "      <td>0</td>\n",
       "      <td>45</td>\n",
       "      <td>2</td>\n",
       "      <td>7.681404</td>\n",
       "    </tr>\n",
       "    <tr>\n",
       "      <td>1</td>\n",
       "      <td>10</td>\n",
       "      <td>45</td>\n",
       "      <td>11</td>\n",
       "      <td>7.681404</td>\n",
       "    </tr>\n",
       "    <tr>\n",
       "      <td>2</td>\n",
       "      <td>11</td>\n",
       "      <td>45</td>\n",
       "      <td>1</td>\n",
       "      <td>7.681404</td>\n",
       "    </tr>\n",
       "    <tr>\n",
       "      <td>3</td>\n",
       "      <td>12</td>\n",
       "      <td>45</td>\n",
       "      <td>17</td>\n",
       "      <td>7.681404</td>\n",
       "    </tr>\n",
       "    <tr>\n",
       "      <td>4</td>\n",
       "      <td>13</td>\n",
       "      <td>45</td>\n",
       "      <td>29</td>\n",
       "      <td>7.681404</td>\n",
       "    </tr>\n",
       "  </tbody>\n",
       "</table>\n",
       "</div>"
      ],
      "text/plain": [
       "   months_since_start  product_code_ordinal  order_demand  \\\n",
       "0                   0                    45             2   \n",
       "1                  10                    45            11   \n",
       "2                  11                    45             1   \n",
       "3                  12                    45            17   \n",
       "4                  13                    45            29   \n",
       "\n",
       "   product_standard_dev_month  \n",
       "0                    7.681404  \n",
       "1                    7.681404  \n",
       "2                    7.681404  \n",
       "3                    7.681404  \n",
       "4                    7.681404  "
      ]
     },
     "execution_count": 13,
     "metadata": {},
     "output_type": "execute_result"
    }
   ],
   "source": [
    "demand_products_month_df = product_demand_df[[\"product_code_ordinal\", \"months_since_start\", \"order_demand\"]]\\\n",
    "    .groupby([\"months_since_start\", \"product_code_ordinal\"])[\"order_demand\"].sum().reset_index()\n",
    "# Add standard deviation feature\n",
    "standard_deviations = demand_products_month_df.groupby(\"product_code_ordinal\")[\"order_demand\"].std().reset_index()\\\n",
    "    .rename(columns={\"order_demand\": \"product_standard_dev_month\"})\n",
    "standard_deviations = standard_deviations.replace(np.NaN, 0) # Make sure we have no NaN values\n",
    "demand_products_month_df = pd.merge(demand_products_month_df , standard_deviations, on=[\"product_code_ordinal\"])\n",
    "demand_products_month_df.head()"
   ]
  },
  {
   "cell_type": "markdown",
   "metadata": {},
   "source": [
    "## Analysis\n",
    "Let's start analyzing some data. Let's start by visualizing the purchases:"
   ]
  },
  {
   "cell_type": "code",
   "execution_count": 14,
   "metadata": {},
   "outputs": [],
   "source": [
    "import matplotlib.pyplot as plt\n",
    "import matplotlib.cm as cm"
   ]
  },
  {
   "cell_type": "code",
   "execution_count": 29,
   "metadata": {},
   "outputs": [
    {
     "data": {
      "image/png": "[encoded data removed]",
      "text/plain": [
       "<Figure size 720x360 with 1 Axes>"
      ]
     },
     "metadata": {
      "needs_background": "light"
     },
     "output_type": "display_data"
    },
    {
     "data": {
      "image/png": "[encoded data removed]",
      "text/plain": [
       "<Figure size 720x360 with 1 Axes>"
      ]
     },
     "metadata": {
      "needs_background": "light"
     },
     "output_type": "display_data"
    }
   ],
   "source": [
    "plt.figure(figsize=(10, 5))\n",
    "\n",
    "num_products_shown = 10\n",
    "days_shown = 500\n",
    "\n",
    "data = product_demand_df.sort_values(by=\"days_since_start\").loc[product_demand_df[\"days_since_start\"] < days_shown]\\\n",
    "    .groupby([\"product_code_ordinal\"]).apply(lambda row: np.array(list(zip(row[\"days_since_start\"], row[\"order_demand\"]))))\n",
    "data = np.array(list(data[:num_products_shown]))\n",
    "\n",
    "colors = cm.rainbow(np.linspace(0, 1, num_products_shown))\n",
    "i = 0\n",
    "for d in data:\n",
    "    plt.plot(d[:, 0], d[:, 1], color=colors[i], label=unique_products[i])\n",
    "    i += 1\n",
    "plt.title(\"Product Order Demand Over Time\")\n",
    "plt.xlabel(\"Days Since Start Date\")\n",
    "plt.ylabel(\"Order Demand\")\n",
    "plt.legend()\n",
    "\n",
    "plt.figure(figsize=(10, 5))\n",
    "\n",
    "num_products_shown = 10\n",
    "\n",
    "data = demand_products_month_df.groupby([\"product_code_ordinal\"])\\\n",
    "    .apply(lambda row: np.array(list(zip(row[\"months_since_start\"], row[\"order_demand\"]))))\n",
    "data = np.array(list(data[:num_products_shown]))\n",
    "\n",
    "i = 0\n",
    "for d in data:\n",
    "    plt.plot(d[:, 0], d[:, 1], color=colors[i], label=unique_products[i])\n",
    "    i += 1\n",
    "plt.title(\"Product Order Demand Over Time\")\n",
    "plt.xlabel(\"Months Since Start Date\")\n",
    "plt.ylabel(\"Order Demand\")\n",
    "plt.legend()\n",
    "\n",
    "plt.show()"
   ]
  },
  {
   "cell_type": "markdown",
   "metadata": {},
   "source": [
    "Oh boy, that's a lot of colors. Let's pick one product that ideally has a large number of data points but a low standard deviation - this will lead to the most accurate predictions:"
   ]
  },
  {
   "cell_type": "code",
   "execution_count": 58,
   "metadata": {},
   "outputs": [
    {
     "data": {
      "text/html": [
       "<div>\n",
       "<style scoped>\n",
       "    .dataframe tbody tr th:only-of-type {\n",
       "        vertical-align: middle;\n",
       "    }\n",
       "\n",
       "    .dataframe tbody tr th {\n",
       "        vertical-align: top;\n",
       "    }\n",
       "\n",
       "    .dataframe thead th {\n",
       "        text-align: right;\n",
       "    }\n",
       "</style>\n",
       "<table border=\"1\" class=\"dataframe\">\n",
       "  <thead>\n",
       "    <tr style=\"text-align: right;\">\n",
       "      <th></th>\n",
       "      <th>product_code</th>\n",
       "      <th>warehouse</th>\n",
       "      <th>product_category</th>\n",
       "      <th>order_demand</th>\n",
       "      <th>warehouse_ordinal</th>\n",
       "      <th>product_category_ordinal</th>\n",
       "      <th>days_since_start</th>\n",
       "      <th>months_since_start</th>\n",
       "      <th>product_standard_dev_day</th>\n",
       "    </tr>\n",
       "    <tr>\n",
       "      <th>product_code_ordinal</th>\n",
       "      <th></th>\n",
       "      <th></th>\n",
       "      <th></th>\n",
       "      <th></th>\n",
       "      <th></th>\n",
       "      <th></th>\n",
       "      <th></th>\n",
       "      <th></th>\n",
       "      <th></th>\n",
       "    </tr>\n",
       "  </thead>\n",
       "  <tbody>\n",
       "    <tr>\n",
       "      <td>2</td>\n",
       "      <td>Product_0979</td>\n",
       "      <td>Whse_J</td>\n",
       "      <td>Category_028</td>\n",
       "      <td>500</td>\n",
       "      <td>1</td>\n",
       "      <td>1</td>\n",
       "      <td>376</td>\n",
       "      <td>12</td>\n",
       "      <td>4405.222077</td>\n",
       "    </tr>\n",
       "    <tr>\n",
       "      <td>7</td>\n",
       "      <td>Product_1451</td>\n",
       "      <td>Whse_J</td>\n",
       "      <td>Category_019</td>\n",
       "      <td>1000</td>\n",
       "      <td>1</td>\n",
       "      <td>4</td>\n",
       "      <td>369</td>\n",
       "      <td>12</td>\n",
       "      <td>26688.058606</td>\n",
       "    </tr>\n",
       "    <tr>\n",
       "      <td>8</td>\n",
       "      <td>Product_1274</td>\n",
       "      <td>Whse_J</td>\n",
       "      <td>Category_019</td>\n",
       "      <td>1000</td>\n",
       "      <td>1</td>\n",
       "      <td>4</td>\n",
       "      <td>373</td>\n",
       "      <td>12</td>\n",
       "      <td>19842.734521</td>\n",
       "    </tr>\n",
       "    <tr>\n",
       "      <td>9</td>\n",
       "      <td>Product_1512</td>\n",
       "      <td>Whse_J</td>\n",
       "      <td>Category_019</td>\n",
       "      <td>20000</td>\n",
       "      <td>1</td>\n",
       "      <td>4</td>\n",
       "      <td>382</td>\n",
       "      <td>12</td>\n",
       "      <td>6332.481808</td>\n",
       "    </tr>\n",
       "    <tr>\n",
       "      <td>10</td>\n",
       "      <td>Product_1970</td>\n",
       "      <td>Whse_J</td>\n",
       "      <td>Category_005</td>\n",
       "      <td>28000</td>\n",
       "      <td>1</td>\n",
       "      <td>5</td>\n",
       "      <td>395</td>\n",
       "      <td>13</td>\n",
       "      <td>10264.338402</td>\n",
       "    </tr>\n",
       "    <tr>\n",
       "      <td>...</td>\n",
       "      <td>...</td>\n",
       "      <td>...</td>\n",
       "      <td>...</td>\n",
       "      <td>...</td>\n",
       "      <td>...</td>\n",
       "      <td>...</td>\n",
       "      <td>...</td>\n",
       "      <td>...</td>\n",
       "      <td>...</td>\n",
       "    </tr>\n",
       "    <tr>\n",
       "      <td>1047</td>\n",
       "      <td>Product_1464</td>\n",
       "      <td>Whse_J</td>\n",
       "      <td>Category_019</td>\n",
       "      <td>100</td>\n",
       "      <td>1</td>\n",
       "      <td>4</td>\n",
       "      <td>394</td>\n",
       "      <td>13</td>\n",
       "      <td>2954.639151</td>\n",
       "    </tr>\n",
       "    <tr>\n",
       "      <td>1151</td>\n",
       "      <td>Product_1314</td>\n",
       "      <td>Whse_J</td>\n",
       "      <td>Category_019</td>\n",
       "      <td>2000</td>\n",
       "      <td>1</td>\n",
       "      <td>4</td>\n",
       "      <td>374</td>\n",
       "      <td>12</td>\n",
       "      <td>1650.695632</td>\n",
       "    </tr>\n",
       "    <tr>\n",
       "      <td>1152</td>\n",
       "      <td>Product_1392</td>\n",
       "      <td>Whse_J</td>\n",
       "      <td>Category_019</td>\n",
       "      <td>2000</td>\n",
       "      <td>1</td>\n",
       "      <td>4</td>\n",
       "      <td>374</td>\n",
       "      <td>12</td>\n",
       "      <td>939.086879</td>\n",
       "    </tr>\n",
       "    <tr>\n",
       "      <td>1236</td>\n",
       "      <td>Product_1388</td>\n",
       "      <td>Whse_A</td>\n",
       "      <td>Category_019</td>\n",
       "      <td>25000</td>\n",
       "      <td>4</td>\n",
       "      <td>4</td>\n",
       "      <td>410</td>\n",
       "      <td>13</td>\n",
       "      <td>8485.336360</td>\n",
       "    </tr>\n",
       "    <tr>\n",
       "      <td>1377</td>\n",
       "      <td>Product_0361</td>\n",
       "      <td>Whse_J</td>\n",
       "      <td>Category_007</td>\n",
       "      <td>2</td>\n",
       "      <td>1</td>\n",
       "      <td>10</td>\n",
       "      <td>640</td>\n",
       "      <td>21</td>\n",
       "      <td>23.662398</td>\n",
       "    </tr>\n",
       "  </tbody>\n",
       "</table>\n",
       "<p>100 rows × 9 columns</p>\n",
       "</div>"
      ],
      "text/plain": [
       "                      product_code warehouse product_category  order_demand  \\\n",
       "product_code_ordinal                                                          \n",
       "2                     Product_0979    Whse_J     Category_028           500   \n",
       "7                     Product_1451    Whse_J     Category_019          1000   \n",
       "8                     Product_1274    Whse_J     Category_019          1000   \n",
       "9                     Product_1512    Whse_J     Category_019         20000   \n",
       "10                    Product_1970    Whse_J     Category_005         28000   \n",
       "...                            ...       ...              ...           ...   \n",
       "1047                  Product_1464    Whse_J     Category_019           100   \n",
       "1151                  Product_1314    Whse_J     Category_019          2000   \n",
       "1152                  Product_1392    Whse_J     Category_019          2000   \n",
       "1236                  Product_1388    Whse_A     Category_019         25000   \n",
       "1377                  Product_0361    Whse_J     Category_007             2   \n",
       "\n",
       "                      warehouse_ordinal  product_category_ordinal  \\\n",
       "product_code_ordinal                                                \n",
       "2                                     1                         1   \n",
       "7                                     1                         4   \n",
       "8                                     1                         4   \n",
       "9                                     1                         4   \n",
       "10                                    1                         5   \n",
       "...                                 ...                       ...   \n",
       "1047                                  1                         4   \n",
       "1151                                  1                         4   \n",
       "1152                                  1                         4   \n",
       "1236                                  4                         4   \n",
       "1377                                  1                        10   \n",
       "\n",
       "                      days_since_start  months_since_start  \\\n",
       "product_code_ordinal                                         \n",
       "2                                  376                  12   \n",
       "7                                  369                  12   \n",
       "8                                  373                  12   \n",
       "9                                  382                  12   \n",
       "10                                 395                  13   \n",
       "...                                ...                 ...   \n",
       "1047                               394                  13   \n",
       "1151                               374                  12   \n",
       "1152                               374                  12   \n",
       "1236                               410                  13   \n",
       "1377                               640                  21   \n",
       "\n",
       "                      product_standard_dev_day  \n",
       "product_code_ordinal                            \n",
       "2                                  4405.222077  \n",
       "7                                 26688.058606  \n",
       "8                                 19842.734521  \n",
       "9                                  6332.481808  \n",
       "10                                10264.338402  \n",
       "...                                        ...  \n",
       "1047                               2954.639151  \n",
       "1151                               1650.695632  \n",
       "1152                                939.086879  \n",
       "1236                               8485.336360  \n",
       "1377                                 23.662398  \n",
       "\n",
       "[100 rows x 9 columns]"
      ]
     },
     "execution_count": 58,
     "metadata": {},
     "output_type": "execute_result"
    }
   ],
   "source": [
    "products_with_most_data = product_demand_df.groupby(\"product_code_ordinal\").size()\\\n",
    "    .sort_values(ascending=False)[:100].reset_index()[\"product_code_ordinal\"].values\n",
    "\n",
    "products_with_low_std = product_demand_df.loc[product_demand_df[\"product_code_ordinal\"].isin(products_with_most_data)]\\\n",
    "    .groupby(\"product_code_ordinal\").first()[\"product_standard_dev_day\"]\\\n",
    "    .sort_values(ascending=True).reset_index()[\"product_code_ordinal\"].values\n",
    "\n",
    "product_demand_df.loc[product_demand_df[\"product_code_ordinal\"].isin(products_with_low_std)]\\\n",
    "    .groupby(\"product_code_ordinal\").first()"
   ]
  },
  {
   "cell_type": "markdown",
   "metadata": {},
   "source": [
    "Because it seems that `product_category` is more stable, we will look at that to do our forecasting:"
   ]
  },
  {
   "cell_type": "code",
   "execution_count": 59,
   "metadata": {},
   "outputs": [],
   "source": [
    "from sklearn.model_selection import train_test_split\n",
    "from sklearn.metrics import accuracy_score\n",
    "from sklearn.ensemble import GradientBoostingRegressor\n",
    "from sklearn.neural_network import MLPRegressor\n",
    "\n",
    "labels = product_demand_df[\"order_demand\"]\n",
    "test_size = 0.20 # Test size is 20% of all rows\n",
    "features = product_demand_df[[\"product_code_ordinal\", \"warehouse_ordinal\", \"product_category_ordinal\"]]\n",
    "training_f, testing_f, training_l, testing_l = train_test_split(features, labels, test_size=test_size)"
   ]
  },
  {
   "cell_type": "markdown",
   "metadata": {},
   "source": [
    "#### Gradient Boosting"
   ]
  },
  {
   "cell_type": "code",
   "execution_count": 60,
   "metadata": {},
   "outputs": [
    {
     "ename": "KeyboardInterrupt",
     "evalue": "",
     "output_type": "error",
     "traceback": [
      "\u001b[1;31m---------------------------------------------------------------------------\u001b[0m",
      "\u001b[1;31mKeyboardInterrupt\u001b[0m                         Traceback (most recent call last)",
      "\u001b[1;32m<ipython-input-60-c9f904cc53ad>\u001b[0m in \u001b[0;36m<module>\u001b[1;34m\u001b[0m\n\u001b[0;32m      1\u001b[0m \u001b[0mgrad_boost\u001b[0m \u001b[1;33m=\u001b[0m \u001b[0mGradientBoostingRegressor\u001b[0m\u001b[1;33m(\u001b[0m\u001b[1;33m)\u001b[0m\u001b[1;33m\u001b[0m\u001b[1;33m\u001b[0m\u001b[0m\n\u001b[1;32m----> 2\u001b[1;33m \u001b[0mgrad_boost\u001b[0m\u001b[1;33m.\u001b[0m\u001b[0mfit\u001b[0m\u001b[1;33m(\u001b[0m\u001b[0mtraining_f\u001b[0m\u001b[1;33m,\u001b[0m \u001b[0mtraining_l\u001b[0m\u001b[1;33m)\u001b[0m\u001b[1;33m\u001b[0m\u001b[1;33m\u001b[0m\u001b[0m\n\u001b[0m\u001b[0;32m      3\u001b[0m \u001b[0mprediction\u001b[0m \u001b[1;33m=\u001b[0m \u001b[0mgrad_boost\u001b[0m\u001b[1;33m.\u001b[0m\u001b[0mpredict\u001b[0m\u001b[1;33m(\u001b[0m\u001b[0mtesting_f\u001b[0m\u001b[1;33m)\u001b[0m\u001b[1;33m\u001b[0m\u001b[1;33m\u001b[0m\u001b[0m\n\u001b[0;32m      4\u001b[0m \u001b[0mgrad_boost_accuracy\u001b[0m \u001b[1;33m=\u001b[0m \u001b[0mgrad_boost\u001b[0m\u001b[1;33m.\u001b[0m\u001b[0mscore\u001b[0m\u001b[1;33m(\u001b[0m\u001b[0mtesting_f\u001b[0m\u001b[1;33m,\u001b[0m \u001b[0mtesting_l\u001b[0m\u001b[1;33m)\u001b[0m\u001b[1;33m\u001b[0m\u001b[1;33m\u001b[0m\u001b[0m\n",
      "\u001b[1;32m~\\Anaconda3\\lib\\site-packages\\sklearn\\ensemble\\gradient_boosting.py\u001b[0m in \u001b[0;36mfit\u001b[1;34m(self, X, y, sample_weight, monitor)\u001b[0m\n\u001b[0;32m   1544\u001b[0m         n_stages = self._fit_stages(\n\u001b[0;32m   1545\u001b[0m             \u001b[0mX\u001b[0m\u001b[1;33m,\u001b[0m \u001b[0my\u001b[0m\u001b[1;33m,\u001b[0m \u001b[0mraw_predictions\u001b[0m\u001b[1;33m,\u001b[0m \u001b[0msample_weight\u001b[0m\u001b[1;33m,\u001b[0m \u001b[0mself\u001b[0m\u001b[1;33m.\u001b[0m\u001b[0m_rng\u001b[0m\u001b[1;33m,\u001b[0m \u001b[0mX_val\u001b[0m\u001b[1;33m,\u001b[0m \u001b[0my_val\u001b[0m\u001b[1;33m,\u001b[0m\u001b[1;33m\u001b[0m\u001b[1;33m\u001b[0m\u001b[0m\n\u001b[1;32m-> 1546\u001b[1;33m             sample_weight_val, begin_at_stage, monitor, X_idx_sorted)\n\u001b[0m\u001b[0;32m   1547\u001b[0m \u001b[1;33m\u001b[0m\u001b[0m\n\u001b[0;32m   1548\u001b[0m         \u001b[1;31m# change shape of arrays after fit (early-stopping or additional ests)\u001b[0m\u001b[1;33m\u001b[0m\u001b[1;33m\u001b[0m\u001b[1;33m\u001b[0m\u001b[0m\n",
      "\u001b[1;32m~\\Anaconda3\\lib\\site-packages\\sklearn\\ensemble\\gradient_boosting.py\u001b[0m in \u001b[0;36m_fit_stages\u001b[1;34m(self, X, y, raw_predictions, sample_weight, random_state, X_val, y_val, sample_weight_val, begin_at_stage, monitor, X_idx_sorted)\u001b[0m\n\u001b[0;32m   1608\u001b[0m             raw_predictions = self._fit_stage(\n\u001b[0;32m   1609\u001b[0m                 \u001b[0mi\u001b[0m\u001b[1;33m,\u001b[0m \u001b[0mX\u001b[0m\u001b[1;33m,\u001b[0m \u001b[0my\u001b[0m\u001b[1;33m,\u001b[0m \u001b[0mraw_predictions\u001b[0m\u001b[1;33m,\u001b[0m \u001b[0msample_weight\u001b[0m\u001b[1;33m,\u001b[0m \u001b[0msample_mask\u001b[0m\u001b[1;33m,\u001b[0m\u001b[1;33m\u001b[0m\u001b[1;33m\u001b[0m\u001b[0m\n\u001b[1;32m-> 1610\u001b[1;33m                 random_state, X_idx_sorted, X_csc, X_csr)\n\u001b[0m\u001b[0;32m   1611\u001b[0m \u001b[1;33m\u001b[0m\u001b[0m\n\u001b[0;32m   1612\u001b[0m             \u001b[1;31m# track deviance (= loss)\u001b[0m\u001b[1;33m\u001b[0m\u001b[1;33m\u001b[0m\u001b[1;33m\u001b[0m\u001b[0m\n",
      "\u001b[1;32m~\\Anaconda3\\lib\\site-packages\\sklearn\\ensemble\\gradient_boosting.py\u001b[0m in \u001b[0;36m_fit_stage\u001b[1;34m(self, i, X, y, raw_predictions, sample_weight, sample_mask, random_state, X_idx_sorted, X_csc, X_csr)\u001b[0m\n\u001b[0;32m   1242\u001b[0m             \u001b[0mX\u001b[0m \u001b[1;33m=\u001b[0m \u001b[0mX_csr\u001b[0m \u001b[1;32mif\u001b[0m \u001b[0mX_csr\u001b[0m \u001b[1;32mis\u001b[0m \u001b[1;32mnot\u001b[0m \u001b[1;32mNone\u001b[0m \u001b[1;32melse\u001b[0m \u001b[0mX\u001b[0m\u001b[1;33m\u001b[0m\u001b[1;33m\u001b[0m\u001b[0m\n\u001b[0;32m   1243\u001b[0m             tree.fit(X, residual, sample_weight=sample_weight,\n\u001b[1;32m-> 1244\u001b[1;33m                      check_input=False, X_idx_sorted=X_idx_sorted)\n\u001b[0m\u001b[0;32m   1245\u001b[0m \u001b[1;33m\u001b[0m\u001b[0m\n\u001b[0;32m   1246\u001b[0m             \u001b[1;31m# update tree leaves\u001b[0m\u001b[1;33m\u001b[0m\u001b[1;33m\u001b[0m\u001b[1;33m\u001b[0m\u001b[0m\n",
      "\u001b[1;32m~\\Anaconda3\\lib\\site-packages\\sklearn\\tree\\tree.py\u001b[0m in \u001b[0;36mfit\u001b[1;34m(self, X, y, sample_weight, check_input, X_idx_sorted)\u001b[0m\n\u001b[0;32m   1155\u001b[0m             \u001b[0msample_weight\u001b[0m\u001b[1;33m=\u001b[0m\u001b[0msample_weight\u001b[0m\u001b[1;33m,\u001b[0m\u001b[1;33m\u001b[0m\u001b[1;33m\u001b[0m\u001b[0m\n\u001b[0;32m   1156\u001b[0m             \u001b[0mcheck_input\u001b[0m\u001b[1;33m=\u001b[0m\u001b[0mcheck_input\u001b[0m\u001b[1;33m,\u001b[0m\u001b[1;33m\u001b[0m\u001b[1;33m\u001b[0m\u001b[0m\n\u001b[1;32m-> 1157\u001b[1;33m             X_idx_sorted=X_idx_sorted)\n\u001b[0m\u001b[0;32m   1158\u001b[0m         \u001b[1;32mreturn\u001b[0m \u001b[0mself\u001b[0m\u001b[1;33m\u001b[0m\u001b[1;33m\u001b[0m\u001b[0m\n\u001b[0;32m   1159\u001b[0m \u001b[1;33m\u001b[0m\u001b[0m\n",
      "\u001b[1;32m~\\Anaconda3\\lib\\site-packages\\sklearn\\tree\\tree.py\u001b[0m in \u001b[0;36mfit\u001b[1;34m(self, X, y, sample_weight, check_input, X_idx_sorted)\u001b[0m\n\u001b[0;32m    378\u001b[0m                                            min_impurity_split)\n\u001b[0;32m    379\u001b[0m \u001b[1;33m\u001b[0m\u001b[0m\n\u001b[1;32m--> 380\u001b[1;33m         \u001b[0mbuilder\u001b[0m\u001b[1;33m.\u001b[0m\u001b[0mbuild\u001b[0m\u001b[1;33m(\u001b[0m\u001b[0mself\u001b[0m\u001b[1;33m.\u001b[0m\u001b[0mtree_\u001b[0m\u001b[1;33m,\u001b[0m \u001b[0mX\u001b[0m\u001b[1;33m,\u001b[0m \u001b[0my\u001b[0m\u001b[1;33m,\u001b[0m \u001b[0msample_weight\u001b[0m\u001b[1;33m,\u001b[0m \u001b[0mX_idx_sorted\u001b[0m\u001b[1;33m)\u001b[0m\u001b[1;33m\u001b[0m\u001b[1;33m\u001b[0m\u001b[0m\n\u001b[0m\u001b[0;32m    381\u001b[0m \u001b[1;33m\u001b[0m\u001b[0m\n\u001b[0;32m    382\u001b[0m         \u001b[1;32mif\u001b[0m \u001b[0mself\u001b[0m\u001b[1;33m.\u001b[0m\u001b[0mn_outputs_\u001b[0m \u001b[1;33m==\u001b[0m \u001b[1;36m1\u001b[0m\u001b[1;33m:\u001b[0m\u001b[1;33m\u001b[0m\u001b[1;33m\u001b[0m\u001b[0m\n",
      "\u001b[1;31mKeyboardInterrupt\u001b[0m: "
     ]
    }
   ],
   "source": [
    "grad_boost = GradientBoostingRegressor()\n",
    "grad_boost.fit(training_f, training_l)\n",
    "prediction = grad_boost.predict(testing_f)\n",
    "grad_boost_accuracy = grad_boost.score(testing_f, testing_l)"
   ]
  },
  {
   "cell_type": "markdown",
   "metadata": {},
   "source": [
    "#### Neural Network"
   ]
  },
  {
   "cell_type": "code",
   "execution_count": 48,
   "metadata": {},
   "outputs": [
    {
     "name": "stderr",
     "output_type": "stream",
     "text": [
      "C:\\Users\\Justin\\Anaconda3\\lib\\site-packages\\sklearn\\neural_network\\multilayer_perceptron.py:566: ConvergenceWarning: Stochastic Optimizer: Maximum iterations (100) reached and the optimization hasn't converged yet.\n",
      "  % self.max_iter, ConvergenceWarning)\n"
     ]
    },
    {
     "data": {
      "text/plain": [
       "0.0479564169770722"
      ]
     },
     "execution_count": 48,
     "metadata": {},
     "output_type": "execute_result"
    }
   ],
   "source": [
    "nn = MLPRegressor(max_iter=100)\n",
    "nn.fit(training_f, training_l)\n",
    "prediction = nn.predict(testing_f)\n",
    "nn.score(testing_f, testing_l)"
   ]
  },
  {
   "cell_type": "code",
   "execution_count": null,
   "metadata": {},
   "outputs": [],
   "source": []
  }
 ],
 "metadata": {
  "kernelspec": {
   "display_name": "Python 3",
   "language": "python",
   "name": "python3"
  },
  "language_info": {
   "codemirror_mode": {
    "name": "ipython",
    "version": 3
   },
   "file_extension": ".py",
   "mimetype": "text/x-python",
   "name": "python",
   "nbconvert_exporter": "python",
   "pygments_lexer": "ipython3",
   "version": "3.7.4"
  }
 },
 "nbformat": 4,
 "nbformat_minor": 2
}
