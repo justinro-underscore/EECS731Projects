{
 "cells": [
  {
   "cell_type": "markdown",
   "metadata": {},
   "source": [
    "# To Be, Or Not To Be Project"
   ]
  },
  {
   "cell_type": "markdown",
   "metadata": {},
   "source": [
    "Shakespeare is debatably the most prolific writer in all of history. He has written so many plays and has had such an impact on our culture and media that it is almost impossible to find a person who has never heard of his works. One reason for his popularity and success is how accessible his plays are, as all of them are in the public domain. Today, we will use Shakespeare's public works to practice **classification** problems, and determine what character is speaking what line just by using data and methods of classification."
   ]
  },
  {
   "cell_type": "markdown",
   "metadata": {},
   "source": [
    "## Retrieving the Data\n",
    "This data comes from the [Shakespeare plays page on Kaggle](https://www.kaggle.com/kingburrito666/shakespeare-plays#Shakespeare_data.csv). We will begin by loading the dataset into a dataframe:"
   ]
  },
  {
   "cell_type": "code",
   "execution_count": 1,
   "metadata": {},
   "outputs": [
    {
     "data": {
      "text/html": [
       "<div>\n",
       "<style scoped>\n",
       "    .dataframe tbody tr th:only-of-type {\n",
       "        vertical-align: middle;\n",
       "    }\n",
       "\n",
       "    .dataframe tbody tr th {\n",
       "        vertical-align: top;\n",
       "    }\n",
       "\n",
       "    .dataframe thead th {\n",
       "        text-align: right;\n",
       "    }\n",
       "</style>\n",
       "<table border=\"1\" class=\"dataframe\">\n",
       "  <thead>\n",
       "    <tr style=\"text-align: right;\">\n",
       "      <th></th>\n",
       "      <th>Dataline</th>\n",
       "      <th>Play</th>\n",
       "      <th>PlayerLinenumber</th>\n",
       "      <th>ActSceneLine</th>\n",
       "      <th>Player</th>\n",
       "      <th>PlayerLine</th>\n",
       "    </tr>\n",
       "  </thead>\n",
       "  <tbody>\n",
       "    <tr>\n",
       "      <th>0</th>\n",
       "      <td>1</td>\n",
       "      <td>Henry IV</td>\n",
       "      <td>NaN</td>\n",
       "      <td>NaN</td>\n",
       "      <td>NaN</td>\n",
       "      <td>ACT I</td>\n",
       "    </tr>\n",
       "    <tr>\n",
       "      <th>1</th>\n",
       "      <td>2</td>\n",
       "      <td>Henry IV</td>\n",
       "      <td>NaN</td>\n",
       "      <td>NaN</td>\n",
       "      <td>NaN</td>\n",
       "      <td>SCENE I. London. The palace.</td>\n",
       "    </tr>\n",
       "    <tr>\n",
       "      <th>2</th>\n",
       "      <td>3</td>\n",
       "      <td>Henry IV</td>\n",
       "      <td>NaN</td>\n",
       "      <td>NaN</td>\n",
       "      <td>NaN</td>\n",
       "      <td>Enter KING HENRY, LORD JOHN OF LANCASTER, the ...</td>\n",
       "    </tr>\n",
       "    <tr>\n",
       "      <th>3</th>\n",
       "      <td>4</td>\n",
       "      <td>Henry IV</td>\n",
       "      <td>1.0</td>\n",
       "      <td>1.1.1</td>\n",
       "      <td>KING HENRY IV</td>\n",
       "      <td>So shaken as we are, so wan with care,</td>\n",
       "    </tr>\n",
       "    <tr>\n",
       "      <th>4</th>\n",
       "      <td>5</td>\n",
       "      <td>Henry IV</td>\n",
       "      <td>1.0</td>\n",
       "      <td>1.1.2</td>\n",
       "      <td>KING HENRY IV</td>\n",
       "      <td>Find we a time for frighted peace to pant,</td>\n",
       "    </tr>\n",
       "  </tbody>\n",
       "</table>\n",
       "</div>"
      ],
      "text/plain": [
       "   Dataline      Play  PlayerLinenumber ActSceneLine         Player  \\\n",
       "0         1  Henry IV               NaN          NaN            NaN   \n",
       "1         2  Henry IV               NaN          NaN            NaN   \n",
       "2         3  Henry IV               NaN          NaN            NaN   \n",
       "3         4  Henry IV               1.0        1.1.1  KING HENRY IV   \n",
       "4         5  Henry IV               1.0        1.1.2  KING HENRY IV   \n",
       "\n",
       "                                          PlayerLine  \n",
       "0                                              ACT I  \n",
       "1                       SCENE I. London. The palace.  \n",
       "2  Enter KING HENRY, LORD JOHN OF LANCASTER, the ...  \n",
       "3             So shaken as we are, so wan with care,  \n",
       "4         Find we a time for frighted peace to pant,  "
      ]
     },
     "execution_count": 1,
     "metadata": {},
     "output_type": "execute_result"
    }
   ],
   "source": [
    "from os import path\n",
    "import numpy as np\n",
    "import pandas as pd\n",
    "\n",
    "shakespeare_df = pd.read_csv(\"data/raw/Shakespeare_data.csv\")\n",
    "shakespeare_df.head()"
   ]
  },
  {
   "cell_type": "markdown",
   "metadata": {},
   "source": [
    "Let's run through some quick information about this dataset:"
   ]
  },
  {
   "cell_type": "code",
   "execution_count": 2,
   "metadata": {},
   "outputs": [
    {
     "data": {
      "text/plain": [
       "(111396, 6)"
      ]
     },
     "execution_count": 2,
     "metadata": {},
     "output_type": "execute_result"
    }
   ],
   "source": [
    "shakespeare_df.shape"
   ]
  },
  {
   "cell_type": "code",
   "execution_count": 3,
   "metadata": {},
   "outputs": [
    {
     "data": {
      "text/plain": [
       "Index(['Dataline', 'Play', 'PlayerLinenumber', 'ActSceneLine', 'Player',\n",
       "       'PlayerLine'],\n",
       "      dtype='object')"
      ]
     },
     "execution_count": 3,
     "metadata": {},
     "output_type": "execute_result"
    }
   ],
   "source": [
    "shakespeare_df.keys()"
   ]
  },
  {
   "cell_type": "code",
   "execution_count": 4,
   "metadata": {},
   "outputs": [
    {
     "data": {
      "text/plain": [
       "{'Number of Plays': 36,\n",
       " 'Play Titles': array(['Henry IV', 'Henry VI Part 1', 'Henry VI Part 2',\n",
       "        'Henry VI Part 3', 'Alls well that ends well', 'As you like it',\n",
       "        'Antony and Cleopatra', 'A Comedy of Errors', 'Coriolanus',\n",
       "        'Cymbeline', 'Hamlet', 'Henry V', 'Henry VIII', 'King John',\n",
       "        'Julius Caesar', 'King Lear', 'Loves Labours Lost', 'macbeth',\n",
       "        'Measure for measure', 'Merchant of Venice',\n",
       "        'Merry Wives of Windsor', 'A Midsummer nights dream',\n",
       "        'Much Ado about nothing', 'Othello', 'Pericles', 'Richard II',\n",
       "        'Richard III', 'Romeo and Juliet', 'Taming of the Shrew',\n",
       "        'The Tempest', 'Timon of Athens', 'Titus Andronicus',\n",
       "        'Troilus and Cressida', 'Twelfth Night', 'Two Gentlemen of Verona',\n",
       "        'A Winters Tale'], dtype=object)}"
      ]
     },
     "execution_count": 4,
     "metadata": {},
     "output_type": "execute_result"
    }
   ],
   "source": [
    "{\"Play Titles\": shakespeare_df[\"Play\"].unique(), \"Number of Plays\": shakespeare_df[\"Play\"].unique().size}"
   ]
  },
  {
   "cell_type": "markdown",
   "metadata": {},
   "source": [
    "Wow, Shakespeare wrote a lot.\n",
    "\n",
    "What do we know now about this dataset? Well, we know that in the *36* plays that are described in this dataset, we have a combined total of about **111,396** lines. Also, in order to continue using this dataset, we must understand what the columns describe:\n",
    "\n",
    "|Key              |Description|\n",
    "|:----------------|:----------|\n",
    "|Dataline         |Index of the row in the dataset|\n",
    "|Play             |Play that the given line is from|\n",
    "|PlayerLinenumber |Number of line being spoken at a given time|\n",
    "|ActSceneLine     |{Act Number}.{Scene Number}.{Line Number}|\n",
    "|Player           |Character who is speaking the current line|\n",
    "|PlayerLine       |The actual text of the line|"
   ]
  },
  {
   "cell_type": "markdown",
   "metadata": {},
   "source": [
    "## Cleaning Up the Data\n",
    "Let's make this dataset a little more manageable! Two really simple things we can do to make things cleaner are:\n",
    "- Get rid of the `Dataline` column - that will not be necessary in our analysis\n",
    "- Rename all of our columns to be cleaner"
   ]
  },
  {
   "cell_type": "markdown",
   "metadata": {},
   "source": [
    "There is also a problem with certain rows when the `ActSceneLine` value is null or `Player` value is null:"
   ]
  },
  {
   "cell_type": "code",
   "execution_count": 5,
   "metadata": {},
   "outputs": [
    {
     "data": {
      "text/html": [
       "<div>\n",
       "<style scoped>\n",
       "    .dataframe tbody tr th:only-of-type {\n",
       "        vertical-align: middle;\n",
       "    }\n",
       "\n",
       "    .dataframe tbody tr th {\n",
       "        vertical-align: top;\n",
       "    }\n",
       "\n",
       "    .dataframe thead th {\n",
       "        text-align: right;\n",
       "    }\n",
       "</style>\n",
       "<table border=\"1\" class=\"dataframe\">\n",
       "  <thead>\n",
       "    <tr style=\"text-align: right;\">\n",
       "      <th></th>\n",
       "      <th>Dataline</th>\n",
       "      <th>Play</th>\n",
       "      <th>PlayerLinenumber</th>\n",
       "      <th>ActSceneLine</th>\n",
       "      <th>Player</th>\n",
       "      <th>PlayerLine</th>\n",
       "    </tr>\n",
       "  </thead>\n",
       "  <tbody>\n",
       "    <tr>\n",
       "      <th>0</th>\n",
       "      <td>1</td>\n",
       "      <td>Henry IV</td>\n",
       "      <td>NaN</td>\n",
       "      <td>NaN</td>\n",
       "      <td>NaN</td>\n",
       "      <td>ACT I</td>\n",
       "    </tr>\n",
       "    <tr>\n",
       "      <th>1</th>\n",
       "      <td>2</td>\n",
       "      <td>Henry IV</td>\n",
       "      <td>NaN</td>\n",
       "      <td>NaN</td>\n",
       "      <td>NaN</td>\n",
       "      <td>SCENE I. London. The palace.</td>\n",
       "    </tr>\n",
       "    <tr>\n",
       "      <th>2</th>\n",
       "      <td>3</td>\n",
       "      <td>Henry IV</td>\n",
       "      <td>NaN</td>\n",
       "      <td>NaN</td>\n",
       "      <td>NaN</td>\n",
       "      <td>Enter KING HENRY, LORD JOHN OF LANCASTER, the ...</td>\n",
       "    </tr>\n",
       "    <tr>\n",
       "      <th>111</th>\n",
       "      <td>112</td>\n",
       "      <td>Henry IV</td>\n",
       "      <td>10.0</td>\n",
       "      <td>NaN</td>\n",
       "      <td>WESTMORELAND</td>\n",
       "      <td>Exeunt</td>\n",
       "    </tr>\n",
       "    <tr>\n",
       "      <th>112</th>\n",
       "      <td>113</td>\n",
       "      <td>Henry IV</td>\n",
       "      <td>10.0</td>\n",
       "      <td>NaN</td>\n",
       "      <td>WESTMORELAND</td>\n",
       "      <td>SCENE II. London. An apartment of the Prince's.</td>\n",
       "    </tr>\n",
       "    <tr>\n",
       "      <th>113</th>\n",
       "      <td>114</td>\n",
       "      <td>Henry IV</td>\n",
       "      <td>10.0</td>\n",
       "      <td>NaN</td>\n",
       "      <td>WESTMORELAND</td>\n",
       "      <td>Enter the PRINCE OF WALES and FALSTAFF</td>\n",
       "    </tr>\n",
       "    <tr>\n",
       "      <th>214</th>\n",
       "      <td>215</td>\n",
       "      <td>Henry IV</td>\n",
       "      <td>33.0</td>\n",
       "      <td>NaN</td>\n",
       "      <td>FALSTAFF</td>\n",
       "      <td>Enter POINS</td>\n",
       "    </tr>\n",
       "    <tr>\n",
       "      <th>264</th>\n",
       "      <td>265</td>\n",
       "      <td>Henry IV</td>\n",
       "      <td>52.0</td>\n",
       "      <td>NaN</td>\n",
       "      <td>PRINCE HENRY</td>\n",
       "      <td>Exit Falstaff</td>\n",
       "    </tr>\n",
       "    <tr>\n",
       "      <th>299</th>\n",
       "      <td>300</td>\n",
       "      <td>Henry IV</td>\n",
       "      <td>61.0</td>\n",
       "      <td>NaN</td>\n",
       "      <td>POINS</td>\n",
       "      <td>Exit Poins</td>\n",
       "    </tr>\n",
       "    <tr>\n",
       "      <th>323</th>\n",
       "      <td>324</td>\n",
       "      <td>Henry IV</td>\n",
       "      <td>62.0</td>\n",
       "      <td>NaN</td>\n",
       "      <td>PRINCE HENRY</td>\n",
       "      <td>Exit</td>\n",
       "    </tr>\n",
       "  </tbody>\n",
       "</table>\n",
       "</div>"
      ],
      "text/plain": [
       "     Dataline      Play  PlayerLinenumber ActSceneLine        Player  \\\n",
       "0           1  Henry IV               NaN          NaN           NaN   \n",
       "1           2  Henry IV               NaN          NaN           NaN   \n",
       "2           3  Henry IV               NaN          NaN           NaN   \n",
       "111       112  Henry IV              10.0          NaN  WESTMORELAND   \n",
       "112       113  Henry IV              10.0          NaN  WESTMORELAND   \n",
       "113       114  Henry IV              10.0          NaN  WESTMORELAND   \n",
       "214       215  Henry IV              33.0          NaN      FALSTAFF   \n",
       "264       265  Henry IV              52.0          NaN  PRINCE HENRY   \n",
       "299       300  Henry IV              61.0          NaN         POINS   \n",
       "323       324  Henry IV              62.0          NaN  PRINCE HENRY   \n",
       "\n",
       "                                            PlayerLine  \n",
       "0                                                ACT I  \n",
       "1                         SCENE I. London. The palace.  \n",
       "2    Enter KING HENRY, LORD JOHN OF LANCASTER, the ...  \n",
       "111                                             Exeunt  \n",
       "112    SCENE II. London. An apartment of the Prince's.  \n",
       "113             Enter the PRINCE OF WALES and FALSTAFF  \n",
       "214                                        Enter POINS  \n",
       "264                                      Exit Falstaff  \n",
       "299                                         Exit Poins  \n",
       "323                                               Exit  "
      ]
     },
     "execution_count": 5,
     "metadata": {},
     "output_type": "execute_result"
    }
   ],
   "source": [
    "shakespeare_df[shakespeare_df[\"ActSceneLine\"].isnull() | shakespeare_df[\"Player\"].isnull()].head(10)"
   ]
  },
  {
   "cell_type": "markdown",
   "metadata": {},
   "source": [
    "The problem arises when we encounter a stage direction (Scene change, character enter/exit, etc.). When these things happen, the `ActSceneLine`, `PlayerLineNumber`, and `Player` values make it seem like this is a spoken line of dialogue, even though it is not. We have two options here:\n",
    "- We could find all instances of this error and set the `ActSceneLine`, `PlayerLineNumber`, and `Player` values to be null\n",
    "- We could ignore these rows entirely\n",
    "\n",
    "For this project, I will ignore these rows entirely, as our final goal is to predict what character is saying what, and if there is no character speaking at the given line, the information will be useless to our prediction."
   ]
  },
  {
   "cell_type": "markdown",
   "metadata": {},
   "source": [
    "One final thing we can do is split up all `ActSceneLine` values into their own separate columns of `act_number`, `scene_number`, and `line_number`. This will aid in our training later on in the analysis stage."
   ]
  },
  {
   "cell_type": "markdown",
   "metadata": {},
   "source": [
    "I will go ahead and do all of these conversions and save the results into a new csv file, as the conversions can take quite a long time on this big of a dataset:"
   ]
  },
  {
   "cell_type": "code",
   "execution_count": 6,
   "metadata": {},
   "outputs": [
    {
     "data": {
      "text/html": [
       "<div>\n",
       "<style scoped>\n",
       "    .dataframe tbody tr th:only-of-type {\n",
       "        vertical-align: middle;\n",
       "    }\n",
       "\n",
       "    .dataframe tbody tr th {\n",
       "        vertical-align: top;\n",
       "    }\n",
       "\n",
       "    .dataframe thead th {\n",
       "        text-align: right;\n",
       "    }\n",
       "</style>\n",
       "<table border=\"1\" class=\"dataframe\">\n",
       "  <thead>\n",
       "    <tr style=\"text-align: right;\">\n",
       "      <th></th>\n",
       "      <th>play</th>\n",
       "      <th>player_line_number</th>\n",
       "      <th>player</th>\n",
       "      <th>player_line</th>\n",
       "      <th>act_number</th>\n",
       "      <th>line_number</th>\n",
       "      <th>scene_number</th>\n",
       "    </tr>\n",
       "  </thead>\n",
       "  <tbody>\n",
       "    <tr>\n",
       "      <th>0</th>\n",
       "      <td>Henry IV</td>\n",
       "      <td>1.0</td>\n",
       "      <td>KING HENRY IV</td>\n",
       "      <td>So shaken as we are, so wan with care,</td>\n",
       "      <td>1</td>\n",
       "      <td>1</td>\n",
       "      <td>1</td>\n",
       "    </tr>\n",
       "    <tr>\n",
       "      <th>1</th>\n",
       "      <td>Henry IV</td>\n",
       "      <td>1.0</td>\n",
       "      <td>KING HENRY IV</td>\n",
       "      <td>Find we a time for frighted peace to pant,</td>\n",
       "      <td>1</td>\n",
       "      <td>2</td>\n",
       "      <td>1</td>\n",
       "    </tr>\n",
       "    <tr>\n",
       "      <th>2</th>\n",
       "      <td>Henry IV</td>\n",
       "      <td>1.0</td>\n",
       "      <td>KING HENRY IV</td>\n",
       "      <td>And breathe short-winded accents of new broils</td>\n",
       "      <td>1</td>\n",
       "      <td>3</td>\n",
       "      <td>1</td>\n",
       "    </tr>\n",
       "    <tr>\n",
       "      <th>3</th>\n",
       "      <td>Henry IV</td>\n",
       "      <td>1.0</td>\n",
       "      <td>KING HENRY IV</td>\n",
       "      <td>To be commenced in strands afar remote.</td>\n",
       "      <td>1</td>\n",
       "      <td>4</td>\n",
       "      <td>1</td>\n",
       "    </tr>\n",
       "    <tr>\n",
       "      <th>4</th>\n",
       "      <td>Henry IV</td>\n",
       "      <td>1.0</td>\n",
       "      <td>KING HENRY IV</td>\n",
       "      <td>No more the thirsty entrance of this soil</td>\n",
       "      <td>1</td>\n",
       "      <td>5</td>\n",
       "      <td>1</td>\n",
       "    </tr>\n",
       "  </tbody>\n",
       "</table>\n",
       "</div>"
      ],
      "text/plain": [
       "       play  player_line_number         player  \\\n",
       "0  Henry IV                 1.0  KING HENRY IV   \n",
       "1  Henry IV                 1.0  KING HENRY IV   \n",
       "2  Henry IV                 1.0  KING HENRY IV   \n",
       "3  Henry IV                 1.0  KING HENRY IV   \n",
       "4  Henry IV                 1.0  KING HENRY IV   \n",
       "\n",
       "                                      player_line  act_number  line_number  \\\n",
       "0          So shaken as we are, so wan with care,           1            1   \n",
       "1      Find we a time for frighted peace to pant,           1            2   \n",
       "2  And breathe short-winded accents of new broils           1            3   \n",
       "3         To be commenced in strands afar remote.           1            4   \n",
       "4       No more the thirsty entrance of this soil           1            5   \n",
       "\n",
       "   scene_number  \n",
       "0             1  \n",
       "1             1  \n",
       "2             1  \n",
       "3             1  \n",
       "4             1  "
      ]
     },
     "execution_count": 6,
     "metadata": {},
     "output_type": "execute_result"
    }
   ],
   "source": [
    "# Check if we have already cleaned the data:\n",
    "if not path.exists(\"data/interim/shakespeare_data_cleaned.csv\"):\n",
    "\n",
    "    # If not, start by dropping the Dataline\n",
    "    shakespeare_df = shakespeare_df.drop(columns=\"Dataline\")\n",
    "\n",
    "    # Next, rename the columns\n",
    "    shakespeare_df = shakespeare_df.rename(columns={\n",
    "        \"Play\": \"play\",\n",
    "        \"PlayerLinenumber\": \"player_line_number\",\n",
    "        \"ActSceneLine\": \"act_scene_line\",\n",
    "        \"Player\": \"player\",\n",
    "        \"PlayerLine\": \"player_line\"\n",
    "    })\n",
    "\n",
    "    # Next, find all instances where act_scene_line is null or player is null and delete the rows\n",
    "    indecesToDrop = shakespeare_df[shakespeare_df[\"act_scene_line\"].isnull() |\n",
    "                                   shakespeare_df[\"player\"].isnull()].index\n",
    "    shakespeare_df.drop(indecesToDrop, inplace=True)\n",
    "\n",
    "    # Next, decode the act_scene_line column\n",
    "    def unpack_act_scene_line(asl):\n",
    "        asl_arr = asl.split(\".\")\n",
    "        if len(asl_arr) != 3:\n",
    "            asl_arr = [np.nan] * 3\n",
    "        return pd.Series({\n",
    "            \"act_number\": asl_arr[0],\n",
    "            \"scene_number\": asl_arr[1],\n",
    "            \"line_number\": asl_arr[2]\n",
    "        })\n",
    "    shakespeare_df = shakespeare_df.merge(shakespeare_df[\"act_scene_line\"]\\\n",
    "                         .apply(lambda row: unpack_act_scene_line(str(row))),\n",
    "                         left_index=True, right_index=True).drop(columns=\"act_scene_line\")\n",
    "\n",
    "    # Save the cleaned data to a csv file\n",
    "    shakespeare_df.to_csv(\"data/interim/shakespeare_data_cleaned.csv\")\n",
    "\n",
    "# If we have already cleaned the data, retrieve it from the file\n",
    "else:\n",
    "    shakespeare_df = pd.read_csv(\"data/interim/shakespeare_data_cleaned.csv\")\n",
    "    shakespeare_df.drop(shakespeare_df.columns[0], axis=1, inplace=True) # Get rid of index column\n",
    "\n",
    "shakespeare_df.head()"
   ]
  },
  {
   "cell_type": "markdown",
   "metadata": {},
   "source": [
    "## Feature Engineering\n",
    "We've already done a bit of this with separating the act, scene, and line numbers from the `act_scene_line` column, but let's do a bit more. We can do more feature analysis to make the analysis of the data even more accurate down the line. To start with, let's define what we want to use to analyze our data."
   ]
  },
  {
   "cell_type": "markdown",
   "metadata": {},
   "source": [
    "For each analysis, we are going to want to use:\n",
    "- Play\n",
    "- Act Number\n",
    "- Scene Number\n",
    "\n",
    "And to try and make our analyses more accurate, we can use:\n",
    "- Length of Player Line\n",
    "- Full Line Length"
   ]
  },
  {
   "cell_type": "markdown",
   "metadata": {},
   "source": [
    "### Play Ordinal\n",
    "One thing we have to do if we want to use the `play` feature is to convert it into a floating point number. Here, we can simply make it into the ordinal of the play by using a dictionary mapping each play title to an index.\n",
    "\n",
    "We will do this and the following features all at once, due to the time it takes for the data to be constructed with the amount of data that we have."
   ]
  },
  {
   "cell_type": "markdown",
   "metadata": {},
   "source": [
    "### Length of Player Line\n",
    "One way we could potentially discriminate between characters is the length of their lines. A simple way to add this is to just calculate the length of the `player_line` being said."
   ]
  },
  {
   "cell_type": "markdown",
   "metadata": {},
   "source": [
    "### Full Line Length\n",
    "The previous feature may work well, but player lines sometimes go past 1 line long. For example:"
   ]
  },
  {
   "cell_type": "code",
   "execution_count": 7,
   "metadata": {},
   "outputs": [
    {
     "data": {
      "text/html": [
       "<div>\n",
       "<style scoped>\n",
       "    .dataframe tbody tr th:only-of-type {\n",
       "        vertical-align: middle;\n",
       "    }\n",
       "\n",
       "    .dataframe tbody tr th {\n",
       "        vertical-align: top;\n",
       "    }\n",
       "\n",
       "    .dataframe thead th {\n",
       "        text-align: right;\n",
       "    }\n",
       "</style>\n",
       "<table border=\"1\" class=\"dataframe\">\n",
       "  <thead>\n",
       "    <tr style=\"text-align: right;\">\n",
       "      <th></th>\n",
       "      <th>play</th>\n",
       "      <th>player_line_number</th>\n",
       "      <th>player</th>\n",
       "      <th>player_line</th>\n",
       "      <th>act_number</th>\n",
       "      <th>line_number</th>\n",
       "      <th>scene_number</th>\n",
       "    </tr>\n",
       "  </thead>\n",
       "  <tbody>\n",
       "    <tr>\n",
       "      <th>46</th>\n",
       "      <td>Henry IV</td>\n",
       "      <td>3.0</td>\n",
       "      <td>KING HENRY IV</td>\n",
       "      <td>It seems then that the tidings of this broil</td>\n",
       "      <td>1</td>\n",
       "      <td>47</td>\n",
       "      <td>1</td>\n",
       "    </tr>\n",
       "    <tr>\n",
       "      <th>47</th>\n",
       "      <td>Henry IV</td>\n",
       "      <td>3.0</td>\n",
       "      <td>KING HENRY IV</td>\n",
       "      <td>Brake off our business for the Holy Land.</td>\n",
       "      <td>1</td>\n",
       "      <td>48</td>\n",
       "      <td>1</td>\n",
       "    </tr>\n",
       "  </tbody>\n",
       "</table>\n",
       "</div>"
      ],
      "text/plain": [
       "        play  player_line_number         player  \\\n",
       "46  Henry IV                 3.0  KING HENRY IV   \n",
       "47  Henry IV                 3.0  KING HENRY IV   \n",
       "\n",
       "                                     player_line  act_number  line_number  \\\n",
       "46  It seems then that the tidings of this broil           1           47   \n",
       "47     Brake off our business for the Holy Land.           1           48   \n",
       "\n",
       "    scene_number  \n",
       "46             1  \n",
       "47             1  "
      ]
     },
     "execution_count": 7,
     "metadata": {},
     "output_type": "execute_result"
    }
   ],
   "source": [
    "shakespeare_df.head(50)[shakespeare_df.head(50)[\"player_line_number\"] == 3.0]"
   ]
  },
  {
   "cell_type": "markdown",
   "metadata": {},
   "source": [
    "The player line above is 2 lines long (lines `47 - 48`), and this should be taken into account."
   ]
  },
  {
   "cell_type": "markdown",
   "metadata": {},
   "source": [
    "### Implementing the Features\n",
    "Now that we have all of our features defined, let's create them and save them to a csv file in order to avoid doing such large computation again later:"
   ]
  },
  {
   "cell_type": "code",
   "execution_count": 8,
   "metadata": {
    "scrolled": true
   },
   "outputs": [
    {
     "data": {
      "text/html": [
       "<div>\n",
       "<style scoped>\n",
       "    .dataframe tbody tr th:only-of-type {\n",
       "        vertical-align: middle;\n",
       "    }\n",
       "\n",
       "    .dataframe tbody tr th {\n",
       "        vertical-align: top;\n",
       "    }\n",
       "\n",
       "    .dataframe thead th {\n",
       "        text-align: right;\n",
       "    }\n",
       "</style>\n",
       "<table border=\"1\" class=\"dataframe\">\n",
       "  <thead>\n",
       "    <tr style=\"text-align: right;\">\n",
       "      <th></th>\n",
       "      <th>play</th>\n",
       "      <th>player_line_number</th>\n",
       "      <th>player</th>\n",
       "      <th>player_line</th>\n",
       "      <th>act_number</th>\n",
       "      <th>line_number</th>\n",
       "      <th>scene_number</th>\n",
       "      <th>play_ordinal</th>\n",
       "      <th>player_line_length</th>\n",
       "      <th>player_line_length_total</th>\n",
       "    </tr>\n",
       "  </thead>\n",
       "  <tbody>\n",
       "    <tr>\n",
       "      <th>0</th>\n",
       "      <td>Henry IV</td>\n",
       "      <td>1.0</td>\n",
       "      <td>KING HENRY IV</td>\n",
       "      <td>So shaken as we are, so wan with care,</td>\n",
       "      <td>1</td>\n",
       "      <td>1</td>\n",
       "      <td>1</td>\n",
       "      <td>1</td>\n",
       "      <td>38</td>\n",
       "      <td>3051</td>\n",
       "    </tr>\n",
       "    <tr>\n",
       "      <th>1</th>\n",
       "      <td>Henry IV</td>\n",
       "      <td>1.0</td>\n",
       "      <td>KING HENRY IV</td>\n",
       "      <td>Find we a time for frighted peace to pant,</td>\n",
       "      <td>1</td>\n",
       "      <td>2</td>\n",
       "      <td>1</td>\n",
       "      <td>1</td>\n",
       "      <td>42</td>\n",
       "      <td>3051</td>\n",
       "    </tr>\n",
       "    <tr>\n",
       "      <th>2</th>\n",
       "      <td>Henry IV</td>\n",
       "      <td>1.0</td>\n",
       "      <td>KING HENRY IV</td>\n",
       "      <td>And breathe short-winded accents of new broils</td>\n",
       "      <td>1</td>\n",
       "      <td>3</td>\n",
       "      <td>1</td>\n",
       "      <td>1</td>\n",
       "      <td>46</td>\n",
       "      <td>3051</td>\n",
       "    </tr>\n",
       "    <tr>\n",
       "      <th>3</th>\n",
       "      <td>Henry IV</td>\n",
       "      <td>1.0</td>\n",
       "      <td>KING HENRY IV</td>\n",
       "      <td>To be commenced in strands afar remote.</td>\n",
       "      <td>1</td>\n",
       "      <td>4</td>\n",
       "      <td>1</td>\n",
       "      <td>1</td>\n",
       "      <td>39</td>\n",
       "      <td>3051</td>\n",
       "    </tr>\n",
       "    <tr>\n",
       "      <th>4</th>\n",
       "      <td>Henry IV</td>\n",
       "      <td>1.0</td>\n",
       "      <td>KING HENRY IV</td>\n",
       "      <td>No more the thirsty entrance of this soil</td>\n",
       "      <td>1</td>\n",
       "      <td>5</td>\n",
       "      <td>1</td>\n",
       "      <td>1</td>\n",
       "      <td>41</td>\n",
       "      <td>3051</td>\n",
       "    </tr>\n",
       "  </tbody>\n",
       "</table>\n",
       "</div>"
      ],
      "text/plain": [
       "       play  player_line_number         player  \\\n",
       "0  Henry IV                 1.0  KING HENRY IV   \n",
       "1  Henry IV                 1.0  KING HENRY IV   \n",
       "2  Henry IV                 1.0  KING HENRY IV   \n",
       "3  Henry IV                 1.0  KING HENRY IV   \n",
       "4  Henry IV                 1.0  KING HENRY IV   \n",
       "\n",
       "                                      player_line  act_number  line_number  \\\n",
       "0          So shaken as we are, so wan with care,           1            1   \n",
       "1      Find we a time for frighted peace to pant,           1            2   \n",
       "2  And breathe short-winded accents of new broils           1            3   \n",
       "3         To be commenced in strands afar remote.           1            4   \n",
       "4       No more the thirsty entrance of this soil           1            5   \n",
       "\n",
       "   scene_number  play_ordinal  player_line_length  player_line_length_total  \n",
       "0             1             1                  38                      3051  \n",
       "1             1             1                  42                      3051  \n",
       "2             1             1                  46                      3051  \n",
       "3             1             1                  39                      3051  \n",
       "4             1             1                  41                      3051  "
      ]
     },
     "execution_count": 8,
     "metadata": {},
     "output_type": "execute_result"
    }
   ],
   "source": [
    "# Check if we have already processed the data:\n",
    "if not path.exists(\"data/processed/s.csv\"):\n",
    "    \n",
    "    # If not, start by adding the player line length\n",
    "    unique_plays = shakespeare_df[\"play\"].unique()\n",
    "    play_ordinal = {v: k for k, v in dict(enumerate(unique_plays.flatten(), 1)).items()}\n",
    "    shakespeare_df[\"play_ordinal\"] = shakespeare_df[\"play\"].apply(lambda p: play_ordinal[p])\n",
    "    shakespeare_df.groupby(\"play\").first().head()[\"play_ordinal\"]\n",
    "\n",
    "    # Next, find the players' individual line lengths\n",
    "    shakespeare_df[\"player_line_length\"] = shakespeare_df.apply(lambda row: len(str(row[\"player_line\"])), axis = 1) \n",
    "\n",
    "    # Finally, find the total length of all the player lines\n",
    "    shakespeare_df[\"player_line_length_total\"] = shakespeare_df.groupby([\"player\", \"player_line_number\"])\\\n",
    "                                                                     [\"player_line_length\"].transform('sum')\n",
    "\n",
    "    # Save the processed data to a csv file\n",
    "    shakespeare_df.to_csv(\"data/processed/shakespeare_data_processed.csv\")\n",
    "\n",
    "# If we have already processed the data, retrieve it from the file\n",
    "else:\n",
    "    shakespeare_df = pd.read_csv(\"data/processed/shakespeare_data_processed.csv\")\n",
    "    shakespeare_df.drop(shakespeare_df.columns[0], axis=1, inplace=True) # Get rid of index column\n",
    "\n",
    "shakespeare_df.head()"
   ]
  },
  {
   "cell_type": "markdown",
   "metadata": {},
   "source": [
    "### Analysis of Player Line Length vs. Total Line Length"
   ]
  },
  {
   "cell_type": "code",
   "execution_count": 20,
   "metadata": {},
   "outputs": [
    {
     "data": {
      "image/png": "[encoded data removed]",
      "text/plain": [
       "<Figure size 720x360 with 1 Axes>"
      ]
     },
     "metadata": {
      "needs_background": "light"
     },
     "output_type": "display_data"
    }
   ],
   "source": [
    "import matplotlib.pyplot as plt\n",
    "\n",
    "plt.figure(figsize=(10, 5))\n",
    "\n",
    "avg_line_length = shakespeare_df.head(1000)[[\"player\", \"player_line_length\"]].groupby([\"player\"])\\\n",
    "    .apply(lambda row: np.average(row[\"player_line_length\"]))\n",
    "plt.bar(shakespeare_df.head(1000)[\"player\"].unique(), avg_line_length)\n",
    "plt.title(\"Average Specific Line Length per Player\")\n",
    "plt.xlabel(\"Player\")\n",
    "plt.xticks(rotation=90)\n",
    "plt.ylabel(\"Average Specific Line Length\")\n",
    "plt.show()"
   ]
  },
  {
   "cell_type": "code",
   "execution_count": 21,
   "metadata": {},
   "outputs": [
    {
     "data": {
      "image/png": "[encoded data removed]",
      "text/plain": [
       "<Figure size 720x360 with 1 Axes>"
      ]
     },
     "metadata": {
      "needs_background": "light"
     },
     "output_type": "display_data"
    }
   ],
   "source": [
    "plt.figure(figsize=(10, 5))\n",
    "\n",
    "avg_line_length = shakespeare_df.head(1000)[[\"player\", \"player_line_length_total\"]].groupby([\"player\"])\\\n",
    "    .apply(lambda row: np.average(row[\"player_line_length_total\"]))\n",
    "plt.bar(shakespeare_df.head(1000)[\"player\"].unique(), avg_line_length)\n",
    "plt.title(\"Average Total Line Length per Player\")\n",
    "plt.xlabel(\"Player\")\n",
    "plt.xticks(rotation=90)\n",
    "plt.ylabel(\"Average Total Line Length\")\n",
    "plt.show()"
   ]
  },
  {
   "cell_type": "markdown",
   "metadata": {},
   "source": [
    "As you can see, the total line length is a much more promising feature than the specific line length due to the large standard deviation."
   ]
  },
  {
   "cell_type": "markdown",
   "metadata": {},
   "source": [
    "## Analysis - Determining Player\n",
    "Now for the fun part! Let's start off by splitting our data into 2 categories: `Training` and `Testing`. We will split these up using the ratio of 4:1, and split them up randomly. The `Training` set will be used to train our models and will contain the features and the labels, and the `Testing` set will be used to test our models and will only contain features:"
   ]
  },
  {
   "cell_type": "code",
   "execution_count": 11,
   "metadata": {},
   "outputs": [],
   "source": [
    "from sklearn.model_selection import train_test_split\n",
    "from sklearn.tree import DecisionTreeClassifier\n",
    "from sklearn.svm import SVC\n",
    "from sklearn.ensemble import RandomForestClassifier\n",
    "from sklearn.metrics import accuracy_score\n",
    "\n",
    "labels = shakespeare_df.head(6000)[\"player\"]\n",
    "test_size = 0.20 # Test size is 20% of all rows"
   ]
  },
  {
   "cell_type": "markdown",
   "metadata": {},
   "source": [
    "Let's go ahead and test our data using the features we discussed earlier:\n",
    "- Play\n",
    "- Act Number\n",
    "- Scene Number\n",
    "\n",
    "And play around with using some of these features as well:\n",
    "- Length of Player Line\n",
    "- Full Line Length"
   ]
  },
  {
   "cell_type": "markdown",
   "metadata": {},
   "source": [
    "### Length of Player Line\n",
    "The first feature we will test is the length of the player line:"
   ]
  },
  {
   "cell_type": "code",
   "execution_count": 12,
   "metadata": {},
   "outputs": [],
   "source": [
    "# Splitting the data between 80% train and 20% test\n",
    "features = shakespeare_df.head(6000)[[\"play_ordinal\", \"act_number\", \"scene_number\", \"player_line_length\"]]\n",
    "training_f, testing_f, training_l, testing_l = train_test_split(features, labels, test_size=test_size)"
   ]
  },
  {
   "cell_type": "markdown",
   "metadata": {},
   "source": [
    "#### Support Vector Machine"
   ]
  },
  {
   "cell_type": "code",
   "execution_count": 13,
   "metadata": {},
   "outputs": [],
   "source": [
    "support_vector_classifier = SVC(gamma=\"auto\")\n",
    "support_vector_classifier.fit(training_f, training_l)\n",
    "prediction = support_vector_classifier.predict(testing_f)\n",
    "support_vector_classifier_accuracy = accuracy_score(prediction, testing_l)"
   ]
  },
  {
   "cell_type": "markdown",
   "metadata": {},
   "source": [
    "#### Random Forest"
   ]
  },
  {
   "cell_type": "code",
   "execution_count": 14,
   "metadata": {},
   "outputs": [],
   "source": [
    "random_forest = RandomForestClassifier(n_estimators=100)\n",
    "random_forest.fit(training_f, training_l)\n",
    "prediction = random_forest.predict(testing_f)\n",
    "random_forest_accuracy = accuracy_score(prediction, testing_l)"
   ]
  },
  {
   "cell_type": "code",
   "execution_count": 15,
   "metadata": {},
   "outputs": [
    {
     "name": "stdout",
     "output_type": "stream",
     "text": [
      "Support Vector Machine Accuracy: 0.3992%\n",
      "Random Forest Accuracy: 0.4033%\n"
     ]
    }
   ],
   "source": [
    "print(\"Support Vector Machine Accuracy: %.4f%%\" % support_vector_classifier_accuracy)\n",
    "print(\"Random Forest Accuracy: %.4f%%\" % random_forest_accuracy)"
   ]
  },
  {
   "cell_type": "markdown",
   "metadata": {},
   "source": [
    "Not surprisingly, the length of a player's individual lines is not very conducive to predicting the player of a given line. Let's try `full_line_length` now:"
   ]
  },
  {
   "cell_type": "markdown",
   "metadata": {},
   "source": [
    "### Full Line Length"
   ]
  },
  {
   "cell_type": "code",
   "execution_count": 16,
   "metadata": {},
   "outputs": [],
   "source": [
    "# Splitting the data between 80% train and 20% test\n",
    "features = shakespeare_df.head(6000)[[\"play_ordinal\", \"act_number\", \"scene_number\", \"player_line_length_total\"]]\n",
    "training_f, testing_f, training_l, testing_l = train_test_split(features, labels, test_size=test_size)"
   ]
  },
  {
   "cell_type": "markdown",
   "metadata": {},
   "source": [
    "#### Support Vector Machine"
   ]
  },
  {
   "cell_type": "code",
   "execution_count": 17,
   "metadata": {},
   "outputs": [],
   "source": [
    "support_vector_classifier = SVC(gamma=\"auto\")\n",
    "support_vector_classifier.fit(training_f, training_l)\n",
    "prediction = support_vector_classifier.predict(testing_f)\n",
    "support_vector_classifier_accuracy = accuracy_score(prediction, testing_l)"
   ]
  },
  {
   "cell_type": "markdown",
   "metadata": {},
   "source": [
    "#### Random Forest"
   ]
  },
  {
   "cell_type": "code",
   "execution_count": 18,
   "metadata": {},
   "outputs": [],
   "source": [
    "random_forest = RandomForestClassifier(n_estimators=100)\n",
    "random_forest.fit(training_f, training_l)\n",
    "prediction = random_forest.predict(testing_f)\n",
    "random_forest_accuracy = accuracy_score(prediction, testing_l)"
   ]
  },
  {
   "cell_type": "code",
   "execution_count": 19,
   "metadata": {},
   "outputs": [
    {
     "name": "stdout",
     "output_type": "stream",
     "text": [
      "Support Vector Machine Accuracy: 0.8592%\n",
      "Random Forest Accuracy: 0.9125%\n"
     ]
    }
   ],
   "source": [
    "print(\"Support Vector Machine Accuracy: %.4f%%\" % support_vector_classifier_accuracy)\n",
    "print(\"Random Forest Accuracy: %.4f%%\" % random_forest_accuracy)"
   ]
  },
  {
   "cell_type": "markdown",
   "metadata": {},
   "source": [
    "That is much better! It looks like our hypothesis was correct - the full line length is a _much_ better feature to use in classifying `player`!"
   ]
  },
  {
   "cell_type": "markdown",
   "metadata": {},
   "source": [
    "## Conclusion"
   ]
  },
  {
   "cell_type": "markdown",
   "metadata": {},
   "source": [
    "After testing a variety of features with different classification models, we have found that using a `Random Forest` classifier on `Player Full Line Length` produces the best results, with an accuracy of **FILL ME IN**. The `Support Vector Machine` model produces slightly worse results, with an accuracy of **FILL ME IN**. This discrepancy makes sense, as `Random Forests` are typically much more accurate than `SVMs` due to their size and procedures. `Random Forests` takes into account all features as well as the probabilities of each feature in order to come to a prediction. `SVMs` on the other hand, simply try and separate the data as much as possible in order to classify.\n",
    "\n",
    "Testing on the `Individual Player Line Length` proved to be a very weak way of classifying data. Interestingly though, our `Support Vector Machine` classifier scored better than the `Random Forest` classifier, a difference of **FILL ME IN** to **FILL ME IN** respectively. This could be due to the `player_line_length` data being very similar, which made it difficult for the `Random Forest` to notice smaller changes in the data as compared to the `SVM`, whose job is to find the small changes and make them larger so as to separate things more effectively."
   ]
  },
  {
   "cell_type": "markdown",
   "metadata": {},
   "source": [
    "### What Next?"
   ]
  },
  {
   "cell_type": "markdown",
   "metadata": {},
   "source": [
    "Where could we go from here? Well, to start off with, we could use different classification models to see how they differ in their accuracy. A `Neural Network` would be a good thing to test with this data to presumably get accurate predictions.\n",
    "\n",
    "We could also change the features that we train our models on to potentially boost accuracy. One feature that could prove to be promising is analyzing the content of the players' lines. For example, we could use natural language processing to find distinctions in players' sentence structure, or count uses of specific keywords. In the latter option, we could focus on the vocabulary of different characters to distinguish them from one another (for example, a king may use very powerful language, while a serf would use much more submissive language). These would potentially be very successful, but would take a while to implement."
   ]
  }
 ],
 "metadata": {
  "kernelspec": {
   "display_name": "Python 3",
   "language": "python",
   "name": "python3"
  },
  "language_info": {
   "codemirror_mode": {
    "name": "ipython",
    "version": 3
   },
   "file_extension": ".py",
   "mimetype": "text/x-python",
   "name": "python",
   "nbconvert_exporter": "python",
   "pygments_lexer": "ipython3",
   "version": "3.5.2"
  }
 },
 "nbformat": 4,
 "nbformat_minor": 2
}
