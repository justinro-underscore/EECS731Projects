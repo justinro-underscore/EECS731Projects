{
 "cells": [
  {
   "cell_type": "markdown",
   "metadata": {},
   "source": [
    "# Movie Weekend Trip Project"
   ]
  },
  {
   "cell_type": "markdown",
   "metadata": {},
   "source": [
    "Movies are one of the nation's most popular pastimes. However, there are so many movies released that sometimes it can be a little overwhelming to figure out the next movie to watch! Thankfully, this is where **clustering** comes in. Using a clustering approach on a dataset of movie reviews and tags, we will be able to recommend similar movies to a given movie."
   ]
  },
  {
   "cell_type": "markdown",
   "metadata": {},
   "source": [
    "## Retrieving the Data\n",
    "This data comes from the [MovieLens dataset](https://grouplens.org/datasets/movielens/) that aggregates movie reviews and tags for many films. The initial dataset comes with 6 files, but we will only be using the following datasets: `ratings.csv`, `movies.csv`, `genome-scores.csv`, and `genome-tags.csv`. We will not be using `tags.csv` because all the data we need from that dataset is already compiled into `genome-tags.csv`, and we will also not be using `links.csv`, as that data is not helpful for our purposes. We will begin by loading the dataset into a few dataframes:"
   ]
  },
  {
   "cell_type": "code",
   "execution_count": 1,
   "metadata": {},
   "outputs": [],
   "source": [
    "from os import path\n",
    "import numpy as np\n",
    "import pandas as pd\n",
    "\n",
    "ratings_df = pd.read_csv(\"data/raw/ratings.csv\")\n",
    "movies_df = pd.read_csv(\"data/raw/movies.csv\")\n",
    "g_scores_df = pd.read_csv(\"data/raw/genome-scores.csv\")\n",
    "g_tags_df = pd.read_csv(\"data/raw/genome-tags.csv\")"
   ]
  },
  {
   "cell_type": "markdown",
   "metadata": {},
   "source": [
    "Let's explore these datasets a little:"
   ]
  },
  {
   "cell_type": "markdown",
   "metadata": {},
   "source": [
    "### ratings.csv\n",
    "`ratings.csv` is a dataset of all ratings made for a movie. There are quite a bit:"
   ]
  },
  {
   "cell_type": "code",
   "execution_count": 2,
   "metadata": {},
   "outputs": [
    {
     "name": "stdout",
     "output_type": "stream",
     "text": [
      "Length: 20000263\n"
     ]
    },
    {
     "data": {
      "text/html": [
       "<div>\n",
       "<style scoped>\n",
       "    .dataframe tbody tr th:only-of-type {\n",
       "        vertical-align: middle;\n",
       "    }\n",
       "\n",
       "    .dataframe tbody tr th {\n",
       "        vertical-align: top;\n",
       "    }\n",
       "\n",
       "    .dataframe thead th {\n",
       "        text-align: right;\n",
       "    }\n",
       "</style>\n",
       "<table border=\"1\" class=\"dataframe\">\n",
       "  <thead>\n",
       "    <tr style=\"text-align: right;\">\n",
       "      <th></th>\n",
       "      <th>userId</th>\n",
       "      <th>movieId</th>\n",
       "      <th>rating</th>\n",
       "      <th>timestamp</th>\n",
       "    </tr>\n",
       "  </thead>\n",
       "  <tbody>\n",
       "    <tr>\n",
       "      <td>0</td>\n",
       "      <td>1</td>\n",
       "      <td>2</td>\n",
       "      <td>3.5</td>\n",
       "      <td>1112486027</td>\n",
       "    </tr>\n",
       "    <tr>\n",
       "      <td>1</td>\n",
       "      <td>1</td>\n",
       "      <td>29</td>\n",
       "      <td>3.5</td>\n",
       "      <td>1112484676</td>\n",
       "    </tr>\n",
       "    <tr>\n",
       "      <td>2</td>\n",
       "      <td>1</td>\n",
       "      <td>32</td>\n",
       "      <td>3.5</td>\n",
       "      <td>1112484819</td>\n",
       "    </tr>\n",
       "    <tr>\n",
       "      <td>3</td>\n",
       "      <td>1</td>\n",
       "      <td>47</td>\n",
       "      <td>3.5</td>\n",
       "      <td>1112484727</td>\n",
       "    </tr>\n",
       "    <tr>\n",
       "      <td>4</td>\n",
       "      <td>1</td>\n",
       "      <td>50</td>\n",
       "      <td>3.5</td>\n",
       "      <td>1112484580</td>\n",
       "    </tr>\n",
       "  </tbody>\n",
       "</table>\n",
       "</div>"
      ],
      "text/plain": [
       "   userId  movieId  rating   timestamp\n",
       "0       1        2     3.5  1112486027\n",
       "1       1       29     3.5  1112484676\n",
       "2       1       32     3.5  1112484819\n",
       "3       1       47     3.5  1112484727\n",
       "4       1       50     3.5  1112484580"
      ]
     },
     "execution_count": 2,
     "metadata": {},
     "output_type": "execute_result"
    }
   ],
   "source": [
    "print(\"Length: %d\" % ratings_df.shape[0])\n",
    "ratings_df.head()"
   ]
  },
  {
   "cell_type": "markdown",
   "metadata": {},
   "source": [
    "The keys for all of these data sets will be very simple:\n",
    "\n",
    "|Key       |Description|\n",
    "|:---------|:----------|\n",
    "|userId    |ID of user leaving the review|\n",
    "|movieId   |ID of the movie the review is for|\n",
    "|rating    |Rating (0-5) of the movie|\n",
    "|timestamp |Timestamp of the review (we will ignore this feature)|"
   ]
  },
  {
   "cell_type": "markdown",
   "metadata": {},
   "source": [
    "### movies.csv\n",
    "`movies.csv` defines the movies that are refrenced in all other datasets."
   ]
  },
  {
   "cell_type": "code",
   "execution_count": 3,
   "metadata": {
    "scrolled": true
   },
   "outputs": [
    {
     "name": "stdout",
     "output_type": "stream",
     "text": [
      "We have 27278 movies in our datasets\n"
     ]
    },
    {
     "data": {
      "text/html": [
       "<div>\n",
       "<style scoped>\n",
       "    .dataframe tbody tr th:only-of-type {\n",
       "        vertical-align: middle;\n",
       "    }\n",
       "\n",
       "    .dataframe tbody tr th {\n",
       "        vertical-align: top;\n",
       "    }\n",
       "\n",
       "    .dataframe thead th {\n",
       "        text-align: right;\n",
       "    }\n",
       "</style>\n",
       "<table border=\"1\" class=\"dataframe\">\n",
       "  <thead>\n",
       "    <tr style=\"text-align: right;\">\n",
       "      <th></th>\n",
       "      <th>movieId</th>\n",
       "      <th>title</th>\n",
       "      <th>genres</th>\n",
       "    </tr>\n",
       "  </thead>\n",
       "  <tbody>\n",
       "    <tr>\n",
       "      <td>0</td>\n",
       "      <td>1</td>\n",
       "      <td>Toy Story (1995)</td>\n",
       "      <td>Adventure|Animation|Children|Comedy|Fantasy</td>\n",
       "    </tr>\n",
       "    <tr>\n",
       "      <td>1</td>\n",
       "      <td>2</td>\n",
       "      <td>Jumanji (1995)</td>\n",
       "      <td>Adventure|Children|Fantasy</td>\n",
       "    </tr>\n",
       "    <tr>\n",
       "      <td>2</td>\n",
       "      <td>3</td>\n",
       "      <td>Grumpier Old Men (1995)</td>\n",
       "      <td>Comedy|Romance</td>\n",
       "    </tr>\n",
       "    <tr>\n",
       "      <td>3</td>\n",
       "      <td>4</td>\n",
       "      <td>Waiting to Exhale (1995)</td>\n",
       "      <td>Comedy|Drama|Romance</td>\n",
       "    </tr>\n",
       "    <tr>\n",
       "      <td>4</td>\n",
       "      <td>5</td>\n",
       "      <td>Father of the Bride Part II (1995)</td>\n",
       "      <td>Comedy</td>\n",
       "    </tr>\n",
       "  </tbody>\n",
       "</table>\n",
       "</div>"
      ],
      "text/plain": [
       "   movieId                               title  \\\n",
       "0        1                    Toy Story (1995)   \n",
       "1        2                      Jumanji (1995)   \n",
       "2        3             Grumpier Old Men (1995)   \n",
       "3        4            Waiting to Exhale (1995)   \n",
       "4        5  Father of the Bride Part II (1995)   \n",
       "\n",
       "                                        genres  \n",
       "0  Adventure|Animation|Children|Comedy|Fantasy  \n",
       "1                   Adventure|Children|Fantasy  \n",
       "2                               Comedy|Romance  \n",
       "3                         Comedy|Drama|Romance  \n",
       "4                                       Comedy  "
      ]
     },
     "execution_count": 3,
     "metadata": {},
     "output_type": "execute_result"
    }
   ],
   "source": [
    "print(\"We have %d movies in our datasets\" % movies_df.shape[0])\n",
    "movies_df.head()"
   ]
  },
  {
   "cell_type": "markdown",
   "metadata": {},
   "source": [
    "|Key     |Description|\n",
    "|:-------|:----------|\n",
    "|movieId |ID of the movie|\n",
    "|title   |Title string of the movie|\n",
    "|genre   |Genres ('\\|' deliminated) of the movie|"
   ]
  },
  {
   "cell_type": "markdown",
   "metadata": {},
   "source": [
    "### genome-scores.csv\n",
    "`genome-scores.csv` will be very useful to us, as it explains how relevant a certain tag is to a certain movie. It has been precomputed for us using the `tags.csv` dataset."
   ]
  },
  {
   "cell_type": "code",
   "execution_count": 4,
   "metadata": {
    "scrolled": true
   },
   "outputs": [
    {
     "data": {
      "text/html": [
       "<div>\n",
       "<style scoped>\n",
       "    .dataframe tbody tr th:only-of-type {\n",
       "        vertical-align: middle;\n",
       "    }\n",
       "\n",
       "    .dataframe tbody tr th {\n",
       "        vertical-align: top;\n",
       "    }\n",
       "\n",
       "    .dataframe thead th {\n",
       "        text-align: right;\n",
       "    }\n",
       "</style>\n",
       "<table border=\"1\" class=\"dataframe\">\n",
       "  <thead>\n",
       "    <tr style=\"text-align: right;\">\n",
       "      <th></th>\n",
       "      <th>movieId</th>\n",
       "      <th>tagId</th>\n",
       "      <th>relevance</th>\n",
       "    </tr>\n",
       "  </thead>\n",
       "  <tbody>\n",
       "    <tr>\n",
       "      <td>0</td>\n",
       "      <td>1</td>\n",
       "      <td>1</td>\n",
       "      <td>0.02500</td>\n",
       "    </tr>\n",
       "    <tr>\n",
       "      <td>1</td>\n",
       "      <td>1</td>\n",
       "      <td>2</td>\n",
       "      <td>0.02500</td>\n",
       "    </tr>\n",
       "    <tr>\n",
       "      <td>2</td>\n",
       "      <td>1</td>\n",
       "      <td>3</td>\n",
       "      <td>0.05775</td>\n",
       "    </tr>\n",
       "    <tr>\n",
       "      <td>3</td>\n",
       "      <td>1</td>\n",
       "      <td>4</td>\n",
       "      <td>0.09675</td>\n",
       "    </tr>\n",
       "    <tr>\n",
       "      <td>4</td>\n",
       "      <td>1</td>\n",
       "      <td>5</td>\n",
       "      <td>0.14675</td>\n",
       "    </tr>\n",
       "  </tbody>\n",
       "</table>\n",
       "</div>"
      ],
      "text/plain": [
       "   movieId  tagId  relevance\n",
       "0        1      1    0.02500\n",
       "1        1      2    0.02500\n",
       "2        1      3    0.05775\n",
       "3        1      4    0.09675\n",
       "4        1      5    0.14675"
      ]
     },
     "execution_count": 4,
     "metadata": {},
     "output_type": "execute_result"
    }
   ],
   "source": [
    "g_scores_df.head()"
   ]
  },
  {
   "cell_type": "markdown",
   "metadata": {},
   "source": [
    "|Key       |Description|\n",
    "|:---------|:----------|\n",
    "|movieId   |ID of the movie|\n",
    "|tagId     |Tag referring to the movie|\n",
    "|relevance |How relevant that tag is to the movie, based on the data in `tags.csv`|"
   ]
  },
  {
   "cell_type": "markdown",
   "metadata": {},
   "source": [
    "### genome-tags.csv\n",
    "`genome-tags.csv` is simply the translator for `tagId` to what the tag actually is:"
   ]
  },
  {
   "cell_type": "code",
   "execution_count": 5,
   "metadata": {},
   "outputs": [
    {
     "name": "stdout",
     "output_type": "stream",
     "text": [
      "We have 1128 tags\n"
     ]
    },
    {
     "data": {
      "text/html": [
       "<div>\n",
       "<style scoped>\n",
       "    .dataframe tbody tr th:only-of-type {\n",
       "        vertical-align: middle;\n",
       "    }\n",
       "\n",
       "    .dataframe tbody tr th {\n",
       "        vertical-align: top;\n",
       "    }\n",
       "\n",
       "    .dataframe thead th {\n",
       "        text-align: right;\n",
       "    }\n",
       "</style>\n",
       "<table border=\"1\" class=\"dataframe\">\n",
       "  <thead>\n",
       "    <tr style=\"text-align: right;\">\n",
       "      <th></th>\n",
       "      <th>tagId</th>\n",
       "      <th>tag</th>\n",
       "    </tr>\n",
       "  </thead>\n",
       "  <tbody>\n",
       "    <tr>\n",
       "      <td>0</td>\n",
       "      <td>1</td>\n",
       "      <td>007</td>\n",
       "    </tr>\n",
       "    <tr>\n",
       "      <td>1</td>\n",
       "      <td>2</td>\n",
       "      <td>007 (series)</td>\n",
       "    </tr>\n",
       "    <tr>\n",
       "      <td>2</td>\n",
       "      <td>3</td>\n",
       "      <td>18th century</td>\n",
       "    </tr>\n",
       "    <tr>\n",
       "      <td>3</td>\n",
       "      <td>4</td>\n",
       "      <td>1920s</td>\n",
       "    </tr>\n",
       "    <tr>\n",
       "      <td>4</td>\n",
       "      <td>5</td>\n",
       "      <td>1930s</td>\n",
       "    </tr>\n",
       "  </tbody>\n",
       "</table>\n",
       "</div>"
      ],
      "text/plain": [
       "   tagId           tag\n",
       "0      1           007\n",
       "1      2  007 (series)\n",
       "2      3  18th century\n",
       "3      4         1920s\n",
       "4      5         1930s"
      ]
     },
     "execution_count": 5,
     "metadata": {},
     "output_type": "execute_result"
    }
   ],
   "source": [
    "print(\"We have %d tags\" % g_tags_df.shape[0])\n",
    "g_tags_df.head()"
   ]
  },
  {
   "cell_type": "markdown",
   "metadata": {},
   "source": [
    "|Key   |Description|\n",
    "|:-----|:----------|\n",
    "|tagId |ID of the tag|\n",
    "|tag   |Name of the tag|"
   ]
  },
  {
   "cell_type": "markdown",
   "metadata": {},
   "source": [
    "## Feature Engineering\n",
    "In order to determine what movies go well with what other movies, we must define two rules:\n",
    "\n",
    "A movie is similar to another movie if they\n",
    "1. Both have a similar rating and\n",
    "2. Both have similar tags\n",
    "\n",
    "It would be valid to make it so that we only recommend better movies than the one requested, but if I'm in the mood for another bad movie, I should get another bad movie. So we will recommend only movies that are of similar quality to the one being requested."
   ]
  },
  {
   "cell_type": "markdown",
   "metadata": {},
   "source": [
    "### Similar Rating\n",
    "In order to keep track of what movies have what rating, let's aggregate `ratings.csv` into the `movies.csv` dataset that keeps track of all movies and their average rating. Because this is a large dataset, we will precompute it and save the results:"
   ]
  },
  {
   "cell_type": "code",
   "execution_count": 6,
   "metadata": {},
   "outputs": [
    {
     "data": {
      "text/html": [
       "<div>\n",
       "<style scoped>\n",
       "    .dataframe tbody tr th:only-of-type {\n",
       "        vertical-align: middle;\n",
       "    }\n",
       "\n",
       "    .dataframe tbody tr th {\n",
       "        vertical-align: top;\n",
       "    }\n",
       "\n",
       "    .dataframe thead th {\n",
       "        text-align: right;\n",
       "    }\n",
       "</style>\n",
       "<table border=\"1\" class=\"dataframe\">\n",
       "  <thead>\n",
       "    <tr style=\"text-align: right;\">\n",
       "      <th></th>\n",
       "      <th>movieId</th>\n",
       "      <th>title</th>\n",
       "      <th>genres</th>\n",
       "      <th>avgMovieRating</th>\n",
       "      <th>numMovieRatings</th>\n",
       "    </tr>\n",
       "  </thead>\n",
       "  <tbody>\n",
       "    <tr>\n",
       "      <td>0</td>\n",
       "      <td>1</td>\n",
       "      <td>Toy Story (1995)</td>\n",
       "      <td>Adventure|Animation|Children|Comedy|Fantasy</td>\n",
       "      <td>3.921240</td>\n",
       "      <td>49695</td>\n",
       "    </tr>\n",
       "    <tr>\n",
       "      <td>1</td>\n",
       "      <td>2</td>\n",
       "      <td>Jumanji (1995)</td>\n",
       "      <td>Adventure|Children|Fantasy</td>\n",
       "      <td>3.211977</td>\n",
       "      <td>22243</td>\n",
       "    </tr>\n",
       "    <tr>\n",
       "      <td>2</td>\n",
       "      <td>3</td>\n",
       "      <td>Grumpier Old Men (1995)</td>\n",
       "      <td>Comedy|Romance</td>\n",
       "      <td>3.151040</td>\n",
       "      <td>12735</td>\n",
       "    </tr>\n",
       "    <tr>\n",
       "      <td>3</td>\n",
       "      <td>4</td>\n",
       "      <td>Waiting to Exhale (1995)</td>\n",
       "      <td>Comedy|Drama|Romance</td>\n",
       "      <td>2.861393</td>\n",
       "      <td>2756</td>\n",
       "    </tr>\n",
       "    <tr>\n",
       "      <td>4</td>\n",
       "      <td>5</td>\n",
       "      <td>Father of the Bride Part II (1995)</td>\n",
       "      <td>Comedy</td>\n",
       "      <td>3.064592</td>\n",
       "      <td>12161</td>\n",
       "    </tr>\n",
       "  </tbody>\n",
       "</table>\n",
       "</div>"
      ],
      "text/plain": [
       "   movieId                               title  \\\n",
       "0        1                    Toy Story (1995)   \n",
       "1        2                      Jumanji (1995)   \n",
       "2        3             Grumpier Old Men (1995)   \n",
       "3        4            Waiting to Exhale (1995)   \n",
       "4        5  Father of the Bride Part II (1995)   \n",
       "\n",
       "                                        genres  avgMovieRating  \\\n",
       "0  Adventure|Animation|Children|Comedy|Fantasy        3.921240   \n",
       "1                   Adventure|Children|Fantasy        3.211977   \n",
       "2                               Comedy|Romance        3.151040   \n",
       "3                         Comedy|Drama|Romance        2.861393   \n",
       "4                                       Comedy        3.064592   \n",
       "\n",
       "   numMovieRatings  \n",
       "0            49695  \n",
       "1            22243  \n",
       "2            12735  \n",
       "3             2756  \n",
       "4            12161  "
      ]
     },
     "execution_count": 6,
     "metadata": {},
     "output_type": "execute_result"
    }
   ],
   "source": [
    "# Check if we have already processed the data:\n",
    "if not path.exists(\"data/processed/movies_processed.csv\"):\n",
    "\n",
    "    # If not, group movies by their ID and calculate their average rating\n",
    "    avg_movie_rating = pd.DataFrame(ratings_df.groupby(\"movieId\").apply(lambda row: np.average(row[\"rating\"])),\n",
    "                                    columns=[\"avgMovieRating\"])\n",
    "\n",
    "    # Then, calculate how many ratings there are for each movie\n",
    "    num_movie_rating = pd.DataFrame(ratings_df[[\"movieId\", \"userId\"]].groupby(\"movieId\").agg(\"count\"))\\\n",
    "                            .rename({\"userId\": \"numMovieRatings\"}, axis=1)\n",
    "    avg_ratings_df = avg_movie_rating.merge(num_movie_rating, left_index=True, right_index=True)\n",
    "\n",
    "    movies_df = movies_df.merge(avg_ratings_df, left_on=\"movieId\", right_index=True)\n",
    "\n",
    "    # Save the processed data to a csv file\n",
    "    movies_df.to_csv(\"data/processed/movies_processed.csv\")\n",
    "\n",
    "# If we have already processed the data, retrieve it from the file\n",
    "else:\n",
    "    movies_df = pd.read_csv(\"data/processed/movies_processed.csv\")\n",
    "    movies_df.drop(movies_df.columns[0], axis=1, inplace=True) # Get rid of index column\n",
    "\n",
    "movies_df.head()"
   ]
  },
  {
   "cell_type": "markdown",
   "metadata": {},
   "source": [
    "### Tags\n",
    "All of the movies listed should have tags associated with them. Because I do not want to add all **1128** tags and their respective relevancy to the movie dataframe (adding 1128 columns, yeesh!) I will instead simply reference the `g_scores_df` dataframe and use a relevency factor (more information later) to compare movies."
   ]
  },
  {
   "cell_type": "markdown",
   "metadata": {},
   "source": [
    "## Data Filtering\n",
    "We only care about the movies that are included in the `genome-scores.csv` dataset, so let's get rid of any movie that is not in that dataset:"
   ]
  },
  {
   "cell_type": "code",
   "execution_count": 7,
   "metadata": {},
   "outputs": [],
   "source": [
    "# Get all valid movie IDs\n",
    "valid_ids = np.intersect1d(movies_df[\"movieId\"].unique(), g_scores_df[\"movieId\"].unique())\n",
    "\n",
    "movies_df = movies_df[np.isin(movies_df[\"movieId\"], valid_ids)]\n",
    "g_scores_df = g_scores_df[np.isin(g_scores_df[\"movieId\"], valid_ids)]"
   ]
  },
  {
   "cell_type": "markdown",
   "metadata": {},
   "source": [
    "## Analysis\n",
    "Let's analyze some movie relationships! Let's do this by visualizing how movies are similar to one another, and then using clustering to group them up. The way we will do this will be specifying similar movies by `tags`, as we will see soon. First, let's pick a movie to test it on:"
   ]
  },
  {
   "cell_type": "code",
   "execution_count": 8,
   "metadata": {},
   "outputs": [],
   "source": [
    "import matplotlib.pyplot as plt\n",
    "from sklearn.cluster import KMeans\n",
    "from sklearn.cluster import AgglomerativeClustering\n",
    "\n",
    "# The Blues Brothers is my favorite movie, so we'll use that as our test\n",
    "test_movie = movies_df.loc[movies_df[\"title\"].str.contains(\"Blues Brothers, The\")]\n",
    "test_movie_id = test_movie[\"movieId\"].values[0]\n",
    "test_movie_title = test_movie[\"title\"].values[0]\n",
    "test_movie_rating = test_movie[\"avgMovieRating\"].values[0]"
   ]
  },
  {
   "cell_type": "markdown",
   "metadata": {},
   "source": [
    "### Specify by Tag\n",
    "We can use specific tags and their relevance to movies as a way to find relationships between movies. To do this, we must first find what tags are most representative of the movie we are looking for. For this, we will get the top 3 most relevant tags:"
   ]
  },
  {
   "cell_type": "code",
   "execution_count": 9,
   "metadata": {
    "scrolled": true
   },
   "outputs": [
    {
     "name": "stdout",
     "output_type": "stream",
     "text": [
      "0: music\n",
      "1: musicians\n",
      "2: chase\n"
     ]
    }
   ],
   "source": [
    "most_relevant_tags = g_scores_df[g_scores_df[\"movieId\"] == test_movie_id]\\\n",
    "                        .sort_values(by=[\"relevance\"], ascending=False)\\\n",
    "                        .take([0, 1, 2])\n",
    "most_relevant_tag_ids = most_relevant_tags[\"tagId\"].values\n",
    "\n",
    "for i in range(3):\n",
    "    print(\"%d: %s\" % (i, g_tags_df[\"tag\"][g_tags_df[\"tagId\"] == most_relevant_tag_ids[i]].values[0]))"
   ]
  },
  {
   "cell_type": "markdown",
   "metadata": {},
   "source": [
    "Now we can use these 3 tags to find similar movies. Let's start by creating a `Relevance Factor`, or a number (with a max value of 3) that tells how alike a movie is to the test movie according to the relevancy of its tags. Because this takes a very long time, we will save the processed file in a csv file:"
   ]
  },
  {
   "cell_type": "code",
   "execution_count": 10,
   "metadata": {},
   "outputs": [
    {
     "data": {
      "text/html": [
       "<div>\n",
       "<style scoped>\n",
       "    .dataframe tbody tr th:only-of-type {\n",
       "        vertical-align: middle;\n",
       "    }\n",
       "\n",
       "    .dataframe tbody tr th {\n",
       "        vertical-align: top;\n",
       "    }\n",
       "\n",
       "    .dataframe thead th {\n",
       "        text-align: right;\n",
       "    }\n",
       "</style>\n",
       "<table border=\"1\" class=\"dataframe\">\n",
       "  <thead>\n",
       "    <tr style=\"text-align: right;\">\n",
       "      <th></th>\n",
       "      <th>movieId</th>\n",
       "      <th>title</th>\n",
       "      <th>genres</th>\n",
       "      <th>avgMovieRating</th>\n",
       "      <th>numMovieRatings</th>\n",
       "      <th>relevanceFactor</th>\n",
       "    </tr>\n",
       "  </thead>\n",
       "  <tbody>\n",
       "    <tr>\n",
       "      <td>0</td>\n",
       "      <td>1</td>\n",
       "      <td>Toy Story (1995)</td>\n",
       "      <td>Adventure|Animation|Children|Comedy|Fantasy</td>\n",
       "      <td>3.921240</td>\n",
       "      <td>49695</td>\n",
       "      <td>0.66350</td>\n",
       "    </tr>\n",
       "    <tr>\n",
       "      <td>1</td>\n",
       "      <td>2</td>\n",
       "      <td>Jumanji (1995)</td>\n",
       "      <td>Adventure|Children|Fantasy</td>\n",
       "      <td>3.211977</td>\n",
       "      <td>22243</td>\n",
       "      <td>0.68325</td>\n",
       "    </tr>\n",
       "    <tr>\n",
       "      <td>2</td>\n",
       "      <td>3</td>\n",
       "      <td>Grumpier Old Men (1995)</td>\n",
       "      <td>Comedy|Romance</td>\n",
       "      <td>3.151040</td>\n",
       "      <td>12735</td>\n",
       "      <td>0.58400</td>\n",
       "    </tr>\n",
       "    <tr>\n",
       "      <td>3</td>\n",
       "      <td>4</td>\n",
       "      <td>Waiting to Exhale (1995)</td>\n",
       "      <td>Comedy|Drama|Romance</td>\n",
       "      <td>2.861393</td>\n",
       "      <td>2756</td>\n",
       "      <td>0.36725</td>\n",
       "    </tr>\n",
       "    <tr>\n",
       "      <td>4</td>\n",
       "      <td>5</td>\n",
       "      <td>Father of the Bride Part II (1995)</td>\n",
       "      <td>Comedy</td>\n",
       "      <td>3.064592</td>\n",
       "      <td>12161</td>\n",
       "      <td>0.62250</td>\n",
       "    </tr>\n",
       "  </tbody>\n",
       "</table>\n",
       "</div>"
      ],
      "text/plain": [
       "   movieId                               title  \\\n",
       "0        1                    Toy Story (1995)   \n",
       "1        2                      Jumanji (1995)   \n",
       "2        3             Grumpier Old Men (1995)   \n",
       "3        4            Waiting to Exhale (1995)   \n",
       "4        5  Father of the Bride Part II (1995)   \n",
       "\n",
       "                                        genres  avgMovieRating  \\\n",
       "0  Adventure|Animation|Children|Comedy|Fantasy        3.921240   \n",
       "1                   Adventure|Children|Fantasy        3.211977   \n",
       "2                               Comedy|Romance        3.151040   \n",
       "3                         Comedy|Drama|Romance        2.861393   \n",
       "4                                       Comedy        3.064592   \n",
       "\n",
       "   numMovieRatings  relevanceFactor  \n",
       "0            49695          0.66350  \n",
       "1            22243          0.68325  \n",
       "2            12735          0.58400  \n",
       "3             2756          0.36725  \n",
       "4            12161          0.62250  "
      ]
     },
     "execution_count": 10,
     "metadata": {},
     "output_type": "execute_result"
    }
   ],
   "source": [
    "test_movie_df = pd.DataFrame(movies_df)\n",
    "\n",
    "# Check if we have already processed the data:\n",
    "if not path.exists(\"data/processed/test_movie_dataset.csv\"):\n",
    "\n",
    "    def get_relevance_factor(row):\n",
    "        movie_id = row[\"movieId\"]\n",
    "        g_tags_movie = g_scores_df.loc[g_scores_df[\"movieId\"] == movie_id]\n",
    "        return sum(g_tags_movie.loc[g_tags_movie[\"tagId\"].isin(most_relevant_tag_ids), \"relevance\"])\n",
    "\n",
    "    # If not, run the relevance factor function on the dataset\n",
    "    test_movie_df[\"relevanceFactor\"] = test_movie_df.apply(get_relevance_factor, axis=1)\n",
    "\n",
    "    # Save the processed data to a csv file\n",
    "    test_movie_df.to_csv(\"data/processed/test_movie_dataset.csv\")\n",
    "\n",
    "# If we have already processed the data, retrieve it from the file\n",
    "else:\n",
    "    test_movie_df = pd.read_csv(\"data/processed/test_movie_dataset.csv\")\n",
    "    test_movie_df.drop(test_movie_df.columns[0], axis=1, inplace=True) # Get rid of index column\n",
    "\n",
    "test_movie_df.head()"
   ]
  },
  {
   "cell_type": "markdown",
   "metadata": {},
   "source": [
    "Let's define some data that we can use for the rest of the analysis:"
   ]
  },
  {
   "cell_type": "code",
   "execution_count": 11,
   "metadata": {},
   "outputs": [],
   "source": [
    "relevance_by_movie = pd.Series(test_movie_df[\"relevanceFactor\"].values, index=test_movie_df[\"movieId\"])\n",
    "rating_by_movie = pd.Series(test_movie_df[\"avgMovieRating\"].values, index=test_movie_df[\"movieId\"])\n",
    "\n",
    "data = np.array(list(zip(rating_by_movie.values, relevance_by_movie.values, rating_by_movie.index)))\n",
    "# To clean up the data, let's get rid of anything that has a relevance factor of 1 or less\n",
    "data = np.array(list(filter(lambda d: d[1] > 1, data)))\n",
    "\n",
    "test_movie_data_index = np.where(data[:, 2] == test_movie_id)[0][0]\n",
    "test_movie_relevency_factor = data[test_movie_data_index, 1]"
   ]
  },
  {
   "cell_type": "markdown",
   "metadata": {},
   "source": [
    "Let's go ahead and take a look at what our data looks like:"
   ]
  },
  {
   "cell_type": "code",
   "execution_count": 12,
   "metadata": {},
   "outputs": [
    {
     "data": {
      "image/png": "[encoded data removed]",
      "text/plain": [
       "<Figure size 720x360 with 1 Axes>"
      ]
     },
     "metadata": {
      "needs_background": "light"
     },
     "output_type": "display_data"
    }
   ],
   "source": [
    "plt.figure(figsize=(10, 5))\n",
    "\n",
    "plt.scatter(data[:, 0], data[:, 1])\n",
    "plt.title(\"Movies Plotted by Rating and Relevance\")\n",
    "plt.xlabel(\"Rating\")\n",
    "plt.ylabel(\"Relevance\")\n",
    "\n",
    "plt.scatter(test_movie_rating, test_movie_relevency_factor, c='r')\n",
    "plt.text(test_movie_rating + 0.1, test_movie_relevency_factor, test_movie_title, fontsize=12, bbox=dict(facecolor='red'))\n",
    "\n",
    "plt.show()"
   ]
  },
  {
   "cell_type": "markdown",
   "metadata": {},
   "source": [
    "Once we have this graph, we can use clustering to break up the data:"
   ]
  },
  {
   "cell_type": "markdown",
   "metadata": {},
   "source": [
    "#### K-Means"
   ]
  },
  {
   "cell_type": "code",
   "execution_count": 13,
   "metadata": {},
   "outputs": [],
   "source": [
    "# 10 seems like a good amount of clusters\n",
    "#   there's not too many so as to give us very few data points in each cluster,\n",
    "#   but there's still enough to keep the cluster sizes small and useful\n",
    "num_clusters = 10\n",
    "\n",
    "# Compute the k-means clustering\n",
    "kmeans = KMeans(n_clusters=num_clusters).fit(data[:, :2])\n",
    "labels = kmeans.labels_\n",
    "\n",
    "# Get similar movies\n",
    "test_movie_cluster = labels[test_movie_data_index]\n",
    "similar_movies_indices = np.where(labels == test_movie_cluster)\n",
    "similar_movies_ids = data[similar_movies_indices][:, 2]\n",
    "kmeans_similar_movies = test_movie_df[test_movie_df[\"movieId\"].isin(similar_movies_ids)]\\\n",
    "    .sort_values(by=[\"relevanceFactor\"], ascending=False)\n",
    "kmeans_similar_movies = kmeans_similar_movies.drop(kmeans_similar_movies.index[0]) # Drop our test movie"
   ]
  },
  {
   "cell_type": "code",
   "execution_count": 14,
   "metadata": {},
   "outputs": [
    {
     "data": {
      "image/png": "[encoded data removed]",
      "text/plain": [
       "<Figure size 720x360 with 1 Axes>"
      ]
     },
     "metadata": {
      "needs_background": "light"
     },
     "output_type": "display_data"
    }
   ],
   "source": [
    "plt.figure(figsize=(10, 5))\n",
    "plt.cool()\n",
    "\n",
    "plt.scatter(data[:, 0], data[:, 1], c=labels)\n",
    "\n",
    "plt.title(\"Movies Plotted by Rating and Relevance (Clustered with K-Means)\")\n",
    "plt.xlabel(\"Rating\")\n",
    "plt.ylabel(\"Relevance\")\n",
    "\n",
    "plt.scatter(test_movie_rating, test_movie_relevency_factor, c='k')\n",
    "plt.text(test_movie_rating + 0.1, test_movie_relevency_factor, test_movie_title, fontsize=12, bbox=dict(facecolor='red'))\n",
    "\n",
    "plt.show()"
   ]
  },
  {
   "cell_type": "markdown",
   "metadata": {},
   "source": [
    "#### Hierarchical Agglomerative Clustering"
   ]
  },
  {
   "cell_type": "code",
   "execution_count": 15,
   "metadata": {
    "scrolled": true
   },
   "outputs": [],
   "source": [
    "agg_clustering = AgglomerativeClustering(n_clusters=num_clusters).fit(data[:, :2])\n",
    "labels = agg_clustering.labels_\n",
    "\n",
    "test_movie_cluster = labels[test_movie_data_index]\n",
    "similar_movies_indices = np.where(labels == test_movie_cluster)\n",
    "similar_movies_ids = data[similar_movies_indices][:, 2]\n",
    "agg_similar_movies = test_movie_df[test_movie_df[\"movieId\"].isin(similar_movies_ids)]\\\n",
    "    .sort_values(by=[\"relevanceFactor\"], ascending=False)\n",
    "agg_similar_movies = agg_similar_movies.drop(agg_similar_movies.index[0]) # Drop our test movie"
   ]
  },
  {
   "cell_type": "code",
   "execution_count": 16,
   "metadata": {
    "scrolled": true
   },
   "outputs": [
    {
     "data": {
      "image/png": "[encoded data removed]",
      "text/plain": [
       "<Figure size 720x360 with 1 Axes>"
      ]
     },
     "metadata": {
      "needs_background": "light"
     },
     "output_type": "display_data"
    }
   ],
   "source": [
    "plt.figure(figsize=(10, 5))\n",
    "\n",
    "plt.scatter(data[:, 0], data[:, 1], c=agg_clustering.labels_)\n",
    "\n",
    "plt.title(\"Movies Plotted by Rating and Relevance (Clustered with Agglomerative Clustering)\")\n",
    "plt.xlabel(\"Rating\")\n",
    "plt.ylabel(\"Relevance\")\n",
    "\n",
    "plt.scatter(test_movie_rating, test_movie_relevency_factor, c='k')\n",
    "plt.text(test_movie_rating + 0.1, test_movie_relevency_factor, test_movie_title, fontsize=12, bbox=dict(facecolor='red'))\n",
    "\n",
    "plt.show()"
   ]
  },
  {
   "cell_type": "markdown",
   "metadata": {},
   "source": [
    "### What Should I Watch?\n",
    "Moment of truth, let's check out some similar movies:"
   ]
  },
  {
   "cell_type": "code",
   "execution_count": 17,
   "metadata": {},
   "outputs": [
    {
     "data": {
      "text/html": [
       "<div>\n",
       "<style scoped>\n",
       "    .dataframe tbody tr th:only-of-type {\n",
       "        vertical-align: middle;\n",
       "    }\n",
       "\n",
       "    .dataframe tbody tr th {\n",
       "        vertical-align: top;\n",
       "    }\n",
       "\n",
       "    .dataframe thead th {\n",
       "        text-align: right;\n",
       "    }\n",
       "</style>\n",
       "<table border=\"1\" class=\"dataframe\">\n",
       "  <thead>\n",
       "    <tr style=\"text-align: right;\">\n",
       "      <th></th>\n",
       "      <th>movieId</th>\n",
       "      <th>title</th>\n",
       "      <th>genres</th>\n",
       "      <th>avgMovieRating</th>\n",
       "      <th>numMovieRatings</th>\n",
       "      <th>relevanceFactor</th>\n",
       "    </tr>\n",
       "  </thead>\n",
       "  <tbody>\n",
       "    <tr>\n",
       "      <td>9782</td>\n",
       "      <td>101106</td>\n",
       "      <td>Sound City (2013)</td>\n",
       "      <td>Documentary</td>\n",
       "      <td>3.812500</td>\n",
       "      <td>72</td>\n",
       "      <td>2.75025</td>\n",
       "    </tr>\n",
       "    <tr>\n",
       "      <td>4277</td>\n",
       "      <td>4824</td>\n",
       "      <td>Grateful Dawg (2000)</td>\n",
       "      <td>Documentary</td>\n",
       "      <td>3.665217</td>\n",
       "      <td>115</td>\n",
       "      <td>2.66200</td>\n",
       "    </tr>\n",
       "    <tr>\n",
       "      <td>5058</td>\n",
       "      <td>5820</td>\n",
       "      <td>Standing in the Shadows of Motown (2002)</td>\n",
       "      <td>Documentary|Musical</td>\n",
       "      <td>3.870253</td>\n",
       "      <td>474</td>\n",
       "      <td>2.50700</td>\n",
       "    </tr>\n",
       "    <tr>\n",
       "      <td>7790</td>\n",
       "      <td>46347</td>\n",
       "      <td>Metal: A Headbanger's Journey (2005)</td>\n",
       "      <td>Documentary</td>\n",
       "      <td>3.586345</td>\n",
       "      <td>249</td>\n",
       "      <td>2.49850</td>\n",
       "    </tr>\n",
       "    <tr>\n",
       "      <td>60</td>\n",
       "      <td>62</td>\n",
       "      <td>Mr. Holland's Opus (1995)</td>\n",
       "      <td>Drama</td>\n",
       "      <td>3.731825</td>\n",
       "      <td>19381</td>\n",
       "      <td>2.49000</td>\n",
       "    </tr>\n",
       "  </tbody>\n",
       "</table>\n",
       "</div>"
      ],
      "text/plain": [
       "      movieId                                     title               genres  \\\n",
       "9782   101106                         Sound City (2013)          Documentary   \n",
       "4277     4824                      Grateful Dawg (2000)          Documentary   \n",
       "5058     5820  Standing in the Shadows of Motown (2002)  Documentary|Musical   \n",
       "7790    46347      Metal: A Headbanger's Journey (2005)          Documentary   \n",
       "60         62                 Mr. Holland's Opus (1995)                Drama   \n",
       "\n",
       "      avgMovieRating  numMovieRatings  relevanceFactor  \n",
       "9782        3.812500               72          2.75025  \n",
       "4277        3.665217              115          2.66200  \n",
       "5058        3.870253              474          2.50700  \n",
       "7790        3.586345              249          2.49850  \n",
       "60          3.731825            19381          2.49000  "
      ]
     },
     "execution_count": 17,
     "metadata": {},
     "output_type": "execute_result"
    }
   ],
   "source": [
    "kmeans_similar_movies.head()"
   ]
  },
  {
   "cell_type": "code",
   "execution_count": 18,
   "metadata": {},
   "outputs": [
    {
     "data": {
      "text/html": [
       "<div>\n",
       "<style scoped>\n",
       "    .dataframe tbody tr th:only-of-type {\n",
       "        vertical-align: middle;\n",
       "    }\n",
       "\n",
       "    .dataframe tbody tr th {\n",
       "        vertical-align: top;\n",
       "    }\n",
       "\n",
       "    .dataframe thead th {\n",
       "        text-align: right;\n",
       "    }\n",
       "</style>\n",
       "<table border=\"1\" class=\"dataframe\">\n",
       "  <thead>\n",
       "    <tr style=\"text-align: right;\">\n",
       "      <th></th>\n",
       "      <th>movieId</th>\n",
       "      <th>title</th>\n",
       "      <th>genres</th>\n",
       "      <th>avgMovieRating</th>\n",
       "      <th>numMovieRatings</th>\n",
       "      <th>relevanceFactor</th>\n",
       "    </tr>\n",
       "  </thead>\n",
       "  <tbody>\n",
       "    <tr>\n",
       "      <td>9782</td>\n",
       "      <td>101106</td>\n",
       "      <td>Sound City (2013)</td>\n",
       "      <td>Documentary</td>\n",
       "      <td>3.812500</td>\n",
       "      <td>72</td>\n",
       "      <td>2.75025</td>\n",
       "    </tr>\n",
       "    <tr>\n",
       "      <td>4277</td>\n",
       "      <td>4824</td>\n",
       "      <td>Grateful Dawg (2000)</td>\n",
       "      <td>Documentary</td>\n",
       "      <td>3.665217</td>\n",
       "      <td>115</td>\n",
       "      <td>2.66200</td>\n",
       "    </tr>\n",
       "    <tr>\n",
       "      <td>5058</td>\n",
       "      <td>5820</td>\n",
       "      <td>Standing in the Shadows of Motown (2002)</td>\n",
       "      <td>Documentary|Musical</td>\n",
       "      <td>3.870253</td>\n",
       "      <td>474</td>\n",
       "      <td>2.50700</td>\n",
       "    </tr>\n",
       "    <tr>\n",
       "      <td>7790</td>\n",
       "      <td>46347</td>\n",
       "      <td>Metal: A Headbanger's Journey (2005)</td>\n",
       "      <td>Documentary</td>\n",
       "      <td>3.586345</td>\n",
       "      <td>249</td>\n",
       "      <td>2.49850</td>\n",
       "    </tr>\n",
       "    <tr>\n",
       "      <td>60</td>\n",
       "      <td>62</td>\n",
       "      <td>Mr. Holland's Opus (1995)</td>\n",
       "      <td>Drama</td>\n",
       "      <td>3.731825</td>\n",
       "      <td>19381</td>\n",
       "      <td>2.49000</td>\n",
       "    </tr>\n",
       "  </tbody>\n",
       "</table>\n",
       "</div>"
      ],
      "text/plain": [
       "      movieId                                     title               genres  \\\n",
       "9782   101106                         Sound City (2013)          Documentary   \n",
       "4277     4824                      Grateful Dawg (2000)          Documentary   \n",
       "5058     5820  Standing in the Shadows of Motown (2002)  Documentary|Musical   \n",
       "7790    46347      Metal: A Headbanger's Journey (2005)          Documentary   \n",
       "60         62                 Mr. Holland's Opus (1995)                Drama   \n",
       "\n",
       "      avgMovieRating  numMovieRatings  relevanceFactor  \n",
       "9782        3.812500               72          2.75025  \n",
       "4277        3.665217              115          2.66200  \n",
       "5058        3.870253              474          2.50700  \n",
       "7790        3.586345              249          2.49850  \n",
       "60          3.731825            19381          2.49000  "
      ]
     },
     "execution_count": 18,
     "metadata": {},
     "output_type": "execute_result"
    }
   ],
   "source": [
    "agg_similar_movies.head()"
   ]
  },
  {
   "cell_type": "markdown",
   "metadata": {},
   "source": [
    "It seems that both of our methods recommend a few different movies. It is important to not that all 5 of these movies all have something to do with `music` and `musicians`, 2 of the 3 tags we searched for. It is interesting how most of the recommended movies are `Documentaries`, unlike our test movie which is a `Comedy`. This is something that could be expanded on in subsequent research."
   ]
  },
  {
   "cell_type": "markdown",
   "metadata": {},
   "source": [
    "## Conclusion\n",
    "After clustering movies together using a ratings and tags approach, we were able to generate a list of movies that are similar in content to the movie that we tested on. The two approaches I used were **K-Means** and **Hierarchical Agglomerative Clustering**. I used K-Means because it was simple and fast, and I used HAC because it has a higher success rate than K-Means. I chose both of them for the main reason that I would be able to seperate the data into a set number of clusters. I did this to make sure that the cluster sizes weren't too big that movies caught in the cluster would not be similar to the test movie, but also too small to not be helpful. In the end, I believe that our list was sufficient, and with a result of around _70_ movies, there is plenty to watch."
   ]
  },
  {
   "cell_type": "markdown",
   "metadata": {},
   "source": [
    "### What Next?\n",
    "Where could we go from here? An easy thing we could do is update our relevancy factor calculation function to take into account other factors, such as `genre`. A challenge there would be balancing the importance of `tags` vs `genre`. Speaking of tags, another thing we could do is increase the amount of tags used to calculate the relevance factor. In this solution, I used _3_, but the function could easily be expanded to take in all of the tags, if you don't mind waiting a few hours for the computer to calculate all of the movies' relevancies. Another useful thing to do would be to take into account how many reviews were placed for a given movie. This is a good indicator of popularity as well as would add credibility to the `average movie rating`."
   ]
  }
 ],
 "metadata": {
  "kernelspec": {
   "display_name": "Python 3",
   "language": "python",
   "name": "python3"
  },
  "language_info": {
   "codemirror_mode": {
    "name": "ipython",
    "version": 3
   },
   "file_extension": ".py",
   "mimetype": "text/x-python",
   "name": "python",
   "nbconvert_exporter": "python",
   "pygments_lexer": "ipython3",
   "version": "3.7.4"
  }
 },
 "nbformat": 4,
 "nbformat_minor": 2
}
